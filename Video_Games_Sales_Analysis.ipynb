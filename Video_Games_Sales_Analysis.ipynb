{
 "cells": [
  {
   "cell_type": "markdown",
   "metadata": {
    "toc": true
   },
   "source": [
    "<h1>Table of Contents<span class=\"tocSkip\"></span></h1>\n",
    "<div class=\"toc\"><ul class=\"toc-item\"><li><span><a href=\"#Getting-to-know-data\" data-toc-modified-id=\"Getting-to-know-data-1\"><span class=\"toc-item-num\">1&nbsp;&nbsp;</span>Getting to know data</a></span></li><li><span><a href=\"#Data-preparation\" data-toc-modified-id=\"Data-preparation-2\"><span class=\"toc-item-num\">2&nbsp;&nbsp;</span>Data preparation</a></span><ul class=\"toc-item\"><li><span><a href=\"#Analyzing-missing-data\" data-toc-modified-id=\"Analyzing-missing-data-2.1\"><span class=\"toc-item-num\">2.1&nbsp;&nbsp;</span>Analyzing missing data</a></span></li><li><span><a href=\"#Analysis-by-column\" data-toc-modified-id=\"Analysis-by-column-2.2\"><span class=\"toc-item-num\">2.2&nbsp;&nbsp;</span>Analysis by column</a></span></li><li><span><a href=\"#Conclusion\" data-toc-modified-id=\"Conclusion-2.3\"><span class=\"toc-item-num\">2.3&nbsp;&nbsp;</span>Conclusion</a></span></li></ul></li><li><span><a href=\"#Data-analysis\" data-toc-modified-id=\"Data-analysis-3\"><span class=\"toc-item-num\">3&nbsp;&nbsp;</span>Data analysis</a></span><ul class=\"toc-item\"><li><span><a href=\"#Number-of-games-released-in-different-years\" data-toc-modified-id=\"Number-of-games-released-in-different-years-3.1\"><span class=\"toc-item-num\">3.1&nbsp;&nbsp;</span>Number of games released in different years</a></span></li><li><span><a href=\"#Variance-in-sales-from-platform-to-platform.-Choosing-relevant-data.\" data-toc-modified-id=\"Variance-in-sales-from-platform-to-platform.-Choosing-relevant-data.-3.2\"><span class=\"toc-item-num\">3.2&nbsp;&nbsp;</span>Variance in sales from platform to platform. Choosing relevant data.</a></span></li><li><span><a href=\"#What-platforms-are-potentially-profitable?\" data-toc-modified-id=\"What-platforms-are-potentially-profitable?-3.3\"><span class=\"toc-item-num\">3.3&nbsp;&nbsp;</span>What platforms are potentially profitable?</a></span></li><li><span><a href=\"#Global-sales-of-all-games,-broken-down-by-platform.\" data-toc-modified-id=\"Global-sales-of-all-games,-broken-down-by-platform.-3.4\"><span class=\"toc-item-num\">3.4&nbsp;&nbsp;</span>Global sales of all games, broken down by platform.</a></span></li><li><span><a href=\"#How-user-and-professional-reviews-affect-sales\" data-toc-modified-id=\"How-user-and-professional-reviews-affect-sales-3.5\"><span class=\"toc-item-num\">3.5&nbsp;&nbsp;</span>How user and professional reviews affect sales</a></span></li><li><span><a href=\"#How-user-and-professional-reviews-affect-sales-of-the-same-game-on-different-platforms\" data-toc-modified-id=\"How-user-and-professional-reviews-affect-sales-of-the-same-game-on-different-platforms-3.6\"><span class=\"toc-item-num\">3.6&nbsp;&nbsp;</span>How user and professional reviews affect sales of the same game on different platforms</a></span></li><li><span><a href=\"#General-distribution-of-games-sales-by-genre.\" data-toc-modified-id=\"General-distribution-of-games-sales-by-genre.-3.7\"><span class=\"toc-item-num\">3.7&nbsp;&nbsp;</span>General distribution of games sales by genre.</a></span></li><li><span><a href=\"#Top-five-platforms-by-region\" data-toc-modified-id=\"Top-five-platforms-by-region-3.8\"><span class=\"toc-item-num\">3.8&nbsp;&nbsp;</span>Top five platforms by region</a></span></li><li><span><a href=\"#Top-five-genres-by-region\" data-toc-modified-id=\"Top-five-genres-by-region-3.9\"><span class=\"toc-item-num\">3.9&nbsp;&nbsp;</span>Top five genres by region</a></span></li><li><span><a href=\"#ESRB-rating-effect-on-sales-by-region\" data-toc-modified-id=\"ESRB-rating-effect-on-sales-by-region-3.10\"><span class=\"toc-item-num\">3.10&nbsp;&nbsp;</span>ESRB rating effect on sales by region</a></span></li></ul></li><li><span><a href=\"#Hypotheses-testing\" data-toc-modified-id=\"Hypotheses-testing-4\"><span class=\"toc-item-num\">4&nbsp;&nbsp;</span>Hypotheses testing</a></span><ul class=\"toc-item\"><li><span><a href=\"#Average-user-ratings-of-the-XBox-One-and-PC-platforms-are-the-same\" data-toc-modified-id=\"Average-user-ratings-of-the-XBox-One-and-PC-platforms-are-the-same-4.1\"><span class=\"toc-item-num\">4.1&nbsp;&nbsp;</span>Average user ratings of the XBox One and PC platforms are the same</a></span></li><li><span><a href=\"#Average-user-ratings-of-the-Action-and-Sports-genres-are-different\" data-toc-modified-id=\"Average-user-ratings-of-the-Action-and-Sports-genres-are-different-4.2\"><span class=\"toc-item-num\">4.2&nbsp;&nbsp;</span>Average user ratings of the Action and Sports genres are different</a></span></li></ul></li><li><span><a href=\"#Project-Conclusion\" data-toc-modified-id=\"Project-Conclusion-5\"><span class=\"toc-item-num\">5&nbsp;&nbsp;</span>Project Conclusion</a></span></li></ul></div>"
   ]
  },
  {
   "cell_type": "markdown",
   "metadata": {},
   "source": [
    "# Getting to know data"
   ]
  },
  {
   "cell_type": "code",
   "execution_count": 1,
   "metadata": {},
   "outputs": [],
   "source": [
    "import numpy as np\n",
    "import pandas as pd\n",
    "import matplotlib.pyplot as plt\n",
    "import seaborn as sns\n",
    "from scipy import stats as st\n",
    "import missingno as msno\n",
    "import random\n",
    "\n",
    "from plotly.offline import init_notebook_mode, iplot\n",
    "import plotly\n",
    "import plotly.graph_objs as go\n",
    "\n",
    "%matplotlib inline\n",
    "\n",
    "pd.options.display.max_rows = 100\n",
    "pd.options.display.max_columns = 100"
   ]
  },
  {
   "cell_type": "code",
   "execution_count": 2,
   "metadata": {},
   "outputs": [
    {
     "data": {
      "text/html": [
       "<div>\n",
       "<style scoped>\n",
       "    .dataframe tbody tr th:only-of-type {\n",
       "        vertical-align: middle;\n",
       "    }\n",
       "\n",
       "    .dataframe tbody tr th {\n",
       "        vertical-align: top;\n",
       "    }\n",
       "\n",
       "    .dataframe thead th {\n",
       "        text-align: right;\n",
       "    }\n",
       "</style>\n",
       "<table border=\"1\" class=\"dataframe\">\n",
       "  <thead>\n",
       "    <tr style=\"text-align: right;\">\n",
       "      <th></th>\n",
       "      <th>Name</th>\n",
       "      <th>Platform</th>\n",
       "      <th>Year_of_Release</th>\n",
       "      <th>Genre</th>\n",
       "      <th>NA_sales</th>\n",
       "      <th>EU_sales</th>\n",
       "      <th>JP_sales</th>\n",
       "      <th>Other_sales</th>\n",
       "      <th>Critic_Score</th>\n",
       "      <th>User_Score</th>\n",
       "      <th>Rating</th>\n",
       "    </tr>\n",
       "  </thead>\n",
       "  <tbody>\n",
       "    <tr>\n",
       "      <th>0</th>\n",
       "      <td>Wii Sports</td>\n",
       "      <td>Wii</td>\n",
       "      <td>2006.0</td>\n",
       "      <td>Sports</td>\n",
       "      <td>41.36</td>\n",
       "      <td>28.96</td>\n",
       "      <td>3.77</td>\n",
       "      <td>8.45</td>\n",
       "      <td>76.0</td>\n",
       "      <td>8</td>\n",
       "      <td>E</td>\n",
       "    </tr>\n",
       "    <tr>\n",
       "      <th>1</th>\n",
       "      <td>Super Mario Bros.</td>\n",
       "      <td>NES</td>\n",
       "      <td>1985.0</td>\n",
       "      <td>Platform</td>\n",
       "      <td>29.08</td>\n",
       "      <td>3.58</td>\n",
       "      <td>6.81</td>\n",
       "      <td>0.77</td>\n",
       "      <td>NaN</td>\n",
       "      <td>NaN</td>\n",
       "      <td>NaN</td>\n",
       "    </tr>\n",
       "    <tr>\n",
       "      <th>2</th>\n",
       "      <td>Mario Kart Wii</td>\n",
       "      <td>Wii</td>\n",
       "      <td>2008.0</td>\n",
       "      <td>Racing</td>\n",
       "      <td>15.68</td>\n",
       "      <td>12.76</td>\n",
       "      <td>3.79</td>\n",
       "      <td>3.29</td>\n",
       "      <td>82.0</td>\n",
       "      <td>8.3</td>\n",
       "      <td>E</td>\n",
       "    </tr>\n",
       "    <tr>\n",
       "      <th>3</th>\n",
       "      <td>Wii Sports Resort</td>\n",
       "      <td>Wii</td>\n",
       "      <td>2009.0</td>\n",
       "      <td>Sports</td>\n",
       "      <td>15.61</td>\n",
       "      <td>10.93</td>\n",
       "      <td>3.28</td>\n",
       "      <td>2.95</td>\n",
       "      <td>80.0</td>\n",
       "      <td>8</td>\n",
       "      <td>E</td>\n",
       "    </tr>\n",
       "    <tr>\n",
       "      <th>4</th>\n",
       "      <td>Pokemon Red/Pokemon Blue</td>\n",
       "      <td>GB</td>\n",
       "      <td>1996.0</td>\n",
       "      <td>Role-Playing</td>\n",
       "      <td>11.27</td>\n",
       "      <td>8.89</td>\n",
       "      <td>10.22</td>\n",
       "      <td>1.00</td>\n",
       "      <td>NaN</td>\n",
       "      <td>NaN</td>\n",
       "      <td>NaN</td>\n",
       "    </tr>\n",
       "  </tbody>\n",
       "</table>\n",
       "</div>"
      ],
      "text/plain": [
       "                       Name Platform  Year_of_Release         Genre  NA_sales  \\\n",
       "0                Wii Sports      Wii           2006.0        Sports     41.36   \n",
       "1         Super Mario Bros.      NES           1985.0      Platform     29.08   \n",
       "2            Mario Kart Wii      Wii           2008.0        Racing     15.68   \n",
       "3         Wii Sports Resort      Wii           2009.0        Sports     15.61   \n",
       "4  Pokemon Red/Pokemon Blue       GB           1996.0  Role-Playing     11.27   \n",
       "\n",
       "   EU_sales  JP_sales  Other_sales  Critic_Score User_Score Rating  \n",
       "0     28.96      3.77         8.45          76.0          8      E  \n",
       "1      3.58      6.81         0.77           NaN        NaN    NaN  \n",
       "2     12.76      3.79         3.29          82.0        8.3      E  \n",
       "3     10.93      3.28         2.95          80.0          8      E  \n",
       "4      8.89     10.22         1.00           NaN        NaN    NaN  "
      ]
     },
     "execution_count": 2,
     "metadata": {},
     "output_type": "execute_result"
    }
   ],
   "source": [
    "df = pd.read_csv('games.csv')\n",
    "df.head(5)"
   ]
  },
  {
   "cell_type": "code",
   "execution_count": 3,
   "metadata": {},
   "outputs": [
    {
     "name": "stdout",
     "output_type": "stream",
     "text": [
      "<class 'pandas.core.frame.DataFrame'>\n",
      "RangeIndex: 16715 entries, 0 to 16714\n",
      "Data columns (total 11 columns):\n",
      " #   Column           Non-Null Count  Dtype  \n",
      "---  ------           --------------  -----  \n",
      " 0   Name             16713 non-null  object \n",
      " 1   Platform         16715 non-null  object \n",
      " 2   Year_of_Release  16446 non-null  float64\n",
      " 3   Genre            16713 non-null  object \n",
      " 4   NA_sales         16715 non-null  float64\n",
      " 5   EU_sales         16715 non-null  float64\n",
      " 6   JP_sales         16715 non-null  float64\n",
      " 7   Other_sales      16715 non-null  float64\n",
      " 8   Critic_Score     8137 non-null   float64\n",
      " 9   User_Score       10014 non-null  object \n",
      " 10  Rating           9949 non-null   object \n",
      "dtypes: float64(6), object(5)\n",
      "memory usage: 1.4+ MB\n"
     ]
    }
   ],
   "source": [
    "df.info()"
   ]
  },
  {
   "cell_type": "markdown",
   "metadata": {},
   "source": [
    "Data in these columns has improper data type:\n",
    "    Year_of_Release in float needs to be converted to int.\n",
    "    User_Score in object needs to be converted to float.\n",
    "We will investigate data column by column and we might find some other opportunities for data type change.    "
   ]
  },
  {
   "cell_type": "markdown",
   "metadata": {},
   "source": [
    "Checking for duplicates:"
   ]
  },
  {
   "cell_type": "code",
   "execution_count": 4,
   "metadata": {},
   "outputs": [
    {
     "data": {
      "text/plain": [
       "0"
      ]
     },
     "execution_count": 4,
     "metadata": {},
     "output_type": "execute_result"
    }
   ],
   "source": [
    "df.duplicated().sum()"
   ]
  },
  {
   "cell_type": "markdown",
   "metadata": {},
   "source": [
    "There are no duplicated rows."
   ]
  },
  {
   "cell_type": "markdown",
   "metadata": {},
   "source": [
    "# Data preparation"
   ]
  },
  {
   "cell_type": "markdown",
   "metadata": {},
   "source": [
    "Converting column headers to lowercase:"
   ]
  },
  {
   "cell_type": "code",
   "execution_count": 5,
   "metadata": {},
   "outputs": [],
   "source": [
    "df.columns = df.columns.str.lower()"
   ]
  },
  {
   "cell_type": "markdown",
   "metadata": {},
   "source": [
    "## Analyzing missing data"
   ]
  },
  {
   "cell_type": "markdown",
   "metadata": {},
   "source": [
    "Let's determine location and amount of data missing in the table. The graph below is the visual representation of the amount of data missing by a column."
   ]
  },
  {
   "cell_type": "code",
   "execution_count": 6,
   "metadata": {},
   "outputs": [
    {
     "data": {
      "image/png": "[encoded data removed]",
      "text/plain": [
       "<Figure size 1296x216 with 3 Axes>"
      ]
     },
     "metadata": {
      "needs_background": "light"
     },
     "output_type": "display_data"
    }
   ],
   "source": [
    "msno.bar(df, figsize=(18, 3));"
   ]
  },
  {
   "cell_type": "markdown",
   "metadata": {},
   "source": [
    "Let's determine if there is a correlation between missing values in different columns. To do so we will use some other functions of the Missingno library. "
   ]
  },
  {
   "cell_type": "code",
   "execution_count": 7,
   "metadata": {},
   "outputs": [
    {
     "data": {
      "image/png": "[encoded data removed]",
      "text/plain": [
       "<Figure size 1800x720 with 2 Axes>"
      ]
     },
     "metadata": {
      "needs_background": "light"
     },
     "output_type": "display_data"
    }
   ],
   "source": [
    "msno.matrix(df);"
   ]
  },
  {
   "cell_type": "markdown",
   "metadata": {},
   "source": [
    "According to the graph above, there is some correlation between rows missing in the Critic Score, User Score and Rating columns, because we can see that the white lines are continuing across columns. The heat map below will tell us whether values are missing at random or there is a dependency."
   ]
  },
  {
   "cell_type": "code",
   "execution_count": 8,
   "metadata": {},
   "outputs": [
    {
     "data": {
      "image/png": "[encoded data removed]",
      "text/plain": [
       "<Figure size 720x432 with 2 Axes>"
      ]
     },
     "metadata": {
      "needs_background": "light"
     },
     "output_type": "display_data"
    }
   ],
   "source": [
    "msno.heatmap(df, figsize=(10, 6));"
   ]
  },
  {
   "cell_type": "markdown",
   "metadata": {},
   "source": [
    "We've got a very strong positive correlation between values missing in columns Genre and Name and also between the User Score - Critic Score and Rating - User Score column pairs. This suggests that if values are missing in one of the columns the other column of the pair will miss values too."
   ]
  },
  {
   "cell_type": "code",
   "execution_count": 9,
   "metadata": {},
   "outputs": [
    {
     "data": {
      "image/png": "[encoded data removed]",
      "text/plain": [
       "<Figure size 1800x720 with 1 Axes>"
      ]
     },
     "metadata": {
      "needs_background": "light"
     },
     "output_type": "display_data"
    }
   ],
   "source": [
    "msno.dendrogram(df);"
   ]
  },
  {
   "cell_type": "markdown",
   "metadata": {},
   "source": [
    "This dendrogram above also proves the suggestion above. We can see that there is a cluster in missing values \"User Score - Rating - Critics Score\" and a cluster \"Name - Genre\"."
   ]
  },
  {
   "cell_type": "markdown",
   "metadata": {},
   "source": [
    "## Analysis by column"
   ]
  },
  {
   "cell_type": "markdown",
   "metadata": {},
   "source": [
    "3.2.1 <b>name</b> Column"
   ]
  },
  {
   "cell_type": "code",
   "execution_count": 10,
   "metadata": {},
   "outputs": [
    {
     "data": {
      "text/html": [
       "<div>\n",
       "<style scoped>\n",
       "    .dataframe tbody tr th:only-of-type {\n",
       "        vertical-align: middle;\n",
       "    }\n",
       "\n",
       "    .dataframe tbody tr th {\n",
       "        vertical-align: top;\n",
       "    }\n",
       "\n",
       "    .dataframe thead th {\n",
       "        text-align: right;\n",
       "    }\n",
       "</style>\n",
       "<table border=\"1\" class=\"dataframe\">\n",
       "  <thead>\n",
       "    <tr style=\"text-align: right;\">\n",
       "      <th></th>\n",
       "      <th>name</th>\n",
       "      <th>platform</th>\n",
       "      <th>year_of_release</th>\n",
       "      <th>genre</th>\n",
       "      <th>na_sales</th>\n",
       "      <th>eu_sales</th>\n",
       "      <th>jp_sales</th>\n",
       "      <th>other_sales</th>\n",
       "      <th>critic_score</th>\n",
       "      <th>user_score</th>\n",
       "      <th>rating</th>\n",
       "    </tr>\n",
       "  </thead>\n",
       "  <tbody>\n",
       "    <tr>\n",
       "      <th>659</th>\n",
       "      <td>NaN</td>\n",
       "      <td>GEN</td>\n",
       "      <td>1993.0</td>\n",
       "      <td>NaN</td>\n",
       "      <td>1.78</td>\n",
       "      <td>0.53</td>\n",
       "      <td>0.00</td>\n",
       "      <td>0.08</td>\n",
       "      <td>NaN</td>\n",
       "      <td>NaN</td>\n",
       "      <td>NaN</td>\n",
       "    </tr>\n",
       "    <tr>\n",
       "      <th>14244</th>\n",
       "      <td>NaN</td>\n",
       "      <td>GEN</td>\n",
       "      <td>1993.0</td>\n",
       "      <td>NaN</td>\n",
       "      <td>0.00</td>\n",
       "      <td>0.00</td>\n",
       "      <td>0.03</td>\n",
       "      <td>0.00</td>\n",
       "      <td>NaN</td>\n",
       "      <td>NaN</td>\n",
       "      <td>NaN</td>\n",
       "    </tr>\n",
       "  </tbody>\n",
       "</table>\n",
       "</div>"
      ],
      "text/plain": [
       "      name platform  year_of_release genre  na_sales  eu_sales  jp_sales  \\\n",
       "659    NaN      GEN           1993.0   NaN      1.78      0.53      0.00   \n",
       "14244  NaN      GEN           1993.0   NaN      0.00      0.00      0.03   \n",
       "\n",
       "       other_sales  critic_score user_score rating  \n",
       "659           0.08           NaN        NaN    NaN  \n",
       "14244         0.00           NaN        NaN    NaN  "
      ]
     },
     "execution_count": 10,
     "metadata": {},
     "output_type": "execute_result"
    }
   ],
   "source": [
    "df.loc[df['name'].isnull(), :]"
   ]
  },
  {
   "cell_type": "markdown",
   "metadata": {},
   "source": [
    "The rows with missing values in the Name column also miss values in the Platform and Genre columns. The reason this info is missing is probably a data extraction error. There is no way to guess them, so we are going to drop them. On this step we will loose only 1.6% of data, with is tolerable."
   ]
  },
  {
   "cell_type": "code",
   "execution_count": 11,
   "metadata": {},
   "outputs": [],
   "source": [
    "df.dropna(subset=['name', 'platform'], inplace=True)"
   ]
  },
  {
   "cell_type": "code",
   "execution_count": 12,
   "metadata": {},
   "outputs": [
    {
     "data": {
      "text/plain": [
       "11559"
      ]
     },
     "execution_count": 12,
     "metadata": {},
     "output_type": "execute_result"
    }
   ],
   "source": [
    "len(df.name.unique())"
   ]
  },
  {
   "cell_type": "markdown",
   "metadata": {},
   "source": [
    "There are 11559 unique values in the name column, which means that one name can be present in more than two columns."
   ]
  },
  {
   "cell_type": "code",
   "execution_count": 13,
   "metadata": {},
   "outputs": [
    {
     "data": {
      "text/html": [
       "<div>\n",
       "<style scoped>\n",
       "    .dataframe tbody tr th:only-of-type {\n",
       "        vertical-align: middle;\n",
       "    }\n",
       "\n",
       "    .dataframe tbody tr th {\n",
       "        vertical-align: top;\n",
       "    }\n",
       "\n",
       "    .dataframe thead th {\n",
       "        text-align: right;\n",
       "    }\n",
       "</style>\n",
       "<table border=\"1\" class=\"dataframe\">\n",
       "  <thead>\n",
       "    <tr style=\"text-align: right;\">\n",
       "      <th></th>\n",
       "      <th>name</th>\n",
       "      <th>platform</th>\n",
       "      <th>year_of_release</th>\n",
       "      <th>genre</th>\n",
       "      <th>na_sales</th>\n",
       "      <th>eu_sales</th>\n",
       "      <th>jp_sales</th>\n",
       "      <th>other_sales</th>\n",
       "      <th>critic_score</th>\n",
       "      <th>user_score</th>\n",
       "      <th>rating</th>\n",
       "    </tr>\n",
       "  </thead>\n",
       "  <tbody>\n",
       "    <tr>\n",
       "      <th>1</th>\n",
       "      <td>Super Mario Bros.</td>\n",
       "      <td>NES</td>\n",
       "      <td>1985.0</td>\n",
       "      <td>Platform</td>\n",
       "      <td>29.08</td>\n",
       "      <td>3.58</td>\n",
       "      <td>6.81</td>\n",
       "      <td>0.77</td>\n",
       "      <td>NaN</td>\n",
       "      <td>NaN</td>\n",
       "      <td>NaN</td>\n",
       "    </tr>\n",
       "    <tr>\n",
       "      <th>5</th>\n",
       "      <td>Tetris</td>\n",
       "      <td>GB</td>\n",
       "      <td>1989.0</td>\n",
       "      <td>Puzzle</td>\n",
       "      <td>23.20</td>\n",
       "      <td>2.26</td>\n",
       "      <td>4.22</td>\n",
       "      <td>0.58</td>\n",
       "      <td>NaN</td>\n",
       "      <td>NaN</td>\n",
       "      <td>NaN</td>\n",
       "    </tr>\n",
       "    <tr>\n",
       "      <th>16</th>\n",
       "      <td>Grand Theft Auto V</td>\n",
       "      <td>PS3</td>\n",
       "      <td>2013.0</td>\n",
       "      <td>Action</td>\n",
       "      <td>7.02</td>\n",
       "      <td>9.09</td>\n",
       "      <td>0.98</td>\n",
       "      <td>3.96</td>\n",
       "      <td>97.0</td>\n",
       "      <td>8.2</td>\n",
       "      <td>M</td>\n",
       "    </tr>\n",
       "    <tr>\n",
       "      <th>17</th>\n",
       "      <td>Grand Theft Auto: San Andreas</td>\n",
       "      <td>PS2</td>\n",
       "      <td>2004.0</td>\n",
       "      <td>Action</td>\n",
       "      <td>9.43</td>\n",
       "      <td>0.40</td>\n",
       "      <td>0.41</td>\n",
       "      <td>10.57</td>\n",
       "      <td>95.0</td>\n",
       "      <td>9</td>\n",
       "      <td>M</td>\n",
       "    </tr>\n",
       "    <tr>\n",
       "      <th>18</th>\n",
       "      <td>Super Mario World</td>\n",
       "      <td>SNES</td>\n",
       "      <td>1990.0</td>\n",
       "      <td>Platform</td>\n",
       "      <td>12.78</td>\n",
       "      <td>3.75</td>\n",
       "      <td>3.54</td>\n",
       "      <td>0.55</td>\n",
       "      <td>NaN</td>\n",
       "      <td>NaN</td>\n",
       "      <td>NaN</td>\n",
       "    </tr>\n",
       "  </tbody>\n",
       "</table>\n",
       "</div>"
      ],
      "text/plain": [
       "                             name platform  year_of_release     genre  \\\n",
       "1               Super Mario Bros.      NES           1985.0  Platform   \n",
       "5                          Tetris       GB           1989.0    Puzzle   \n",
       "16             Grand Theft Auto V      PS3           2013.0    Action   \n",
       "17  Grand Theft Auto: San Andreas      PS2           2004.0    Action   \n",
       "18              Super Mario World     SNES           1990.0  Platform   \n",
       "\n",
       "    na_sales  eu_sales  jp_sales  other_sales  critic_score user_score rating  \n",
       "1      29.08      3.58      6.81         0.77           NaN        NaN    NaN  \n",
       "5      23.20      2.26      4.22         0.58           NaN        NaN    NaN  \n",
       "16      7.02      9.09      0.98         3.96          97.0        8.2      M  \n",
       "17      9.43      0.40      0.41        10.57          95.0          9      M  \n",
       "18     12.78      3.75      3.54         0.55           NaN        NaN    NaN  "
      ]
     },
     "execution_count": 13,
     "metadata": {},
     "output_type": "execute_result"
    }
   ],
   "source": [
    "# Getting games with the name on two or more platforms.\n",
    "df.groupby(['name']).filter(lambda x: x['platform'].count() >= 2).head(5)"
   ]
  },
  {
   "cell_type": "code",
   "execution_count": 14,
   "metadata": {},
   "outputs": [
    {
     "data": {
      "text/html": [
       "<div>\n",
       "<style scoped>\n",
       "    .dataframe tbody tr th:only-of-type {\n",
       "        vertical-align: middle;\n",
       "    }\n",
       "\n",
       "    .dataframe tbody tr th {\n",
       "        vertical-align: top;\n",
       "    }\n",
       "\n",
       "    .dataframe thead th {\n",
       "        text-align: right;\n",
       "    }\n",
       "</style>\n",
       "<table border=\"1\" class=\"dataframe\">\n",
       "  <thead>\n",
       "    <tr style=\"text-align: right;\">\n",
       "      <th></th>\n",
       "      <th>name</th>\n",
       "      <th>platform</th>\n",
       "      <th>year_of_release</th>\n",
       "      <th>genre</th>\n",
       "      <th>na_sales</th>\n",
       "      <th>eu_sales</th>\n",
       "      <th>jp_sales</th>\n",
       "      <th>other_sales</th>\n",
       "      <th>critic_score</th>\n",
       "      <th>user_score</th>\n",
       "      <th>rating</th>\n",
       "    </tr>\n",
       "  </thead>\n",
       "  <tbody>\n",
       "    <tr>\n",
       "      <th>5</th>\n",
       "      <td>Tetris</td>\n",
       "      <td>GB</td>\n",
       "      <td>1989.0</td>\n",
       "      <td>Puzzle</td>\n",
       "      <td>23.20</td>\n",
       "      <td>2.26</td>\n",
       "      <td>4.22</td>\n",
       "      <td>0.58</td>\n",
       "      <td>NaN</td>\n",
       "      <td>NaN</td>\n",
       "      <td>NaN</td>\n",
       "    </tr>\n",
       "    <tr>\n",
       "      <th>157</th>\n",
       "      <td>Tetris</td>\n",
       "      <td>NES</td>\n",
       "      <td>1988.0</td>\n",
       "      <td>Puzzle</td>\n",
       "      <td>2.97</td>\n",
       "      <td>0.69</td>\n",
       "      <td>1.81</td>\n",
       "      <td>0.11</td>\n",
       "      <td>NaN</td>\n",
       "      <td>NaN</td>\n",
       "      <td>NaN</td>\n",
       "    </tr>\n",
       "  </tbody>\n",
       "</table>\n",
       "</div>"
      ],
      "text/plain": [
       "       name platform  year_of_release   genre  na_sales  eu_sales  jp_sales  \\\n",
       "5    Tetris       GB           1989.0  Puzzle     23.20      2.26      4.22   \n",
       "157  Tetris      NES           1988.0  Puzzle      2.97      0.69      1.81   \n",
       "\n",
       "     other_sales  critic_score user_score rating  \n",
       "5           0.58           NaN        NaN    NaN  \n",
       "157         0.11           NaN        NaN    NaN  "
      ]
     },
     "execution_count": 14,
     "metadata": {},
     "output_type": "execute_result"
    }
   ],
   "source": [
    "df.query('name == \"Tetris\"')"
   ]
  },
  {
   "cell_type": "markdown",
   "metadata": {},
   "source": [
    "As we can see some of the games were released on several platforms."
   ]
  },
  {
   "cell_type": "markdown",
   "metadata": {},
   "source": [
    "3.2.2 <b>platform</b> Column"
   ]
  },
  {
   "cell_type": "code",
   "execution_count": 15,
   "metadata": {},
   "outputs": [
    {
     "data": {
      "text/plain": [
       "PS2     2161\n",
       "DS      2151\n",
       "PS3     1331\n",
       "Wii     1320\n",
       "X360    1262\n",
       "PSP     1209\n",
       "PS      1197\n",
       "PC       974\n",
       "XB       824\n",
       "GBA      822\n",
       "GC       556\n",
       "3DS      520\n",
       "PSV      430\n",
       "PS4      392\n",
       "N64      319\n",
       "XOne     247\n",
       "SNES     239\n",
       "SAT      173\n",
       "WiiU     147\n",
       "2600     133\n",
       "NES       98\n",
       "GB        98\n",
       "DC        52\n",
       "GEN       27\n",
       "NG        12\n",
       "WS         6\n",
       "SCD        6\n",
       "3DO        3\n",
       "TG16       2\n",
       "GG         1\n",
       "PCFX       1\n",
       "Name: platform, dtype: int64"
      ]
     },
     "metadata": {},
     "output_type": "display_data"
    }
   ],
   "source": [
    "display(df['platform'].value_counts())"
   ]
  },
  {
   "cell_type": "code",
   "execution_count": 16,
   "metadata": {},
   "outputs": [
    {
     "data": {
      "text/plain": [
       "31"
      ]
     },
     "execution_count": 16,
     "metadata": {},
     "output_type": "execute_result"
    }
   ],
   "source": [
    "len(df.platform.unique())"
   ]
  },
  {
   "cell_type": "markdown",
   "metadata": {},
   "source": [
    "There are 31 unique platforms on which games are released."
   ]
  },
  {
   "cell_type": "markdown",
   "metadata": {},
   "source": [
    "3.2.3 <b>year_of_release</b> Column"
   ]
  },
  {
   "cell_type": "code",
   "execution_count": 17,
   "metadata": {},
   "outputs": [
    {
     "data": {
      "text/html": [
       "<div>\n",
       "<style scoped>\n",
       "    .dataframe tbody tr th:only-of-type {\n",
       "        vertical-align: middle;\n",
       "    }\n",
       "\n",
       "    .dataframe tbody tr th {\n",
       "        vertical-align: top;\n",
       "    }\n",
       "\n",
       "    .dataframe thead th {\n",
       "        text-align: right;\n",
       "    }\n",
       "</style>\n",
       "<table border=\"1\" class=\"dataframe\">\n",
       "  <thead>\n",
       "    <tr style=\"text-align: right;\">\n",
       "      <th></th>\n",
       "      <th>name</th>\n",
       "      <th>platform</th>\n",
       "      <th>year_of_release</th>\n",
       "      <th>genre</th>\n",
       "      <th>na_sales</th>\n",
       "      <th>eu_sales</th>\n",
       "      <th>jp_sales</th>\n",
       "      <th>other_sales</th>\n",
       "      <th>critic_score</th>\n",
       "      <th>user_score</th>\n",
       "      <th>rating</th>\n",
       "    </tr>\n",
       "  </thead>\n",
       "  <tbody>\n",
       "    <tr>\n",
       "      <th>183</th>\n",
       "      <td>Madden NFL 2004</td>\n",
       "      <td>PS2</td>\n",
       "      <td>NaN</td>\n",
       "      <td>Sports</td>\n",
       "      <td>4.26</td>\n",
       "      <td>0.26</td>\n",
       "      <td>0.01</td>\n",
       "      <td>0.71</td>\n",
       "      <td>94.0</td>\n",
       "      <td>8.5</td>\n",
       "      <td>E</td>\n",
       "    </tr>\n",
       "    <tr>\n",
       "      <th>377</th>\n",
       "      <td>FIFA Soccer 2004</td>\n",
       "      <td>PS2</td>\n",
       "      <td>NaN</td>\n",
       "      <td>Sports</td>\n",
       "      <td>0.59</td>\n",
       "      <td>2.36</td>\n",
       "      <td>0.04</td>\n",
       "      <td>0.51</td>\n",
       "      <td>84.0</td>\n",
       "      <td>6.4</td>\n",
       "      <td>E</td>\n",
       "    </tr>\n",
       "    <tr>\n",
       "      <th>456</th>\n",
       "      <td>LEGO Batman: The Videogame</td>\n",
       "      <td>Wii</td>\n",
       "      <td>NaN</td>\n",
       "      <td>Action</td>\n",
       "      <td>1.80</td>\n",
       "      <td>0.97</td>\n",
       "      <td>0.00</td>\n",
       "      <td>0.29</td>\n",
       "      <td>74.0</td>\n",
       "      <td>7.9</td>\n",
       "      <td>E10+</td>\n",
       "    </tr>\n",
       "    <tr>\n",
       "      <th>475</th>\n",
       "      <td>wwe Smackdown vs. Raw 2006</td>\n",
       "      <td>PS2</td>\n",
       "      <td>NaN</td>\n",
       "      <td>Fighting</td>\n",
       "      <td>1.57</td>\n",
       "      <td>1.02</td>\n",
       "      <td>0.00</td>\n",
       "      <td>0.41</td>\n",
       "      <td>NaN</td>\n",
       "      <td>NaN</td>\n",
       "      <td>NaN</td>\n",
       "    </tr>\n",
       "    <tr>\n",
       "      <th>609</th>\n",
       "      <td>Space Invaders</td>\n",
       "      <td>2600</td>\n",
       "      <td>NaN</td>\n",
       "      <td>Shooter</td>\n",
       "      <td>2.36</td>\n",
       "      <td>0.14</td>\n",
       "      <td>0.00</td>\n",
       "      <td>0.03</td>\n",
       "      <td>NaN</td>\n",
       "      <td>NaN</td>\n",
       "      <td>NaN</td>\n",
       "    </tr>\n",
       "    <tr>\n",
       "      <th>...</th>\n",
       "      <td>...</td>\n",
       "      <td>...</td>\n",
       "      <td>...</td>\n",
       "      <td>...</td>\n",
       "      <td>...</td>\n",
       "      <td>...</td>\n",
       "      <td>...</td>\n",
       "      <td>...</td>\n",
       "      <td>...</td>\n",
       "      <td>...</td>\n",
       "      <td>...</td>\n",
       "    </tr>\n",
       "    <tr>\n",
       "      <th>16373</th>\n",
       "      <td>PDC World Championship Darts 2008</td>\n",
       "      <td>PSP</td>\n",
       "      <td>NaN</td>\n",
       "      <td>Sports</td>\n",
       "      <td>0.01</td>\n",
       "      <td>0.00</td>\n",
       "      <td>0.00</td>\n",
       "      <td>0.00</td>\n",
       "      <td>43.0</td>\n",
       "      <td>tbd</td>\n",
       "      <td>E10+</td>\n",
       "    </tr>\n",
       "    <tr>\n",
       "      <th>16405</th>\n",
       "      <td>Freaky Flyers</td>\n",
       "      <td>GC</td>\n",
       "      <td>NaN</td>\n",
       "      <td>Racing</td>\n",
       "      <td>0.01</td>\n",
       "      <td>0.00</td>\n",
       "      <td>0.00</td>\n",
       "      <td>0.00</td>\n",
       "      <td>69.0</td>\n",
       "      <td>6.5</td>\n",
       "      <td>T</td>\n",
       "    </tr>\n",
       "    <tr>\n",
       "      <th>16448</th>\n",
       "      <td>Inversion</td>\n",
       "      <td>PC</td>\n",
       "      <td>NaN</td>\n",
       "      <td>Shooter</td>\n",
       "      <td>0.01</td>\n",
       "      <td>0.00</td>\n",
       "      <td>0.00</td>\n",
       "      <td>0.00</td>\n",
       "      <td>59.0</td>\n",
       "      <td>6.7</td>\n",
       "      <td>M</td>\n",
       "    </tr>\n",
       "    <tr>\n",
       "      <th>16458</th>\n",
       "      <td>Hakuouki: Shinsengumi Kitan</td>\n",
       "      <td>PS3</td>\n",
       "      <td>NaN</td>\n",
       "      <td>Adventure</td>\n",
       "      <td>0.01</td>\n",
       "      <td>0.00</td>\n",
       "      <td>0.00</td>\n",
       "      <td>0.00</td>\n",
       "      <td>NaN</td>\n",
       "      <td>NaN</td>\n",
       "      <td>NaN</td>\n",
       "    </tr>\n",
       "    <tr>\n",
       "      <th>16522</th>\n",
       "      <td>Virtua Quest</td>\n",
       "      <td>GC</td>\n",
       "      <td>NaN</td>\n",
       "      <td>Role-Playing</td>\n",
       "      <td>0.01</td>\n",
       "      <td>0.00</td>\n",
       "      <td>0.00</td>\n",
       "      <td>0.00</td>\n",
       "      <td>55.0</td>\n",
       "      <td>5.5</td>\n",
       "      <td>T</td>\n",
       "    </tr>\n",
       "  </tbody>\n",
       "</table>\n",
       "<p>269 rows × 11 columns</p>\n",
       "</div>"
      ],
      "text/plain": [
       "                                    name platform  year_of_release  \\\n",
       "183                      Madden NFL 2004      PS2              NaN   \n",
       "377                     FIFA Soccer 2004      PS2              NaN   \n",
       "456           LEGO Batman: The Videogame      Wii              NaN   \n",
       "475           wwe Smackdown vs. Raw 2006      PS2              NaN   \n",
       "609                       Space Invaders     2600              NaN   \n",
       "...                                  ...      ...              ...   \n",
       "16373  PDC World Championship Darts 2008      PSP              NaN   \n",
       "16405                      Freaky Flyers       GC              NaN   \n",
       "16448                          Inversion       PC              NaN   \n",
       "16458        Hakuouki: Shinsengumi Kitan      PS3              NaN   \n",
       "16522                       Virtua Quest       GC              NaN   \n",
       "\n",
       "              genre  na_sales  eu_sales  jp_sales  other_sales  critic_score  \\\n",
       "183          Sports      4.26      0.26      0.01         0.71          94.0   \n",
       "377          Sports      0.59      2.36      0.04         0.51          84.0   \n",
       "456          Action      1.80      0.97      0.00         0.29          74.0   \n",
       "475        Fighting      1.57      1.02      0.00         0.41           NaN   \n",
       "609         Shooter      2.36      0.14      0.00         0.03           NaN   \n",
       "...             ...       ...       ...       ...          ...           ...   \n",
       "16373        Sports      0.01      0.00      0.00         0.00          43.0   \n",
       "16405        Racing      0.01      0.00      0.00         0.00          69.0   \n",
       "16448       Shooter      0.01      0.00      0.00         0.00          59.0   \n",
       "16458     Adventure      0.01      0.00      0.00         0.00           NaN   \n",
       "16522  Role-Playing      0.01      0.00      0.00         0.00          55.0   \n",
       "\n",
       "      user_score rating  \n",
       "183          8.5      E  \n",
       "377          6.4      E  \n",
       "456          7.9   E10+  \n",
       "475          NaN    NaN  \n",
       "609          NaN    NaN  \n",
       "...          ...    ...  \n",
       "16373        tbd   E10+  \n",
       "16405        6.5      T  \n",
       "16448        6.7      M  \n",
       "16458        NaN    NaN  \n",
       "16522        5.5      T  \n",
       "\n",
       "[269 rows x 11 columns]"
      ]
     },
     "execution_count": 17,
     "metadata": {},
     "output_type": "execute_result"
    }
   ],
   "source": [
    "df.loc[df['year_of_release'].isnull(), :]"
   ]
  },
  {
   "cell_type": "markdown",
   "metadata": {},
   "source": [
    "There are 269 rows with missing year of release value. This happened probably due to error in data export. If there is a year of release for a particular game on one platform and it is missing for the same game on another platform, we can try filling this missing value from there. "
   ]
  },
  {
   "cell_type": "code",
   "execution_count": 18,
   "metadata": {},
   "outputs": [],
   "source": [
    "games_name_group = df.groupby('name')\n",
    "df['year_of_release'] = games_name_group.year_of_release.apply(\n",
    "    lambda x: x.fillna(x.max()))"
   ]
  },
  {
   "cell_type": "code",
   "execution_count": 19,
   "metadata": {},
   "outputs": [
    {
     "data": {
      "text/html": [
       "<div>\n",
       "<style scoped>\n",
       "    .dataframe tbody tr th:only-of-type {\n",
       "        vertical-align: middle;\n",
       "    }\n",
       "\n",
       "    .dataframe tbody tr th {\n",
       "        vertical-align: top;\n",
       "    }\n",
       "\n",
       "    .dataframe thead th {\n",
       "        text-align: right;\n",
       "    }\n",
       "</style>\n",
       "<table border=\"1\" class=\"dataframe\">\n",
       "  <thead>\n",
       "    <tr style=\"text-align: right;\">\n",
       "      <th></th>\n",
       "      <th>name</th>\n",
       "      <th>platform</th>\n",
       "      <th>year_of_release</th>\n",
       "      <th>genre</th>\n",
       "      <th>na_sales</th>\n",
       "      <th>eu_sales</th>\n",
       "      <th>jp_sales</th>\n",
       "      <th>other_sales</th>\n",
       "      <th>critic_score</th>\n",
       "      <th>user_score</th>\n",
       "      <th>rating</th>\n",
       "    </tr>\n",
       "  </thead>\n",
       "  <tbody>\n",
       "    <tr>\n",
       "      <th>475</th>\n",
       "      <td>wwe Smackdown vs. Raw 2006</td>\n",
       "      <td>PS2</td>\n",
       "      <td>NaN</td>\n",
       "      <td>Fighting</td>\n",
       "      <td>1.57</td>\n",
       "      <td>1.02</td>\n",
       "      <td>0.00</td>\n",
       "      <td>0.41</td>\n",
       "      <td>NaN</td>\n",
       "      <td>NaN</td>\n",
       "      <td>NaN</td>\n",
       "    </tr>\n",
       "    <tr>\n",
       "      <th>627</th>\n",
       "      <td>Rock Band</td>\n",
       "      <td>X360</td>\n",
       "      <td>NaN</td>\n",
       "      <td>Misc</td>\n",
       "      <td>1.93</td>\n",
       "      <td>0.33</td>\n",
       "      <td>0.00</td>\n",
       "      <td>0.21</td>\n",
       "      <td>92.0</td>\n",
       "      <td>8.2</td>\n",
       "      <td>T</td>\n",
       "    </tr>\n",
       "    <tr>\n",
       "      <th>657</th>\n",
       "      <td>Frogger's Adventures: Temple of the Frog</td>\n",
       "      <td>GBA</td>\n",
       "      <td>NaN</td>\n",
       "      <td>Adventure</td>\n",
       "      <td>2.15</td>\n",
       "      <td>0.18</td>\n",
       "      <td>0.00</td>\n",
       "      <td>0.07</td>\n",
       "      <td>73.0</td>\n",
       "      <td>tbd</td>\n",
       "      <td>E</td>\n",
       "    </tr>\n",
       "    <tr>\n",
       "      <th>805</th>\n",
       "      <td>Rock Band</td>\n",
       "      <td>Wii</td>\n",
       "      <td>NaN</td>\n",
       "      <td>Misc</td>\n",
       "      <td>1.33</td>\n",
       "      <td>0.56</td>\n",
       "      <td>0.00</td>\n",
       "      <td>0.20</td>\n",
       "      <td>80.0</td>\n",
       "      <td>6.3</td>\n",
       "      <td>T</td>\n",
       "    </tr>\n",
       "    <tr>\n",
       "      <th>1142</th>\n",
       "      <td>Rock Band</td>\n",
       "      <td>PS3</td>\n",
       "      <td>NaN</td>\n",
       "      <td>Misc</td>\n",
       "      <td>0.99</td>\n",
       "      <td>0.41</td>\n",
       "      <td>0.00</td>\n",
       "      <td>0.22</td>\n",
       "      <td>92.0</td>\n",
       "      <td>8.4</td>\n",
       "      <td>T</td>\n",
       "    </tr>\n",
       "    <tr>\n",
       "      <th>...</th>\n",
       "      <td>...</td>\n",
       "      <td>...</td>\n",
       "      <td>...</td>\n",
       "      <td>...</td>\n",
       "      <td>...</td>\n",
       "      <td>...</td>\n",
       "      <td>...</td>\n",
       "      <td>...</td>\n",
       "      <td>...</td>\n",
       "      <td>...</td>\n",
       "      <td>...</td>\n",
       "    </tr>\n",
       "    <tr>\n",
       "      <th>16277</th>\n",
       "      <td>Homeworld Remastered Collection</td>\n",
       "      <td>PC</td>\n",
       "      <td>NaN</td>\n",
       "      <td>Strategy</td>\n",
       "      <td>0.00</td>\n",
       "      <td>0.01</td>\n",
       "      <td>0.00</td>\n",
       "      <td>0.00</td>\n",
       "      <td>86.0</td>\n",
       "      <td>8.2</td>\n",
       "      <td>E10+</td>\n",
       "    </tr>\n",
       "    <tr>\n",
       "      <th>16288</th>\n",
       "      <td>Shorts</td>\n",
       "      <td>DS</td>\n",
       "      <td>NaN</td>\n",
       "      <td>Platform</td>\n",
       "      <td>0.01</td>\n",
       "      <td>0.00</td>\n",
       "      <td>0.00</td>\n",
       "      <td>0.00</td>\n",
       "      <td>NaN</td>\n",
       "      <td>tbd</td>\n",
       "      <td>E10+</td>\n",
       "    </tr>\n",
       "    <tr>\n",
       "      <th>16348</th>\n",
       "      <td>Agarest Senki: Re-appearance</td>\n",
       "      <td>PS3</td>\n",
       "      <td>NaN</td>\n",
       "      <td>Role-Playing</td>\n",
       "      <td>0.00</td>\n",
       "      <td>0.00</td>\n",
       "      <td>0.01</td>\n",
       "      <td>0.00</td>\n",
       "      <td>NaN</td>\n",
       "      <td>NaN</td>\n",
       "      <td>NaN</td>\n",
       "    </tr>\n",
       "    <tr>\n",
       "      <th>16458</th>\n",
       "      <td>Hakuouki: Shinsengumi Kitan</td>\n",
       "      <td>PS3</td>\n",
       "      <td>NaN</td>\n",
       "      <td>Adventure</td>\n",
       "      <td>0.01</td>\n",
       "      <td>0.00</td>\n",
       "      <td>0.00</td>\n",
       "      <td>0.00</td>\n",
       "      <td>NaN</td>\n",
       "      <td>NaN</td>\n",
       "      <td>NaN</td>\n",
       "    </tr>\n",
       "    <tr>\n",
       "      <th>16522</th>\n",
       "      <td>Virtua Quest</td>\n",
       "      <td>GC</td>\n",
       "      <td>NaN</td>\n",
       "      <td>Role-Playing</td>\n",
       "      <td>0.01</td>\n",
       "      <td>0.00</td>\n",
       "      <td>0.00</td>\n",
       "      <td>0.00</td>\n",
       "      <td>55.0</td>\n",
       "      <td>5.5</td>\n",
       "      <td>T</td>\n",
       "    </tr>\n",
       "  </tbody>\n",
       "</table>\n",
       "<p>146 rows × 11 columns</p>\n",
       "</div>"
      ],
      "text/plain": [
       "                                           name platform  year_of_release  \\\n",
       "475                  wwe Smackdown vs. Raw 2006      PS2              NaN   \n",
       "627                                   Rock Band     X360              NaN   \n",
       "657    Frogger's Adventures: Temple of the Frog      GBA              NaN   \n",
       "805                                   Rock Band      Wii              NaN   \n",
       "1142                                  Rock Band      PS3              NaN   \n",
       "...                                         ...      ...              ...   \n",
       "16277           Homeworld Remastered Collection       PC              NaN   \n",
       "16288                                    Shorts       DS              NaN   \n",
       "16348              Agarest Senki: Re-appearance      PS3              NaN   \n",
       "16458               Hakuouki: Shinsengumi Kitan      PS3              NaN   \n",
       "16522                              Virtua Quest       GC              NaN   \n",
       "\n",
       "              genre  na_sales  eu_sales  jp_sales  other_sales  critic_score  \\\n",
       "475        Fighting      1.57      1.02      0.00         0.41           NaN   \n",
       "627            Misc      1.93      0.33      0.00         0.21          92.0   \n",
       "657       Adventure      2.15      0.18      0.00         0.07          73.0   \n",
       "805            Misc      1.33      0.56      0.00         0.20          80.0   \n",
       "1142           Misc      0.99      0.41      0.00         0.22          92.0   \n",
       "...             ...       ...       ...       ...          ...           ...   \n",
       "16277      Strategy      0.00      0.01      0.00         0.00          86.0   \n",
       "16288      Platform      0.01      0.00      0.00         0.00           NaN   \n",
       "16348  Role-Playing      0.00      0.00      0.01         0.00           NaN   \n",
       "16458     Adventure      0.01      0.00      0.00         0.00           NaN   \n",
       "16522  Role-Playing      0.01      0.00      0.00         0.00          55.0   \n",
       "\n",
       "      user_score rating  \n",
       "475          NaN    NaN  \n",
       "627          8.2      T  \n",
       "657          tbd      E  \n",
       "805          6.3      T  \n",
       "1142         8.4      T  \n",
       "...          ...    ...  \n",
       "16277        8.2   E10+  \n",
       "16288        tbd   E10+  \n",
       "16348        NaN    NaN  \n",
       "16458        NaN    NaN  \n",
       "16522        5.5      T  \n",
       "\n",
       "[146 rows x 11 columns]"
      ]
     },
     "execution_count": 19,
     "metadata": {},
     "output_type": "execute_result"
    }
   ],
   "source": [
    "df.query('year_of_release != year_of_release')"
   ]
  },
  {
   "cell_type": "markdown",
   "metadata": {},
   "source": [
    "123 Records were filled in, 146 are still missing. It will not be correct to fill these 146 values with mean or median, so we are going to drop these rows."
   ]
  },
  {
   "cell_type": "code",
   "execution_count": 20,
   "metadata": {},
   "outputs": [],
   "source": [
    "df.dropna(subset=['year_of_release'], inplace=True)"
   ]
  },
  {
   "cell_type": "markdown",
   "metadata": {},
   "source": [
    "Changing data type to integer."
   ]
  },
  {
   "cell_type": "code",
   "execution_count": 21,
   "metadata": {},
   "outputs": [],
   "source": [
    "df.year_of_release = df.year_of_release.apply(int)"
   ]
  },
  {
   "cell_type": "markdown",
   "metadata": {},
   "source": [
    "3.2.4 <b>genre</b> Column"
   ]
  },
  {
   "cell_type": "code",
   "execution_count": 22,
   "metadata": {},
   "outputs": [
    {
     "data": {
      "text/plain": [
       "Action          3342\n",
       "Sports          2333\n",
       "Misc            1735\n",
       "Role-Playing    1484\n",
       "Shooter         1311\n",
       "Adventure       1294\n",
       "Racing          1236\n",
       "Platform         879\n",
       "Simulation       860\n",
       "Fighting         842\n",
       "Strategy         678\n",
       "Puzzle           573\n",
       "Name: genre, dtype: int64"
      ]
     },
     "execution_count": 22,
     "metadata": {},
     "output_type": "execute_result"
    }
   ],
   "source": [
    "df.genre.value_counts()"
   ]
  },
  {
   "cell_type": "code",
   "execution_count": 23,
   "metadata": {},
   "outputs": [
    {
     "data": {
      "text/plain": [
       "12"
      ]
     },
     "execution_count": 23,
     "metadata": {},
     "output_type": "execute_result"
    }
   ],
   "source": [
    "len(df.genre.unique())"
   ]
  },
  {
   "cell_type": "markdown",
   "metadata": {},
   "source": [
    "There are 12 distinct genres in the data base."
   ]
  },
  {
   "cell_type": "markdown",
   "metadata": {},
   "source": [
    "3.2.5 - 3.2.7 <b>na_sales, eu_sales, jb_sales</b> Columns"
   ]
  },
  {
   "cell_type": "code",
   "execution_count": 24,
   "metadata": {},
   "outputs": [
    {
     "data": {
      "image/png": "[encoded data removed]",
      "text/plain": [
       "<Figure size 1080x720 with 1 Axes>"
      ]
     },
     "metadata": {
      "needs_background": "light"
     },
     "output_type": "display_data"
    }
   ],
   "source": [
    "plt.figure(figsize=(15, 10))\n",
    "# kde : bool - Whether to plot a gaussian kernel density estimate.\n",
    "sns.distplot(df['na_sales'], 50, kde=True)\n",
    "sns.distplot(df['eu_sales'], 50, kde=True)\n",
    "sns.distplot(df['jp_sales'], 50, kde=True);\n",
    "#plt.tytle(\"Sales Histogram by Region\")"
   ]
  },
  {
   "cell_type": "markdown",
   "metadata": {},
   "source": [
    "There are no missing values in these columns, but all three of them have a lot of cells with zeros. Some possible reasons are: 1) there was no sales in these regions, 2) values were rounded and the thousands were lost during data export. We cannot fill in zero values, because it will greatly distort meaning of other values, thus they will remain as is."
   ]
  },
  {
   "cell_type": "markdown",
   "metadata": {},
   "source": [
    "Creating a column with total sales across all regions in the database. "
   ]
  },
  {
   "cell_type": "code",
   "execution_count": 25,
   "metadata": {},
   "outputs": [],
   "source": [
    "df['total_sales'] = df['na_sales'] + \\\n",
    "    df['eu_sales'] + df['jp_sales'] + df['other_sales']"
   ]
  },
  {
   "cell_type": "markdown",
   "metadata": {},
   "source": [
    "3.2.8 <b>critic_score</b> Column"
   ]
  },
  {
   "cell_type": "code",
   "execution_count": 26,
   "metadata": {},
   "outputs": [
    {
     "data": {
      "text/plain": [
       "70.0    253\n",
       "71.0    252\n",
       "75.0    243\n",
       "78.0    238\n",
       "80.0    236\n",
       "73.0    236\n",
       "76.0    233\n",
       "74.0    226\n",
       "72.0    224\n",
       "77.0    223\n",
       "68.0    218\n",
       "79.0    218\n",
       "81.0    217\n",
       "69.0    212\n",
       "82.0    206\n",
       "83.0    205\n",
       "66.0    203\n",
       "65.0    192\n",
       "84.0    183\n",
       "67.0    182\n",
       "63.0    178\n",
       "64.0    169\n",
       "62.0    169\n",
       "61.0    165\n",
       "59.0    157\n",
       "60.0    153\n",
       "85.0    150\n",
       "58.0    149\n",
       "86.0    134\n",
       "57.0    131\n",
       "87.0    118\n",
       "88.0    116\n",
       "56.0    110\n",
       "55.0    109\n",
       "89.0    104\n",
       "53.0    101\n",
       "54.0     98\n",
       "51.0     89\n",
       "49.0     85\n",
       "50.0     79\n",
       "90.0     76\n",
       "52.0     73\n",
       "91.0     69\n",
       "48.0     65\n",
       "47.0     65\n",
       "46.0     55\n",
       "43.0     54\n",
       "92.0     52\n",
       "44.0     49\n",
       "45.0     47\n",
       "93.0     47\n",
       "39.0     39\n",
       "94.0     37\n",
       "42.0     37\n",
       "38.0     34\n",
       "41.0     29\n",
       "37.0     28\n",
       "35.0     27\n",
       "36.0     26\n",
       "40.0     26\n",
       "33.0     21\n",
       "96.0     18\n",
       "95.0     16\n",
       "32.0     15\n",
       "26.0     12\n",
       "30.0     12\n",
       "97.0     11\n",
       "28.0     11\n",
       "34.0      9\n",
       "31.0      9\n",
       "27.0      8\n",
       "25.0      7\n",
       "19.0      6\n",
       "23.0      4\n",
       "24.0      4\n",
       "98.0      4\n",
       "20.0      3\n",
       "29.0      3\n",
       "13.0      1\n",
       "17.0      1\n",
       "21.0      1\n",
       "Name: critic_score, dtype: int64"
      ]
     },
     "metadata": {},
     "output_type": "display_data"
    }
   ],
   "source": [
    "display(df.critic_score.value_counts())"
   ]
  },
  {
   "cell_type": "markdown",
   "metadata": {},
   "source": [
    "Critic Score column values are ranging from min of 13 to the max of 98. Data type is float, we will change it to int."
   ]
  },
  {
   "cell_type": "code",
   "execution_count": 27,
   "metadata": {},
   "outputs": [],
   "source": [
    "df['critic_score'] = df['critic_score'].astype('int', errors='ignore')"
   ]
  },
  {
   "cell_type": "markdown",
   "metadata": {},
   "source": [
    "3.2.9 <b>user_score</b> Column"
   ]
  },
  {
   "cell_type": "code",
   "execution_count": 28,
   "metadata": {},
   "outputs": [
    {
     "data": {
      "text/plain": [
       "tbd    2394\n",
       "7.8     324\n",
       "8       288\n",
       "8.2     279\n",
       "8.3     253\n",
       "8.5     252\n",
       "7.5     251\n",
       "7.9     249\n",
       "8.1     241\n",
       "7.7     239\n",
       "7.3     236\n",
       "8.4     222\n",
       "7       219\n",
       "7.4     215\n",
       "7.6     214\n",
       "8.6     209\n",
       "6.8     195\n",
       "8.7     187\n",
       "8.8     182\n",
       "7.1     180\n",
       "7.2     166\n",
       "8.9     151\n",
       "6.6     148\n",
       "6.9     140\n",
       "6.3     136\n",
       "6.7     128\n",
       "6       127\n",
       "6.5     125\n",
       "9       119\n",
       "6.2     113\n",
       "6.4     106\n",
       "5.8      97\n",
       "9.1      90\n",
       "6.1      82\n",
       "5.9      77\n",
       "5.7      77\n",
       "5.6      72\n",
       "5.4      72\n",
       "5.3      70\n",
       "5.5      70\n",
       "5        64\n",
       "5.2      57\n",
       "4.8      49\n",
       "5.1      44\n",
       "9.2      43\n",
       "4.9      40\n",
       "4.6      37\n",
       "4.3      37\n",
       "4.5      33\n",
       "4.1      33\n",
       "4.4      33\n",
       "9.3      31\n",
       "3.8      27\n",
       "4.2      27\n",
       "4        27\n",
       "3.5      26\n",
       "2.8      24\n",
       "4.7      24\n",
       "3.4      23\n",
       "3.1      23\n",
       "3        21\n",
       "3.7      19\n",
       "3.6      18\n",
       "3.3      15\n",
       "3.9      13\n",
       "2.5      12\n",
       "3.2      12\n",
       "2.4      11\n",
       "2        11\n",
       "9.4      11\n",
       "2.1       9\n",
       "1.7       9\n",
       "2.9       9\n",
       "2.7       8\n",
       "2.2       6\n",
       "9.5       5\n",
       "1.4       5\n",
       "1.8       5\n",
       "2.6       4\n",
       "1.6       3\n",
       "1.2       3\n",
       "1.9       2\n",
       "1         2\n",
       "1.3       2\n",
       "0.3       2\n",
       "0.9       2\n",
       "2.3       2\n",
       "0.5       2\n",
       "9.6       2\n",
       "1.1       2\n",
       "1.5       2\n",
       "0.7       2\n",
       "0.6       2\n",
       "0.2       2\n",
       "0         1\n",
       "9.7       1\n",
       "Name: user_score, dtype: int64"
      ]
     },
     "metadata": {},
     "output_type": "display_data"
    }
   ],
   "source": [
    "display(df.user_score.value_counts())"
   ]
  },
  {
   "cell_type": "markdown",
   "metadata": {},
   "source": [
    "The range of values in the User Score column is from 0 to 10. Some values are in int type, some are in float. We will convert all to float.\\\n",
    "There are 6633 null values, which we will keep, because removing such a big portion of data might have a serious effect on the results of our analytics.\\\n",
    "Also, there are 2394 \"tbd\" values. The 'tbd' is an abbreviation for \"to be determined\" and it means that the score was being determined at the time of data export. We will replace all \"tbd\"'s with zeros."
   ]
  },
  {
   "cell_type": "code",
   "execution_count": 29,
   "metadata": {},
   "outputs": [],
   "source": [
    "df['user_score'] = df['user_score'].replace('tbd', 0)"
   ]
  },
  {
   "cell_type": "code",
   "execution_count": 30,
   "metadata": {},
   "outputs": [],
   "source": [
    "df['user_score'] = df['user_score'].astype('float')"
   ]
  },
  {
   "cell_type": "markdown",
   "metadata": {},
   "source": [
    "3.2.11 <b>rating</b> Column"
   ]
  },
  {
   "cell_type": "code",
   "execution_count": 31,
   "metadata": {},
   "outputs": [
    {
     "data": {
      "text/plain": [
       "array(['E', nan, 'M', 'T', 'E10+', 'K-A', 'AO', 'EC', 'RP'], dtype=object)"
      ]
     },
     "execution_count": 31,
     "metadata": {},
     "output_type": "execute_result"
    }
   ],
   "source": [
    "df.rating.unique()"
   ]
  },
  {
   "cell_type": "markdown",
   "metadata": {},
   "source": [
    "'K-A' rating was renamed to everyone 'E' in 1998. We will replace 'K-A' with 'E' using a function. Also, we will replace NaN's with Not_Rated."
   ]
  },
  {
   "cell_type": "code",
   "execution_count": 32,
   "metadata": {},
   "outputs": [],
   "source": [
    "df['rating'].replace('K-A', 'E', inplace=True)"
   ]
  },
  {
   "cell_type": "markdown",
   "metadata": {},
   "source": [
    "40% of values in this column is missing. The ESRB rating system was established in 1993. Perhaps, the reason for missing values is that there was not rating prior to year 1993 or the ESRB did not rate a particular game, or it caused by an error during the data transfer. We will filling NaN's with Not Rated string."
   ]
  },
  {
   "cell_type": "code",
   "execution_count": 33,
   "metadata": {},
   "outputs": [],
   "source": [
    "df.rating.fillna('Not_Rated', inplace=True)"
   ]
  },
  {
   "cell_type": "markdown",
   "metadata": {},
   "source": [
    "## Conclusion"
   ]
  },
  {
   "cell_type": "code",
   "execution_count": 34,
   "metadata": {},
   "outputs": [
    {
     "name": "stdout",
     "output_type": "stream",
     "text": [
      "<class 'pandas.core.frame.DataFrame'>\n",
      "Int64Index: 16567 entries, 0 to 16714\n",
      "Data columns (total 12 columns):\n",
      " #   Column           Non-Null Count  Dtype  \n",
      "---  ------           --------------  -----  \n",
      " 0   name             16567 non-null  object \n",
      " 1   platform         16567 non-null  object \n",
      " 2   year_of_release  16567 non-null  int64  \n",
      " 3   genre            16567 non-null  object \n",
      " 4   na_sales         16567 non-null  float64\n",
      " 5   eu_sales         16567 non-null  float64\n",
      " 6   jp_sales         16567 non-null  float64\n",
      " 7   other_sales      16567 non-null  float64\n",
      " 8   critic_score     8075 non-null   float64\n",
      " 9   user_score       9934 non-null   float64\n",
      " 10  rating           16567 non-null  object \n",
      " 11  total_sales      16567 non-null  float64\n",
      "dtypes: float64(7), int64(1), object(4)\n",
      "memory usage: 1.6+ MB\n"
     ]
    }
   ],
   "source": [
    "df.info()"
   ]
  },
  {
   "cell_type": "markdown",
   "metadata": {},
   "source": [
    "<b>Summary</b>: \n",
    "- Columns headers were converted to lowercase\n",
    "- Incorrect data types were successfully changed\n",
    "- Two rows were dropped (less than 2% of data)\n",
    "- Not-obvious duplicates in the Rating column were combined\n",
    "- We are going to keep missing values in the Critic Score and User Score columns, because if we drop them we will loose significant amount of the data. We will keep it as is, because it will not affect graphs drawing."
   ]
  },
  {
   "cell_type": "markdown",
   "metadata": {},
   "source": [
    "# Data analysis"
   ]
  },
  {
   "cell_type": "markdown",
   "metadata": {},
   "source": [
    "## Number of games released in different years"
   ]
  },
  {
   "cell_type": "markdown",
   "metadata": {},
   "source": [
    "How many games were released in different years? Is the data for every period significant?"
   ]
  },
  {
   "cell_type": "code",
   "execution_count": 35,
   "metadata": {},
   "outputs": [
    {
     "data": {
      "text/plain": [
       "<matplotlib.axes._subplots.AxesSubplot at 0x7f9e715908e0>"
      ]
     },
     "execution_count": 35,
     "metadata": {},
     "output_type": "execute_result"
    },
    {
     "data": {
      "image/png": "[encoded data removed]",
      "text/plain": [
       "<Figure size 720x288 with 1 Axes>"
      ]
     },
     "metadata": {
      "needs_background": "light"
     },
     "output_type": "display_data"
    }
   ],
   "source": [
    "plt.figure(figsize=(10, 4))\n",
    "df.groupby('year_of_release').year_of_release.count().plot(\n",
    "    kind='line', color='black', title='Games Released per Year', rot=45)"
   ]
  },
  {
   "cell_type": "code",
   "execution_count": 36,
   "metadata": {},
   "outputs": [
    {
     "data": {
      "text/plain": [
       "26.071428571428573"
      ]
     },
     "execution_count": 36,
     "metadata": {},
     "output_type": "execute_result"
    }
   ],
   "source": [
    "df.query('year_of_release <= 1993').groupby(\n",
    "    'year_of_release').year_of_release.count().mean()"
   ]
  },
  {
   "cell_type": "markdown",
   "metadata": {},
   "source": [
    "Let's look at how many games were released in different years."
   ]
  },
  {
   "cell_type": "code",
   "execution_count": 37,
   "metadata": {},
   "outputs": [
    {
     "data": {
      "text/plain": [
       "704.4347826086956"
      ]
     },
     "execution_count": 37,
     "metadata": {},
     "output_type": "execute_result"
    }
   ],
   "source": [
    "df.query('year_of_release > 1993').groupby(\n",
    "    'year_of_release').year_of_release.count().mean()"
   ]
  },
  {
   "cell_type": "markdown",
   "metadata": {},
   "source": [
    "We can see from the graph above that the average number of games released yearly started to pick up fast after mid-nineties. The average number of games per year for the previous 10+ years (1980-1992) is 26. After 1993 this number grows exponentially with the average being almost 700 games per year with pick of about 1400+ games in 2008. After year 2008 there is a declining trend in the number of games released per year."
   ]
  },
  {
   "cell_type": "markdown",
   "metadata": {},
   "source": [
    "## Variance in sales from platform to platform. Choosing relevant data."
   ]
  },
  {
   "cell_type": "code",
   "execution_count": 38,
   "metadata": {},
   "outputs": [
    {
     "data": {
      "text/plain": [
       "<matplotlib.axes._subplots.AxesSubplot at 0x7f9e78186e50>"
      ]
     },
     "execution_count": 38,
     "metadata": {},
     "output_type": "execute_result"
    },
    {
     "data": {
      "image/png": "[encoded data removed]",
      "text/plain": [
       "<Figure size 720x288 with 1 Axes>"
      ]
     },
     "metadata": {
      "needs_background": "light"
     },
     "output_type": "display_data"
    }
   ],
   "source": [
    "plt.figure(figsize=(10, 4))\n",
    "df.groupby('platform').total_sales.sum().sort_values().plot(\n",
    "    kind='bar', color='black', title='Total Sales per Platform', rot=45)"
   ]
  },
  {
   "cell_type": "markdown",
   "metadata": {},
   "source": [
    "We can see that all time sales leader is PS2. Let's draw a graph with sales distribution for the the top ten all time sales leaders."
   ]
  },
  {
   "cell_type": "code",
   "execution_count": 39,
   "metadata": {},
   "outputs": [],
   "source": [
    "# Getting a slice of data for top ten sales leaders\n",
    "top_sales_platforms = df.groupby(\n",
    "    'platform').total_sales.sum().sort_values().index[-10:]\n",
    "\n",
    "# Making a list of unique platform names in the selected slice.\n",
    "top_sales_platforms = set(top_sales_platforms.to_list())"
   ]
  },
  {
   "cell_type": "code",
   "execution_count": 40,
   "metadata": {},
   "outputs": [],
   "source": [
    "# Making a list of different colors for the graph\n",
    "def get_colors(n): return list(map(lambda i: \"#\" + \"%06x\" %\n",
    "                                   random.randint(0, 0xFFFFFF), range(n)))\n",
    "\n",
    "\n",
    "colors = get_colors(len(top_sales_platforms))"
   ]
  },
  {
   "cell_type": "code",
   "execution_count": 41,
   "metadata": {},
   "outputs": [
    {
     "data": {
      "text/plain": [
       "<matplotlib.legend.Legend at 0x7f9e99449d00>"
      ]
     },
     "execution_count": 41,
     "metadata": {},
     "output_type": "execute_result"
    },
    {
     "data": {
      "image/png": "[encoded data removed]",
      "text/plain": [
       "<Figure size 1296x576 with 1 Axes>"
      ]
     },
     "metadata": {
      "needs_background": "light"
     },
     "output_type": "display_data"
    }
   ],
   "source": [
    "plt.figure(figsize=(18, 8))\n",
    "# Iterate through platforms\n",
    "for i, platform in enumerate(top_sales_platforms):\n",
    "    # Subset to the platform\n",
    "    subset = df[df['platform'] == platform]\n",
    "    color = colors[i]\n",
    "    # Drow the plot\n",
    "    subset.groupby('year_of_release').total_sales.sum().plot(\n",
    "        label=platform, title='Top 10 Platforms Sales Per Year')\n",
    "plt.legend(loc=\"upper right\")"
   ]
  },
  {
   "cell_type": "markdown",
   "metadata": {},
   "source": [
    "From the graph above we can see that the average period for the platform to generate revenue is about 8 years, half of which sales are growing and another half they are declining. We should disregard data for platforms, which are no longer active. In our opinion the most optimum decision would be to select data from 2012 to 2016 to work with in order to build prognosis for 2017."
   ]
  },
  {
   "cell_type": "code",
   "execution_count": 42,
   "metadata": {},
   "outputs": [],
   "source": [
    "filtered_df = df[df.year_of_release >= 2012]"
   ]
  },
  {
   "cell_type": "markdown",
   "metadata": {},
   "source": [
    "## What platforms are potentially profitable?"
   ]
  },
  {
   "cell_type": "markdown",
   "metadata": {},
   "source": [
    "Now we are going to plot another graph to see the data only for the last five years."
   ]
  },
  {
   "cell_type": "code",
   "execution_count": 43,
   "metadata": {},
   "outputs": [
    {
     "data": {
      "text/plain": [
       "<matplotlib.legend.Legend at 0x7f9e89b58100>"
      ]
     },
     "execution_count": 43,
     "metadata": {},
     "output_type": "execute_result"
    },
    {
     "data": {
      "image/png": "[encoded data removed]",
      "text/plain": [
       "<Figure size 1296x576 with 1 Axes>"
      ]
     },
     "metadata": {
      "needs_background": "light"
     },
     "output_type": "display_data"
    }
   ],
   "source": [
    "# Making a table \"Sales Revenue by Years\"\n",
    "platform_sales = filtered_df.pivot_table(index=['platform', 'year_of_release'],\n",
    "                                         values='total_sales',\n",
    "                                         aggfunc='sum').unstack(0).droplevel(0, axis=1)\n",
    "# Drawing a graph\n",
    "platform_sales.plot(figsize=(18, 8))\n",
    "plt.title('')\n",
    "plt.legend(loc=\"upper right\")"
   ]
  },
  {
   "cell_type": "markdown",
   "metadata": {},
   "source": [
    "We can see that by the end of 2016 the most sales potential has PS4 platform, followed by XOne and DS. Platforms such as PC, WiiU, PS3X360 and PSV are shrinking in sales."
   ]
  },
  {
   "cell_type": "markdown",
   "metadata": {},
   "source": [
    "## Global sales of all games, broken down by platform."
   ]
  },
  {
   "cell_type": "markdown",
   "metadata": {},
   "source": [
    "Now let's build a boxplot graph on the selected slice of data for the global sales of all games broken down by platform."
   ]
  },
  {
   "cell_type": "code",
   "execution_count": 44,
   "metadata": {},
   "outputs": [
    {
     "data": {
      "image/png": "[encoded data removed]",
      "text/plain": [
       "<Figure size 720x576 with 1 Axes>"
      ]
     },
     "metadata": {
      "needs_background": "light"
     },
     "output_type": "display_data"
    }
   ],
   "source": [
    "# Using logarithmic scale for better visibility\n",
    "plt.figure(figsize=(10, 8))\n",
    "sns.boxplot(data=filtered_df, x='platform', y='total_sales')\n",
    "plt.yscale('log')"
   ]
  },
  {
   "cell_type": "markdown",
   "metadata": {},
   "source": [
    "We see that the X360 has the maximum median sales, whereas the PSP platform has minimum median sales. Almost all platforms have outliers - games that were very successful."
   ]
  },
  {
   "cell_type": "markdown",
   "metadata": {},
   "source": [
    "## How user and professional reviews affect sales"
   ]
  },
  {
   "cell_type": "markdown",
   "metadata": {},
   "source": [
    "To analyze how both user and critics score affect sales we are going to use data for the platform PS4, which is leading in sales in the selected time range: 2012-2016. Let's build a scatter plots for user score and critics score vs. total sales."
   ]
  },
  {
   "cell_type": "code",
   "execution_count": 45,
   "metadata": {},
   "outputs": [
    {
     "data": {
      "text/plain": [
       "Text(0.5, 1.0, 'Total Sales vs Use Score')"
      ]
     },
     "execution_count": 45,
     "metadata": {},
     "output_type": "execute_result"
    },
    {
     "data": {
      "image/png": "[encoded data removed]",
      "text/plain": [
       "<Figure size 432x288 with 1 Axes>"
      ]
     },
     "metadata": {
      "needs_background": "light"
     },
     "output_type": "display_data"
    }
   ],
   "source": [
    "plt.scatter(filtered_df[filtered_df.platform == 'PS4']['user_score'],\n",
    "            filtered_df[filtered_df.platform == 'PS4']['total_sales'], color='black', alpha=.5)\n",
    "plt.xlabel('user_score')\n",
    "plt.ylabel('total_sales')\n",
    "plt.title('Total Sales vs Use Score')"
   ]
  },
  {
   "cell_type": "markdown",
   "metadata": {},
   "source": [
    "Looks like there is a very-very weak positive (almost non-existent) correlation, but there are also some outliers so we probably need to take a look at the correlation coefficient. "
   ]
  },
  {
   "cell_type": "code",
   "execution_count": 46,
   "metadata": {},
   "outputs": [
    {
     "data": {
      "text/plain": [
       "Text(0.5, 1.0, 'Total Sales vs Critic Score')"
      ]
     },
     "execution_count": 46,
     "metadata": {},
     "output_type": "execute_result"
    },
    {
     "data": {
      "image/png": "[encoded data removed]",
      "text/plain": [
       "<Figure size 432x288 with 1 Axes>"
      ]
     },
     "metadata": {
      "needs_background": "light"
     },
     "output_type": "display_data"
    }
   ],
   "source": [
    "plt.scatter(filtered_df[filtered_df.platform == 'PS3']['critic_score'],\n",
    "            filtered_df[filtered_df.platform == 'PS3']['total_sales'], color='black', alpha=.5)\n",
    "plt.xlabel('critic_score')\n",
    "plt.ylabel('total_sales')\n",
    "plt.title('Total Sales vs Critic Score')"
   ]
  },
  {
   "cell_type": "markdown",
   "metadata": {},
   "source": [
    "Similar situation here, although, here there are not that many outliers in the middle, so the correlation is stronger than in the first graph."
   ]
  },
  {
   "cell_type": "code",
   "execution_count": 47,
   "metadata": {},
   "outputs": [
    {
     "data": {
      "text/html": [
       "<div>\n",
       "<style scoped>\n",
       "    .dataframe tbody tr th:only-of-type {\n",
       "        vertical-align: middle;\n",
       "    }\n",
       "\n",
       "    .dataframe tbody tr th {\n",
       "        vertical-align: top;\n",
       "    }\n",
       "\n",
       "    .dataframe thead th {\n",
       "        text-align: right;\n",
       "    }\n",
       "</style>\n",
       "<table border=\"1\" class=\"dataframe\">\n",
       "  <thead>\n",
       "    <tr style=\"text-align: right;\">\n",
       "      <th></th>\n",
       "      <th>user_score</th>\n",
       "      <th>critic_score</th>\n",
       "      <th>total_sales</th>\n",
       "    </tr>\n",
       "  </thead>\n",
       "  <tbody>\n",
       "    <tr>\n",
       "      <th>user_score</th>\n",
       "      <td>1.000000</td>\n",
       "      <td>0.504348</td>\n",
       "      <td>0.097742</td>\n",
       "    </tr>\n",
       "    <tr>\n",
       "      <th>critic_score</th>\n",
       "      <td>0.504348</td>\n",
       "      <td>1.000000</td>\n",
       "      <td>0.307951</td>\n",
       "    </tr>\n",
       "    <tr>\n",
       "      <th>total_sales</th>\n",
       "      <td>0.097742</td>\n",
       "      <td>0.307951</td>\n",
       "      <td>1.000000</td>\n",
       "    </tr>\n",
       "  </tbody>\n",
       "</table>\n",
       "</div>"
      ],
      "text/plain": [
       "              user_score  critic_score  total_sales\n",
       "user_score      1.000000      0.504348     0.097742\n",
       "critic_score    0.504348      1.000000     0.307951\n",
       "total_sales     0.097742      0.307951     1.000000"
      ]
     },
     "execution_count": 47,
     "metadata": {},
     "output_type": "execute_result"
    }
   ],
   "source": [
    "filtered_df[['user_score', 'critic_score', 'total_sales']].corr()"
   ]
  },
  {
   "cell_type": "markdown",
   "metadata": {},
   "source": [
    "Judging by the correlation coefficients we can conclude that the user rating doesn't really affect much the total sales amount. There is a more dependency between the critic score and sales revenue, which tells that consumers tend to trust professional reviews more than amateur reviews."
   ]
  },
  {
   "cell_type": "markdown",
   "metadata": {},
   "source": [
    "## How user and professional reviews affect sales of the same game on different platforms"
   ]
  },
  {
   "cell_type": "markdown",
   "metadata": {},
   "source": [
    "Let's identify what games are sold on more than one platform."
   ]
  },
  {
   "cell_type": "code",
   "execution_count": 48,
   "metadata": {},
   "outputs": [
    {
     "data": {
      "text/html": [
       "<div>\n",
       "<style scoped>\n",
       "    .dataframe tbody tr th:only-of-type {\n",
       "        vertical-align: middle;\n",
       "    }\n",
       "\n",
       "    .dataframe tbody tr th {\n",
       "        vertical-align: top;\n",
       "    }\n",
       "\n",
       "    .dataframe thead th {\n",
       "        text-align: right;\n",
       "    }\n",
       "</style>\n",
       "<table border=\"1\" class=\"dataframe\">\n",
       "  <thead>\n",
       "    <tr style=\"text-align: right;\">\n",
       "      <th></th>\n",
       "      <th>name</th>\n",
       "      <th>platform</th>\n",
       "      <th>year_of_release</th>\n",
       "      <th>genre</th>\n",
       "      <th>na_sales</th>\n",
       "      <th>eu_sales</th>\n",
       "      <th>jp_sales</th>\n",
       "      <th>other_sales</th>\n",
       "      <th>critic_score</th>\n",
       "      <th>user_score</th>\n",
       "      <th>rating</th>\n",
       "      <th>total_sales</th>\n",
       "    </tr>\n",
       "  </thead>\n",
       "  <tbody>\n",
       "    <tr>\n",
       "      <th>16</th>\n",
       "      <td>Grand Theft Auto V</td>\n",
       "      <td>PS3</td>\n",
       "      <td>2013</td>\n",
       "      <td>Action</td>\n",
       "      <td>7.02</td>\n",
       "      <td>9.09</td>\n",
       "      <td>0.98</td>\n",
       "      <td>3.96</td>\n",
       "      <td>97.0</td>\n",
       "      <td>8.2</td>\n",
       "      <td>M</td>\n",
       "      <td>21.05</td>\n",
       "    </tr>\n",
       "    <tr>\n",
       "      <th>23</th>\n",
       "      <td>Grand Theft Auto V</td>\n",
       "      <td>X360</td>\n",
       "      <td>2013</td>\n",
       "      <td>Action</td>\n",
       "      <td>9.66</td>\n",
       "      <td>5.14</td>\n",
       "      <td>0.06</td>\n",
       "      <td>1.41</td>\n",
       "      <td>97.0</td>\n",
       "      <td>8.1</td>\n",
       "      <td>M</td>\n",
       "      <td>16.27</td>\n",
       "    </tr>\n",
       "    <tr>\n",
       "      <th>31</th>\n",
       "      <td>Call of Duty: Black Ops 3</td>\n",
       "      <td>PS4</td>\n",
       "      <td>2015</td>\n",
       "      <td>Shooter</td>\n",
       "      <td>6.03</td>\n",
       "      <td>5.86</td>\n",
       "      <td>0.36</td>\n",
       "      <td>2.38</td>\n",
       "      <td>NaN</td>\n",
       "      <td>NaN</td>\n",
       "      <td>Not_Rated</td>\n",
       "      <td>14.63</td>\n",
       "    </tr>\n",
       "    <tr>\n",
       "      <th>34</th>\n",
       "      <td>Call of Duty: Black Ops II</td>\n",
       "      <td>PS3</td>\n",
       "      <td>2012</td>\n",
       "      <td>Shooter</td>\n",
       "      <td>4.99</td>\n",
       "      <td>5.73</td>\n",
       "      <td>0.65</td>\n",
       "      <td>2.42</td>\n",
       "      <td>83.0</td>\n",
       "      <td>5.3</td>\n",
       "      <td>M</td>\n",
       "      <td>13.79</td>\n",
       "    </tr>\n",
       "    <tr>\n",
       "      <th>35</th>\n",
       "      <td>Call of Duty: Black Ops II</td>\n",
       "      <td>X360</td>\n",
       "      <td>2012</td>\n",
       "      <td>Shooter</td>\n",
       "      <td>8.25</td>\n",
       "      <td>4.24</td>\n",
       "      <td>0.07</td>\n",
       "      <td>1.12</td>\n",
       "      <td>83.0</td>\n",
       "      <td>4.8</td>\n",
       "      <td>M</td>\n",
       "      <td>13.68</td>\n",
       "    </tr>\n",
       "    <tr>\n",
       "      <th>...</th>\n",
       "      <td>...</td>\n",
       "      <td>...</td>\n",
       "      <td>...</td>\n",
       "      <td>...</td>\n",
       "      <td>...</td>\n",
       "      <td>...</td>\n",
       "      <td>...</td>\n",
       "      <td>...</td>\n",
       "      <td>...</td>\n",
       "      <td>...</td>\n",
       "      <td>...</td>\n",
       "      <td>...</td>\n",
       "    </tr>\n",
       "    <tr>\n",
       "      <th>16672</th>\n",
       "      <td>Metal Gear Solid V: The Definitive Experience</td>\n",
       "      <td>XOne</td>\n",
       "      <td>2016</td>\n",
       "      <td>Action</td>\n",
       "      <td>0.01</td>\n",
       "      <td>0.00</td>\n",
       "      <td>0.00</td>\n",
       "      <td>0.00</td>\n",
       "      <td>NaN</td>\n",
       "      <td>0.0</td>\n",
       "      <td>M</td>\n",
       "      <td>0.01</td>\n",
       "    </tr>\n",
       "    <tr>\n",
       "      <th>16691</th>\n",
       "      <td>Dynasty Warriors: Eiketsuden</td>\n",
       "      <td>PS3</td>\n",
       "      <td>2016</td>\n",
       "      <td>Action</td>\n",
       "      <td>0.00</td>\n",
       "      <td>0.00</td>\n",
       "      <td>0.01</td>\n",
       "      <td>0.00</td>\n",
       "      <td>NaN</td>\n",
       "      <td>NaN</td>\n",
       "      <td>Not_Rated</td>\n",
       "      <td>0.01</td>\n",
       "    </tr>\n",
       "    <tr>\n",
       "      <th>16692</th>\n",
       "      <td>Metal Gear Solid V: Ground Zeroes</td>\n",
       "      <td>PC</td>\n",
       "      <td>2014</td>\n",
       "      <td>Action</td>\n",
       "      <td>0.00</td>\n",
       "      <td>0.01</td>\n",
       "      <td>0.00</td>\n",
       "      <td>0.00</td>\n",
       "      <td>80.0</td>\n",
       "      <td>7.6</td>\n",
       "      <td>M</td>\n",
       "      <td>0.01</td>\n",
       "    </tr>\n",
       "    <tr>\n",
       "      <th>16710</th>\n",
       "      <td>Samurai Warriors: Sanada Maru</td>\n",
       "      <td>PS3</td>\n",
       "      <td>2016</td>\n",
       "      <td>Action</td>\n",
       "      <td>0.00</td>\n",
       "      <td>0.00</td>\n",
       "      <td>0.01</td>\n",
       "      <td>0.00</td>\n",
       "      <td>NaN</td>\n",
       "      <td>NaN</td>\n",
       "      <td>Not_Rated</td>\n",
       "      <td>0.01</td>\n",
       "    </tr>\n",
       "    <tr>\n",
       "      <th>16714</th>\n",
       "      <td>Winning Post 8 2016</td>\n",
       "      <td>PSV</td>\n",
       "      <td>2016</td>\n",
       "      <td>Simulation</td>\n",
       "      <td>0.00</td>\n",
       "      <td>0.00</td>\n",
       "      <td>0.01</td>\n",
       "      <td>0.00</td>\n",
       "      <td>NaN</td>\n",
       "      <td>NaN</td>\n",
       "      <td>Not_Rated</td>\n",
       "      <td>0.01</td>\n",
       "    </tr>\n",
       "  </tbody>\n",
       "</table>\n",
       "<p>1827 rows × 12 columns</p>\n",
       "</div>"
      ],
      "text/plain": [
       "                                                name platform  \\\n",
       "16                                Grand Theft Auto V      PS3   \n",
       "23                                Grand Theft Auto V     X360   \n",
       "31                         Call of Duty: Black Ops 3      PS4   \n",
       "34                        Call of Duty: Black Ops II      PS3   \n",
       "35                        Call of Duty: Black Ops II     X360   \n",
       "...                                              ...      ...   \n",
       "16672  Metal Gear Solid V: The Definitive Experience     XOne   \n",
       "16691                   Dynasty Warriors: Eiketsuden      PS3   \n",
       "16692              Metal Gear Solid V: Ground Zeroes       PC   \n",
       "16710                  Samurai Warriors: Sanada Maru      PS3   \n",
       "16714                            Winning Post 8 2016      PSV   \n",
       "\n",
       "       year_of_release       genre  na_sales  eu_sales  jp_sales  other_sales  \\\n",
       "16                2013      Action      7.02      9.09      0.98         3.96   \n",
       "23                2013      Action      9.66      5.14      0.06         1.41   \n",
       "31                2015     Shooter      6.03      5.86      0.36         2.38   \n",
       "34                2012     Shooter      4.99      5.73      0.65         2.42   \n",
       "35                2012     Shooter      8.25      4.24      0.07         1.12   \n",
       "...                ...         ...       ...       ...       ...          ...   \n",
       "16672             2016      Action      0.01      0.00      0.00         0.00   \n",
       "16691             2016      Action      0.00      0.00      0.01         0.00   \n",
       "16692             2014      Action      0.00      0.01      0.00         0.00   \n",
       "16710             2016      Action      0.00      0.00      0.01         0.00   \n",
       "16714             2016  Simulation      0.00      0.00      0.01         0.00   \n",
       "\n",
       "       critic_score  user_score     rating  total_sales  \n",
       "16             97.0         8.2          M        21.05  \n",
       "23             97.0         8.1          M        16.27  \n",
       "31              NaN         NaN  Not_Rated        14.63  \n",
       "34             83.0         5.3          M        13.79  \n",
       "35             83.0         4.8          M        13.68  \n",
       "...             ...         ...        ...          ...  \n",
       "16672           NaN         0.0          M         0.01  \n",
       "16691           NaN         NaN  Not_Rated         0.01  \n",
       "16692          80.0         7.6          M         0.01  \n",
       "16710           NaN         NaN  Not_Rated         0.01  \n",
       "16714           NaN         NaN  Not_Rated         0.01  \n",
       "\n",
       "[1827 rows x 12 columns]"
      ]
     },
     "execution_count": 48,
     "metadata": {},
     "output_type": "execute_result"
    }
   ],
   "source": [
    "name_platform = filtered_df.groupby(['name']).filter(\n",
    "    lambda x: x['platform'].count() >= 2)\n",
    "name_platform"
   ]
  },
  {
   "cell_type": "markdown",
   "metadata": {},
   "source": [
    "For the analysis we will choose the Call of Duty: Black Ops II game, which was sold in 2012 on four platforms, and has the rating information."
   ]
  },
  {
   "cell_type": "code",
   "execution_count": 49,
   "metadata": {},
   "outputs": [
    {
     "data": {
      "text/html": [
       "<div>\n",
       "<style scoped>\n",
       "    .dataframe tbody tr th:only-of-type {\n",
       "        vertical-align: middle;\n",
       "    }\n",
       "\n",
       "    .dataframe tbody tr th {\n",
       "        vertical-align: top;\n",
       "    }\n",
       "\n",
       "    .dataframe thead th {\n",
       "        text-align: right;\n",
       "    }\n",
       "</style>\n",
       "<table border=\"1\" class=\"dataframe\">\n",
       "  <thead>\n",
       "    <tr style=\"text-align: right;\">\n",
       "      <th></th>\n",
       "      <th>name</th>\n",
       "      <th>platform</th>\n",
       "      <th>year_of_release</th>\n",
       "      <th>genre</th>\n",
       "      <th>na_sales</th>\n",
       "      <th>eu_sales</th>\n",
       "      <th>jp_sales</th>\n",
       "      <th>other_sales</th>\n",
       "      <th>critic_score</th>\n",
       "      <th>user_score</th>\n",
       "      <th>rating</th>\n",
       "      <th>total_sales</th>\n",
       "    </tr>\n",
       "  </thead>\n",
       "  <tbody>\n",
       "    <tr>\n",
       "      <th>34</th>\n",
       "      <td>Call of Duty: Black Ops II</td>\n",
       "      <td>PS3</td>\n",
       "      <td>2012</td>\n",
       "      <td>Shooter</td>\n",
       "      <td>4.99</td>\n",
       "      <td>5.73</td>\n",
       "      <td>0.65</td>\n",
       "      <td>2.42</td>\n",
       "      <td>83.0</td>\n",
       "      <td>5.3</td>\n",
       "      <td>M</td>\n",
       "      <td>13.79</td>\n",
       "    </tr>\n",
       "    <tr>\n",
       "      <th>35</th>\n",
       "      <td>Call of Duty: Black Ops II</td>\n",
       "      <td>X360</td>\n",
       "      <td>2012</td>\n",
       "      <td>Shooter</td>\n",
       "      <td>8.25</td>\n",
       "      <td>4.24</td>\n",
       "      <td>0.07</td>\n",
       "      <td>1.12</td>\n",
       "      <td>83.0</td>\n",
       "      <td>4.8</td>\n",
       "      <td>M</td>\n",
       "      <td>13.68</td>\n",
       "    </tr>\n",
       "    <tr>\n",
       "      <th>1227</th>\n",
       "      <td>Call of Duty: Black Ops II</td>\n",
       "      <td>PC</td>\n",
       "      <td>2012</td>\n",
       "      <td>Shooter</td>\n",
       "      <td>0.64</td>\n",
       "      <td>0.69</td>\n",
       "      <td>0.00</td>\n",
       "      <td>0.19</td>\n",
       "      <td>74.0</td>\n",
       "      <td>4.2</td>\n",
       "      <td>M</td>\n",
       "      <td>1.52</td>\n",
       "    </tr>\n",
       "    <tr>\n",
       "      <th>4706</th>\n",
       "      <td>Call of Duty: Black Ops II</td>\n",
       "      <td>WiiU</td>\n",
       "      <td>2012</td>\n",
       "      <td>Shooter</td>\n",
       "      <td>0.20</td>\n",
       "      <td>0.18</td>\n",
       "      <td>0.00</td>\n",
       "      <td>0.03</td>\n",
       "      <td>81.0</td>\n",
       "      <td>6.9</td>\n",
       "      <td>M</td>\n",
       "      <td>0.41</td>\n",
       "    </tr>\n",
       "  </tbody>\n",
       "</table>\n",
       "</div>"
      ],
      "text/plain": [
       "                            name platform  year_of_release    genre  na_sales  \\\n",
       "34    Call of Duty: Black Ops II      PS3             2012  Shooter      4.99   \n",
       "35    Call of Duty: Black Ops II     X360             2012  Shooter      8.25   \n",
       "1227  Call of Duty: Black Ops II       PC             2012  Shooter      0.64   \n",
       "4706  Call of Duty: Black Ops II     WiiU             2012  Shooter      0.20   \n",
       "\n",
       "      eu_sales  jp_sales  other_sales  critic_score  user_score rating  \\\n",
       "34        5.73      0.65         2.42          83.0         5.3      M   \n",
       "35        4.24      0.07         1.12          83.0         4.8      M   \n",
       "1227      0.69      0.00         0.19          74.0         4.2      M   \n",
       "4706      0.18      0.00         0.03          81.0         6.9      M   \n",
       "\n",
       "      total_sales  \n",
       "34          13.79  \n",
       "35          13.68  \n",
       "1227         1.52  \n",
       "4706         0.41  "
      ]
     },
     "execution_count": 49,
     "metadata": {},
     "output_type": "execute_result"
    }
   ],
   "source": [
    "call_of_duty = name_platform.query('name == \"Call of Duty: Black Ops II\"')\n",
    "call_of_duty"
   ]
  },
  {
   "cell_type": "code",
   "execution_count": 50,
   "metadata": {},
   "outputs": [
    {
     "data": {
      "text/html": [
       "<div>\n",
       "<style scoped>\n",
       "    .dataframe tbody tr th:only-of-type {\n",
       "        vertical-align: middle;\n",
       "    }\n",
       "\n",
       "    .dataframe tbody tr th {\n",
       "        vertical-align: top;\n",
       "    }\n",
       "\n",
       "    .dataframe thead th {\n",
       "        text-align: right;\n",
       "    }\n",
       "</style>\n",
       "<table border=\"1\" class=\"dataframe\">\n",
       "  <thead>\n",
       "    <tr style=\"text-align: right;\">\n",
       "      <th></th>\n",
       "      <th>user_score</th>\n",
       "      <th>critic_score</th>\n",
       "      <th>total_sales</th>\n",
       "    </tr>\n",
       "  </thead>\n",
       "  <tbody>\n",
       "    <tr>\n",
       "      <th>user_score</th>\n",
       "      <td>1.000000</td>\n",
       "      <td>0.451616</td>\n",
       "      <td>-0.306246</td>\n",
       "    </tr>\n",
       "    <tr>\n",
       "      <th>critic_score</th>\n",
       "      <td>0.451616</td>\n",
       "      <td>1.000000</td>\n",
       "      <td>0.700860</td>\n",
       "    </tr>\n",
       "    <tr>\n",
       "      <th>total_sales</th>\n",
       "      <td>-0.306246</td>\n",
       "      <td>0.700860</td>\n",
       "      <td>1.000000</td>\n",
       "    </tr>\n",
       "  </tbody>\n",
       "</table>\n",
       "</div>"
      ],
      "text/plain": [
       "              user_score  critic_score  total_sales\n",
       "user_score      1.000000      0.451616    -0.306246\n",
       "critic_score    0.451616      1.000000     0.700860\n",
       "total_sales    -0.306246      0.700860     1.000000"
      ]
     },
     "execution_count": 50,
     "metadata": {},
     "output_type": "execute_result"
    }
   ],
   "source": [
    "call_of_duty[['user_score', 'critic_score', 'total_sales']].corr()"
   ]
  },
  {
   "cell_type": "markdown",
   "metadata": {},
   "source": [
    "Again, we can observe the same tendency: users reviews do not affect sales. In fact, the correlation coefficient is even negative. On another hand, critics reviews affect sales: the higher the critics reviews the higher the sales will be regardless of the platform where a game is being sold."
   ]
  },
  {
   "cell_type": "markdown",
   "metadata": {},
   "source": [
    "## General distribution of games sales by genre."
   ]
  },
  {
   "cell_type": "code",
   "execution_count": 51,
   "metadata": {},
   "outputs": [
    {
     "data": {
      "text/html": [
       "<style  type=\"text/css\" >\n",
       "    #T_274fd73e_4d48_11eb_be0b_acde48001122row0_col0 {\n",
       "            width:  10em;\n",
       "             height:  80%;\n",
       "            background:  linear-gradient(90deg,#d65f5f 100.0%, transparent 100.0%);\n",
       "        }    #T_274fd73e_4d48_11eb_be0b_acde48001122row1_col0 {\n",
       "            width:  10em;\n",
       "             height:  80%;\n",
       "            background:  linear-gradient(90deg,#d65f5f 67.9%, transparent 67.9%);\n",
       "        }    #T_274fd73e_4d48_11eb_be0b_acde48001122row2_col0 {\n",
       "            width:  10em;\n",
       "             height:  80%;\n",
       "            background:  linear-gradient(90deg,#d65f5f 42.6%, transparent 42.6%);\n",
       "        }    #T_274fd73e_4d48_11eb_be0b_acde48001122row3_col0 {\n",
       "            width:  10em;\n",
       "             height:  80%;\n",
       "            background:  linear-gradient(90deg,#d65f5f 39.9%, transparent 39.9%);\n",
       "        }    #T_274fd73e_4d48_11eb_be0b_acde48001122row4_col0 {\n",
       "            width:  10em;\n",
       "             height:  80%;\n",
       "            background:  linear-gradient(90deg,#d65f5f 18.2%, transparent 18.2%);\n",
       "        }    #T_274fd73e_4d48_11eb_be0b_acde48001122row5_col0 {\n",
       "            width:  10em;\n",
       "             height:  80%;\n",
       "            background:  linear-gradient(90deg,#d65f5f 12.7%, transparent 12.7%);\n",
       "        }    #T_274fd73e_4d48_11eb_be0b_acde48001122row6_col0 {\n",
       "            width:  10em;\n",
       "             height:  80%;\n",
       "            background:  linear-gradient(90deg,#d65f5f 11.0%, transparent 11.0%);\n",
       "        }    #T_274fd73e_4d48_11eb_be0b_acde48001122row7_col0 {\n",
       "            width:  10em;\n",
       "             height:  80%;\n",
       "            background:  linear-gradient(90deg,#d65f5f 9.0%, transparent 9.0%);\n",
       "        }    #T_274fd73e_4d48_11eb_be0b_acde48001122row8_col0 {\n",
       "            width:  10em;\n",
       "             height:  80%;\n",
       "            background:  linear-gradient(90deg,#d65f5f 6.8%, transparent 6.8%);\n",
       "        }    #T_274fd73e_4d48_11eb_be0b_acde48001122row9_col0 {\n",
       "            width:  10em;\n",
       "             height:  80%;\n",
       "            background:  linear-gradient(90deg,#d65f5f 5.6%, transparent 5.6%);\n",
       "        }    #T_274fd73e_4d48_11eb_be0b_acde48001122row10_col0 {\n",
       "            width:  10em;\n",
       "             height:  80%;\n",
       "            background:  linear-gradient(90deg,#d65f5f 1.9%, transparent 1.9%);\n",
       "        }    #T_274fd73e_4d48_11eb_be0b_acde48001122row11_col0 {\n",
       "            width:  10em;\n",
       "             height:  80%;\n",
       "        }</style><table id=\"T_274fd73e_4d48_11eb_be0b_acde48001122\" ><thead>    <tr>        <th class=\"blank level0\" ></th>        <th class=\"col_heading level0 col0\" >total_sales</th>    </tr>    <tr>        <th class=\"index_name level0\" >genre</th>        <th class=\"blank\" ></th>    </tr></thead><tbody>\n",
       "                <tr>\n",
       "                        <th id=\"T_274fd73e_4d48_11eb_be0b_acde48001122level0_row0\" class=\"row_heading level0 row0\" >Action</th>\n",
       "                        <td id=\"T_274fd73e_4d48_11eb_be0b_acde48001122row0_col0\" class=\"data row0 col0\" >446.410000</td>\n",
       "            </tr>\n",
       "            <tr>\n",
       "                        <th id=\"T_274fd73e_4d48_11eb_be0b_acde48001122level0_row1\" class=\"row_heading level0 row1\" >Shooter</th>\n",
       "                        <td id=\"T_274fd73e_4d48_11eb_be0b_acde48001122row1_col0\" class=\"data row1 col0\" >304.750000</td>\n",
       "            </tr>\n",
       "            <tr>\n",
       "                        <th id=\"T_274fd73e_4d48_11eb_be0b_acde48001122level0_row2\" class=\"row_heading level0 row2\" >Role-Playing</th>\n",
       "                        <td id=\"T_274fd73e_4d48_11eb_be0b_acde48001122row2_col0\" class=\"data row2 col0\" >192.800000</td>\n",
       "            </tr>\n",
       "            <tr>\n",
       "                        <th id=\"T_274fd73e_4d48_11eb_be0b_acde48001122level0_row3\" class=\"row_heading level0 row3\" >Sports</th>\n",
       "                        <td id=\"T_274fd73e_4d48_11eb_be0b_acde48001122row3_col0\" class=\"data row3 col0\" >181.070000</td>\n",
       "            </tr>\n",
       "            <tr>\n",
       "                        <th id=\"T_274fd73e_4d48_11eb_be0b_acde48001122level0_row4\" class=\"row_heading level0 row4\" >Misc</th>\n",
       "                        <td id=\"T_274fd73e_4d48_11eb_be0b_acde48001122row4_col0\" class=\"data row4 col0\" >85.280000</td>\n",
       "            </tr>\n",
       "            <tr>\n",
       "                        <th id=\"T_274fd73e_4d48_11eb_be0b_acde48001122level0_row5\" class=\"row_heading level0 row5\" >Platform</th>\n",
       "                        <td id=\"T_274fd73e_4d48_11eb_be0b_acde48001122row5_col0\" class=\"data row5 col0\" >61.000000</td>\n",
       "            </tr>\n",
       "            <tr>\n",
       "                        <th id=\"T_274fd73e_4d48_11eb_be0b_acde48001122level0_row6\" class=\"row_heading level0 row6\" >Racing</th>\n",
       "                        <td id=\"T_274fd73e_4d48_11eb_be0b_acde48001122row6_col0\" class=\"data row6 col0\" >53.500000</td>\n",
       "            </tr>\n",
       "            <tr>\n",
       "                        <th id=\"T_274fd73e_4d48_11eb_be0b_acde48001122level0_row7\" class=\"row_heading level0 row7\" >Fighting</th>\n",
       "                        <td id=\"T_274fd73e_4d48_11eb_be0b_acde48001122row7_col0\" class=\"data row7 col0\" >44.490000</td>\n",
       "            </tr>\n",
       "            <tr>\n",
       "                        <th id=\"T_274fd73e_4d48_11eb_be0b_acde48001122level0_row8\" class=\"row_heading level0 row8\" >Simulation</th>\n",
       "                        <td id=\"T_274fd73e_4d48_11eb_be0b_acde48001122row8_col0\" class=\"data row8 col0\" >35.120000</td>\n",
       "            </tr>\n",
       "            <tr>\n",
       "                        <th id=\"T_274fd73e_4d48_11eb_be0b_acde48001122level0_row9\" class=\"row_heading level0 row9\" >Adventure</th>\n",
       "                        <td id=\"T_274fd73e_4d48_11eb_be0b_acde48001122row9_col0\" class=\"data row9 col0\" >29.430000</td>\n",
       "            </tr>\n",
       "            <tr>\n",
       "                        <th id=\"T_274fd73e_4d48_11eb_be0b_acde48001122level0_row10\" class=\"row_heading level0 row10\" >Strategy</th>\n",
       "                        <td id=\"T_274fd73e_4d48_11eb_be0b_acde48001122row10_col0\" class=\"data row10 col0\" >13.340000</td>\n",
       "            </tr>\n",
       "            <tr>\n",
       "                        <th id=\"T_274fd73e_4d48_11eb_be0b_acde48001122level0_row11\" class=\"row_heading level0 row11\" >Puzzle</th>\n",
       "                        <td id=\"T_274fd73e_4d48_11eb_be0b_acde48001122row11_col0\" class=\"data row11 col0\" >4.890000</td>\n",
       "            </tr>\n",
       "    </tbody></table>"
      ],
      "text/plain": [
       "<pandas.io.formats.style.Styler at 0x7f9e98f93e50>"
      ]
     },
     "execution_count": 51,
     "metadata": {},
     "output_type": "execute_result"
    }
   ],
   "source": [
    "filtered_df.groupby('genre')[['total_sales']].sum().sort_values(\n",
    "    'total_sales', ascending=False).style.bar()"
   ]
  },
  {
   "cell_type": "markdown",
   "metadata": {},
   "source": [
    "The most profitable genre is action, followed by shooter and role-playing genres. Players do not spend much on games of puzzle, strategy and adventure genres. If we would to generalize revenue distribution by genre, immersive games are the ones that users spend a lot on. Games that require concentration and intellectual activity are least profitable. On the other hand, action games are more expensive to develop too, so maybe that is why they cost more to begin with."
   ]
  },
  {
   "cell_type": "markdown",
   "metadata": {},
   "source": [
    "<a class=\"anchor\" id=\"4\">4. User Profile for Each Region</a>"
   ]
  },
  {
   "cell_type": "markdown",
   "metadata": {},
   "source": [
    "Let's create a user profile for each region that we have information about: the North America, the Europe and Japan."
   ]
  },
  {
   "cell_type": "code",
   "execution_count": 52,
   "metadata": {},
   "outputs": [],
   "source": [
    "revenue_region = filtered_df.pivot_table(\n",
    "    index='platform', values=['na_sales', 'eu_sales', 'jp_sales'], aggfunc='sum')"
   ]
  },
  {
   "cell_type": "code",
   "execution_count": 53,
   "metadata": {},
   "outputs": [
    {
     "data": {
      "text/html": [
       "<div>\n",
       "<style scoped>\n",
       "    .dataframe tbody tr th:only-of-type {\n",
       "        vertical-align: middle;\n",
       "    }\n",
       "\n",
       "    .dataframe tbody tr th {\n",
       "        vertical-align: top;\n",
       "    }\n",
       "\n",
       "    .dataframe thead th {\n",
       "        text-align: right;\n",
       "    }\n",
       "</style>\n",
       "<table border=\"1\" class=\"dataframe\">\n",
       "  <thead>\n",
       "    <tr style=\"text-align: right;\">\n",
       "      <th></th>\n",
       "      <th>eu_sales</th>\n",
       "      <th>jp_sales</th>\n",
       "      <th>na_sales</th>\n",
       "    </tr>\n",
       "    <tr>\n",
       "      <th>platform</th>\n",
       "      <th></th>\n",
       "      <th></th>\n",
       "      <th></th>\n",
       "    </tr>\n",
       "  </thead>\n",
       "  <tbody>\n",
       "    <tr>\n",
       "      <th>3DS</th>\n",
       "      <td>42.83</td>\n",
       "      <td>87.79</td>\n",
       "      <td>55.49</td>\n",
       "    </tr>\n",
       "    <tr>\n",
       "      <th>DS</th>\n",
       "      <td>3.78</td>\n",
       "      <td>3.72</td>\n",
       "      <td>4.93</td>\n",
       "    </tr>\n",
       "    <tr>\n",
       "      <th>PC</th>\n",
       "      <td>38.38</td>\n",
       "      <td>0.00</td>\n",
       "      <td>19.26</td>\n",
       "    </tr>\n",
       "    <tr>\n",
       "      <th>PS3</th>\n",
       "      <td>107.27</td>\n",
       "      <td>35.29</td>\n",
       "      <td>103.74</td>\n",
       "    </tr>\n",
       "    <tr>\n",
       "      <th>PS4</th>\n",
       "      <td>141.09</td>\n",
       "      <td>15.96</td>\n",
       "      <td>108.74</td>\n",
       "    </tr>\n",
       "    <tr>\n",
       "      <th>PSP</th>\n",
       "      <td>0.52</td>\n",
       "      <td>10.71</td>\n",
       "      <td>0.23</td>\n",
       "    </tr>\n",
       "    <tr>\n",
       "      <th>PSV</th>\n",
       "      <td>11.36</td>\n",
       "      <td>21.04</td>\n",
       "      <td>10.98</td>\n",
       "    </tr>\n",
       "    <tr>\n",
       "      <th>Wii</th>\n",
       "      <td>12.34</td>\n",
       "      <td>3.39</td>\n",
       "      <td>18.14</td>\n",
       "    </tr>\n",
       "    <tr>\n",
       "      <th>WiiU</th>\n",
       "      <td>25.13</td>\n",
       "      <td>13.01</td>\n",
       "      <td>38.10</td>\n",
       "    </tr>\n",
       "    <tr>\n",
       "      <th>X360</th>\n",
       "      <td>74.89</td>\n",
       "      <td>1.57</td>\n",
       "      <td>140.57</td>\n",
       "    </tr>\n",
       "    <tr>\n",
       "      <th>XOne</th>\n",
       "      <td>51.59</td>\n",
       "      <td>0.34</td>\n",
       "      <td>93.12</td>\n",
       "    </tr>\n",
       "  </tbody>\n",
       "</table>\n",
       "</div>"
      ],
      "text/plain": [
       "          eu_sales  jp_sales  na_sales\n",
       "platform                              \n",
       "3DS          42.83     87.79     55.49\n",
       "DS            3.78      3.72      4.93\n",
       "PC           38.38      0.00     19.26\n",
       "PS3         107.27     35.29    103.74\n",
       "PS4         141.09     15.96    108.74\n",
       "PSP           0.52     10.71      0.23\n",
       "PSV          11.36     21.04     10.98\n",
       "Wii          12.34      3.39     18.14\n",
       "WiiU         25.13     13.01     38.10\n",
       "X360         74.89      1.57    140.57\n",
       "XOne         51.59      0.34     93.12"
      ]
     },
     "execution_count": 53,
     "metadata": {},
     "output_type": "execute_result"
    }
   ],
   "source": [
    "revenue_region"
   ]
  },
  {
   "cell_type": "code",
   "execution_count": 54,
   "metadata": {},
   "outputs": [
    {
     "data": {
      "text/plain": [
       "Text(0.5, 1.0, 'All platfors by region')"
      ]
     },
     "execution_count": 54,
     "metadata": {},
     "output_type": "execute_result"
    },
    {
     "data": {
      "image/png": "[encoded data removed]",
      "text/plain": [
       "<Figure size 432x288 with 1 Axes>"
      ]
     },
     "metadata": {
      "needs_background": "light"
     },
     "output_type": "display_data"
    }
   ],
   "source": [
    "revenue_region.plot(kind='bar', stacked=True, cmap=\"Blues\", ec='black', linewidth=1)\n",
    "plt.title('All platfors by region')"
   ]
  },
  {
   "cell_type": "markdown",
   "metadata": {},
   "source": [
    "We can see from the bar chart above that sales revenue for each platform differs from region to region. In other words, some platforms are more popular in one region and less popular in another. Let's find top five popular platforms in Europe, Japan and North America. "
   ]
  },
  {
   "cell_type": "markdown",
   "metadata": {},
   "source": [
    "## Top five platforms by region"
   ]
  },
  {
   "cell_type": "code",
   "execution_count": 55,
   "metadata": {},
   "outputs": [],
   "source": [
    "eu_platforms = revenue_region['eu_sales'].nlargest(5)\n",
    "jp_platforms = revenue_region['jp_sales'].nlargest(5)\n",
    "na_platforms = revenue_region['na_sales'].nlargest(5)"
   ]
  },
  {
   "cell_type": "code",
   "execution_count": 56,
   "metadata": {},
   "outputs": [
    {
     "data": {
      "text/plain": [
       "['PSV', 'XOne', 'PS4', 'WiiU', 'X360', 'PS3', '3DS']"
      ]
     },
     "execution_count": 56,
     "metadata": {},
     "output_type": "execute_result"
    }
   ],
   "source": [
    "# A list of the most popular platforms in the three regions\n",
    "platforms_list = set(eu_platforms.index.to_list(\n",
    ") + jp_platforms.index.to_list() + na_platforms.index.to_list())\n",
    "list(platforms_list)"
   ]
  },
  {
   "cell_type": "code",
   "execution_count": 57,
   "metadata": {},
   "outputs": [],
   "source": [
    "# Assigning a distinct color to each platform\n",
    "colors = get_colors(len(platforms_list))\n",
    "colors_dict = {}\n",
    "for key in platforms_list:\n",
    "    for value in colors:\n",
    "        colors_dict[key] = value\n",
    "        colors.remove(value)\n",
    "        break"
   ]
  },
  {
   "cell_type": "code",
   "execution_count": 58,
   "metadata": {},
   "outputs": [
    {
     "data": {
      "image/png": "[encoded data removed]",
      "text/plain": [
       "<Figure size 864x288 with 3 Axes>"
      ]
     },
     "metadata": {},
     "output_type": "display_data"
    }
   ],
   "source": [
    "# Drawing a pie chart for top five platforms in each region\n",
    "fig, (ax1, ax2, ax3) = plt.subplots(1, 3, figsize=(12, 4))\n",
    "\n",
    "fig.suptitle('Top five platform by region')\n",
    "\n",
    "ax1.pie(na_platforms, labels=na_platforms.index, autopct='%1.f%%',\n",
    "        colors=[colors_dict[key] for key in na_platforms.index])\n",
    "ax2.pie(eu_platforms, labels=eu_platforms.index, autopct='%1.f%%',\n",
    "        colors=[colors_dict[key] for key in eu_platforms.index])\n",
    "ax3.pie(jp_platforms, labels=jp_platforms.index, autopct='%1.f%%',\n",
    "        colors=[colors_dict[key] for key in jp_platforms.index])\n",
    "\n",
    "ax1.title.set_text('North America')\n",
    "ax2.title.set_text('Europe')\n",
    "ax3.title.set_text('Japan')\n",
    "\n",
    "plt.show()"
   ]
  },
  {
   "cell_type": "markdown",
   "metadata": {},
   "source": [
    "The most obvious conclusion here is that Japan's most popular platform is only number five in the North America and Europe. Also platforms WiiU and PSV, that are quite popular in Japan, are not in the top five list for the North America and the Europe. The Europe and the North America are rather more similar to each other in users preferences, than they are to Japan."
   ]
  },
  {
   "cell_type": "markdown",
   "metadata": {},
   "source": [
    "## Top five genres by region"
   ]
  },
  {
   "cell_type": "code",
   "execution_count": 59,
   "metadata": {},
   "outputs": [],
   "source": [
    "na_genres = filtered_df.groupby('genre').na_sales.sum().nlargest(5)\n",
    "eu_genres = filtered_df.groupby('genre').eu_sales.sum().nlargest(5)\n",
    "jp_genres = filtered_df.groupby('genre').jp_sales.sum().nlargest(5)"
   ]
  },
  {
   "cell_type": "code",
   "execution_count": 60,
   "metadata": {},
   "outputs": [],
   "source": [
    "genres_list = set(eu_genres.index.to_list() + jp_genres.index.to_list() + na_genres.index.to_list())"
   ]
  },
  {
   "cell_type": "code",
   "execution_count": 61,
   "metadata": {},
   "outputs": [],
   "source": [
    "# Creating a dictionary to assign a unique color to each platform \n",
    "colors = get_colors(len(genres_list))\n",
    "colors_dict = {}\n",
    "for key in genres_list:\n",
    "    for value in colors:\n",
    "        colors_dict[key] = value\n",
    "        colors.remove(value)\n",
    "        break"
   ]
  },
  {
   "cell_type": "code",
   "execution_count": 62,
   "metadata": {},
   "outputs": [
    {
     "data": {
      "image/png": "[encoded data removed]",
      "text/plain": [
       "<Figure size 864x288 with 3 Axes>"
      ]
     },
     "metadata": {},
     "output_type": "display_data"
    }
   ],
   "source": [
    "# Drawig a pie chart\n",
    "fig, (ax1, ax2, ax3) = plt.subplots(1, 3, figsize=(12, 4))\n",
    "\n",
    "fig.suptitle('Top five genres by region')\n",
    "\n",
    "ax1.pie(na_genres, labels=na_genres.index, autopct='%1.f%%',\n",
    "        colors=[colors_dict[key] for key in na_genres.index])\n",
    "ax2.pie(eu_genres, labels=eu_genres.index, autopct='%1.f%%',\n",
    "        colors=[colors_dict[key] for key in eu_genres.index])\n",
    "ax3.pie(jp_genres, labels=jp_genres.index, autopct='%1.f%%',\n",
    "        colors=[colors_dict[key] for key in jp_genres.index])\n",
    "\n",
    "\n",
    "ax1.title.set_text('North America')\n",
    "ax2.title.set_text('Europe')\n",
    "ax3.title.set_text('Japan')\n",
    "\n",
    "plt.show()"
   ]
  },
  {
   "cell_type": "markdown",
   "metadata": {},
   "source": [
    "Genre preferences vary by a region. Player in the North America and Europe have similar preferences: they like action, shooter and sports the most. Japanese players' favourite genre is role-playing, their second preference is action, but in contrast with their counterparts in EU and North America, they don't like shooter as much, they also like fighting genre, which is not in top five most preferred in the Europe and North America. The Japanese players also prefer the music genre, which is not EU's and North America's top five preferred genres list."
   ]
  },
  {
   "cell_type": "markdown",
   "metadata": {},
   "source": [
    "## ESRB rating effect on sales by region"
   ]
  },
  {
   "cell_type": "code",
   "execution_count": 63,
   "metadata": {},
   "outputs": [],
   "source": [
    "na_rating = filtered_df.groupby('rating').na_sales.sum().nlargest(6)\n",
    "jp_rating = filtered_df.groupby('rating').jp_sales.sum().nlargest(6)\n",
    "eu_rating = filtered_df.groupby('rating').eu_sales.sum().nlargest(6)"
   ]
  },
  {
   "cell_type": "code",
   "execution_count": 64,
   "metadata": {},
   "outputs": [],
   "source": [
    "top_rating = pd.concat([pd.concat([na_rating, eu_rating], axis = 1), jp_rating], axis = 1)"
   ]
  },
  {
   "cell_type": "code",
   "execution_count": 65,
   "metadata": {},
   "outputs": [
    {
     "data": {
      "image/png": "[encoded data removed]",
      "text/plain": [
       "<Figure size 432x288 with 1 Axes>"
      ]
     },
     "metadata": {
      "needs_background": "light"
     },
     "output_type": "display_data"
    }
   ],
   "source": [
    "top_rating.plot(kind='bar', stacked=True, cmap=\"Blues\", ec='black', linewidth=1)\n",
    "plt.title('Top five ESRB ratings by region');"
   ]
  },
  {
   "cell_type": "markdown",
   "metadata": {},
   "source": [
    "There is a big amount of data in the rating column with missing values, which we decided to show as Not Rated. Unfortunately, we cannot guess what it is, although this information would be very interesting since this is top popular rating in Japan.<br>\n",
    "Based on the data we have we can make a conclusion that in the Europe and the North America the top consumer of video games is mature audience, because the top rating is M.<br>\n",
    "In Japan the top consumers are teenagers (ages 13 y.o. to 19 y.o.), since the most popular rating is \"T\". "
   ]
  },
  {
   "cell_type": "markdown",
   "metadata": {},
   "source": [
    "# Hypotheses testing"
   ]
  },
  {
   "cell_type": "markdown",
   "metadata": {},
   "source": [
    "## Average user ratings of the XBox One and PC platforms are the same"
   ]
  },
  {
   "cell_type": "markdown",
   "metadata": {},
   "source": [
    "Let's formulate the null and the alternative hypotheses.<br>\n",
    "Ho : m1 = m2 (the mean user ratings of the XBox One platform is equal to the mean user rating of the PC platform)<br>\n",
    "Ha : m1 <> m2 (the mean user ratings of the XBox One platform is NOT equal to the mean user rating of the PC platform)"
   ]
  },
  {
   "cell_type": "markdown",
   "metadata": {},
   "source": [
    "We will set the significance level to 5%, because we believe it will be appropriate for this subject of analysis."
   ]
  },
  {
   "cell_type": "code",
   "execution_count": 66,
   "metadata": {},
   "outputs": [],
   "source": [
    "# Setting the statistical significance level:\n",
    "alpha = .05"
   ]
  },
  {
   "cell_type": "code",
   "execution_count": 67,
   "metadata": {},
   "outputs": [
    {
     "data": {
      "text/html": [
       "<div>\n",
       "<style scoped>\n",
       "    .dataframe tbody tr th:only-of-type {\n",
       "        vertical-align: middle;\n",
       "    }\n",
       "\n",
       "    .dataframe tbody tr th {\n",
       "        vertical-align: top;\n",
       "    }\n",
       "\n",
       "    .dataframe thead th {\n",
       "        text-align: right;\n",
       "    }\n",
       "</style>\n",
       "<table border=\"1\" class=\"dataframe\">\n",
       "  <thead>\n",
       "    <tr style=\"text-align: right;\">\n",
       "      <th></th>\n",
       "      <th>count</th>\n",
       "      <th>mean</th>\n",
       "      <th>std</th>\n",
       "      <th>min</th>\n",
       "      <th>25%</th>\n",
       "      <th>50%</th>\n",
       "      <th>75%</th>\n",
       "      <th>max</th>\n",
       "    </tr>\n",
       "    <tr>\n",
       "      <th>platform</th>\n",
       "      <th></th>\n",
       "      <th></th>\n",
       "      <th></th>\n",
       "      <th></th>\n",
       "      <th></th>\n",
       "      <th></th>\n",
       "      <th></th>\n",
       "      <th></th>\n",
       "    </tr>\n",
       "  </thead>\n",
       "  <tbody>\n",
       "    <tr>\n",
       "      <th>XOne</th>\n",
       "      <td>193.0</td>\n",
       "      <td>6.149741</td>\n",
       "      <td>2.023717</td>\n",
       "      <td>0.0</td>\n",
       "      <td>5.5</td>\n",
       "      <td>6.6</td>\n",
       "      <td>7.4</td>\n",
       "      <td>9.2</td>\n",
       "    </tr>\n",
       "    <tr>\n",
       "      <th>PC</th>\n",
       "      <td>216.0</td>\n",
       "      <td>6.296296</td>\n",
       "      <td>1.904483</td>\n",
       "      <td>0.0</td>\n",
       "      <td>5.4</td>\n",
       "      <td>6.8</td>\n",
       "      <td>7.7</td>\n",
       "      <td>9.3</td>\n",
       "    </tr>\n",
       "  </tbody>\n",
       "</table>\n",
       "</div>"
      ],
      "text/plain": [
       "          count      mean       std  min  25%  50%  75%  max\n",
       "platform                                                    \n",
       "XOne      193.0  6.149741  2.023717  0.0  5.5  6.6  7.4  9.2\n",
       "PC        216.0  6.296296  1.904483  0.0  5.4  6.8  7.7  9.3"
      ]
     },
     "execution_count": 67,
     "metadata": {},
     "output_type": "execute_result"
    }
   ],
   "source": [
    "filtered_df.groupby('platform').user_score.describe().loc[['XOne', 'PC']]"
   ]
  },
  {
   "cell_type": "markdown",
   "metadata": {},
   "source": [
    "Let's find variances as well to see which parameter to use in the test."
   ]
  },
  {
   "cell_type": "code",
   "execution_count": 68,
   "metadata": {},
   "outputs": [
    {
     "data": {
      "text/plain": [
       "4.0954296200345395"
      ]
     },
     "execution_count": 68,
     "metadata": {},
     "output_type": "execute_result"
    }
   ],
   "source": [
    "filtered_df.query('platform == \"XOne\"').user_score.var()"
   ]
  },
  {
   "cell_type": "code",
   "execution_count": 69,
   "metadata": {},
   "outputs": [
    {
     "data": {
      "text/plain": [
       "3.6270559862187732"
      ]
     },
     "execution_count": 69,
     "metadata": {},
     "output_type": "execute_result"
    }
   ],
   "source": [
    "filtered_df.query('platform == \"PC\"').user_score.var()"
   ]
  },
  {
   "cell_type": "markdown",
   "metadata": {},
   "source": [
    "We can see that the variances of two populations are quite different, so we will set the \"equal variance\" parameter to False."
   ]
  },
  {
   "cell_type": "code",
   "execution_count": 70,
   "metadata": {},
   "outputs": [],
   "source": [
    "result1 = st.ttest_ind(filtered_df.query('platform == \"XOne\"').user_score.dropna(), \n",
    "                      filtered_df.query('platform == \"PC\"').user_score.dropna(), \n",
    "                      equal_var=False)"
   ]
  },
  {
   "cell_type": "code",
   "execution_count": 71,
   "metadata": {},
   "outputs": [
    {
     "data": {
      "text/plain": [
       "Ttest_indResult(statistic=-0.7516967626750201, pvalue=0.45268092905166846)"
      ]
     },
     "execution_count": 71,
     "metadata": {},
     "output_type": "execute_result"
    }
   ],
   "source": [
    "result1"
   ]
  },
  {
   "cell_type": "code",
   "execution_count": 72,
   "metadata": {},
   "outputs": [
    {
     "data": {
      "text/plain": [
       "False"
      ]
     },
     "execution_count": 72,
     "metadata": {},
     "output_type": "execute_result"
    }
   ],
   "source": [
    "result1.pvalue < alpha"
   ]
  },
  {
   "cell_type": "markdown",
   "metadata": {},
   "source": [
    "We cannot reject the null hypothesis. There is 45% probability of randomly getting different average user score on these two platforms. This probability is clearly too high to conclude that the average user ratings on the Xbox One and PC are the same."
   ]
  },
  {
   "cell_type": "markdown",
   "metadata": {},
   "source": [
    "## Average user ratings of the Action and Sports genres are different"
   ]
  },
  {
   "cell_type": "markdown",
   "metadata": {},
   "source": [
    "Let's formulate the null and the alternative hypotheses.<br>\n",
    "Ho : m1 = m2 (the mean user ratings of the Action genre is equal to the mean user rating of Sports genre)<br>\n",
    "Ha : m1 <> m2 (the mean user ratings of the Action genre is NOT equal to the mean user rating for Sports genre)"
   ]
  },
  {
   "cell_type": "code",
   "execution_count": 73,
   "metadata": {},
   "outputs": [
    {
     "data": {
      "text/html": [
       "<div>\n",
       "<style scoped>\n",
       "    .dataframe tbody tr th:only-of-type {\n",
       "        vertical-align: middle;\n",
       "    }\n",
       "\n",
       "    .dataframe tbody tr th {\n",
       "        vertical-align: top;\n",
       "    }\n",
       "\n",
       "    .dataframe thead th {\n",
       "        text-align: right;\n",
       "    }\n",
       "</style>\n",
       "<table border=\"1\" class=\"dataframe\">\n",
       "  <thead>\n",
       "    <tr style=\"text-align: right;\">\n",
       "      <th></th>\n",
       "      <th>count</th>\n",
       "      <th>mean</th>\n",
       "      <th>std</th>\n",
       "      <th>min</th>\n",
       "      <th>25%</th>\n",
       "      <th>50%</th>\n",
       "      <th>75%</th>\n",
       "      <th>max</th>\n",
       "    </tr>\n",
       "    <tr>\n",
       "      <th>genre</th>\n",
       "      <th></th>\n",
       "      <th></th>\n",
       "      <th></th>\n",
       "      <th></th>\n",
       "      <th></th>\n",
       "      <th></th>\n",
       "      <th></th>\n",
       "      <th></th>\n",
       "    </tr>\n",
       "  </thead>\n",
       "  <tbody>\n",
       "    <tr>\n",
       "      <th>Action</th>\n",
       "      <td>581.0</td>\n",
       "      <td>6.246127</td>\n",
       "      <td>2.323717</td>\n",
       "      <td>0.0</td>\n",
       "      <td>5.600</td>\n",
       "      <td>7.0</td>\n",
       "      <td>7.8</td>\n",
       "      <td>9.1</td>\n",
       "    </tr>\n",
       "    <tr>\n",
       "      <th>Sports</th>\n",
       "      <td>214.0</td>\n",
       "      <td>4.971495</td>\n",
       "      <td>2.274368</td>\n",
       "      <td>0.0</td>\n",
       "      <td>3.725</td>\n",
       "      <td>5.6</td>\n",
       "      <td>6.7</td>\n",
       "      <td>8.8</td>\n",
       "    </tr>\n",
       "  </tbody>\n",
       "</table>\n",
       "</div>"
      ],
      "text/plain": [
       "        count      mean       std  min    25%  50%  75%  max\n",
       "genre                                                       \n",
       "Action  581.0  6.246127  2.323717  0.0  5.600  7.0  7.8  9.1\n",
       "Sports  214.0  4.971495  2.274368  0.0  3.725  5.6  6.7  8.8"
      ]
     },
     "execution_count": 73,
     "metadata": {},
     "output_type": "execute_result"
    }
   ],
   "source": [
    "filtered_df.groupby('genre').user_score.describe().loc[['Action', 'Sports']]"
   ]
  },
  {
   "cell_type": "code",
   "execution_count": 74,
   "metadata": {},
   "outputs": [
    {
     "data": {
      "text/plain": [
       "5.399661700991151"
      ]
     },
     "execution_count": 74,
     "metadata": {},
     "output_type": "execute_result"
    }
   ],
   "source": [
    "filtered_df.query('genre == \"Action\"').user_score.var()"
   ]
  },
  {
   "cell_type": "code",
   "execution_count": 75,
   "metadata": {},
   "outputs": [
    {
     "data": {
      "text/plain": [
       "5.172751744109515"
      ]
     },
     "execution_count": 75,
     "metadata": {},
     "output_type": "execute_result"
    }
   ],
   "source": [
    "filtered_df.query('genre == \"Sports\"').user_score.var()"
   ]
  },
  {
   "cell_type": "markdown",
   "metadata": {},
   "source": [
    "We will set the significance level to 5% and set assume equal variances."
   ]
  },
  {
   "cell_type": "code",
   "execution_count": 76,
   "metadata": {},
   "outputs": [],
   "source": [
    "# Setting the statistical significance level:\n",
    "alpha2 = .05"
   ]
  },
  {
   "cell_type": "code",
   "execution_count": 77,
   "metadata": {},
   "outputs": [],
   "source": [
    "result2 = st.ttest_ind(filtered_df.query('genre == \"Action\"').user_score.dropna(), filtered_df.query('genre == \"Sports\"').user_score.dropna(), equal_var=True)"
   ]
  },
  {
   "cell_type": "code",
   "execution_count": 78,
   "metadata": {},
   "outputs": [
    {
     "data": {
      "text/plain": [
       "Ttest_indResult(statistic=6.8988691289562905, pvalue=1.0722304633966983e-11)"
      ]
     },
     "execution_count": 78,
     "metadata": {},
     "output_type": "execute_result"
    }
   ],
   "source": [
    "result2"
   ]
  },
  {
   "cell_type": "code",
   "execution_count": 79,
   "metadata": {},
   "outputs": [
    {
     "data": {
      "text/plain": [
       "True"
      ]
     },
     "execution_count": 79,
     "metadata": {},
     "output_type": "execute_result"
    }
   ],
   "source": [
    "result2.pvalue < alpha2"
   ]
  },
  {
   "cell_type": "markdown",
   "metadata": {},
   "source": [
    "The data provides sufficient evidence, given the the significance level we selected, to reject the null hypothesis. Therefore we can conclude that the average user score for the Action and Sports genre are the same."
   ]
  },
  {
   "cell_type": "markdown",
   "metadata": {},
   "source": [
    "# Project Conclusion"
   ]
  },
  {
   "cell_type": "markdown",
   "metadata": {},
   "source": [
    "<b>1. Getting to Know Data</b>\n",
    "\n",
    "We got familiar with the data. Looked at the general information and observed data type discrepancy.\n",
    "\n",
    "<b>2. Data Preparation</b>\n",
    "\n",
    "At this step we handled some missing values, changed data types and replaced \"tbd\" in the User Score column with zeros.<br>\n",
    "We decided to keep a lot of missing values as is in order to preserve as much data as possible.<br>\n",
    "Also, we added Total Sales column to the data, which was comprised of sales data in the three given regions.\n",
    "\n",
    "<b>3. Data Analysis</b>\n",
    "\n",
    "- The database has 36 years of data on video games sales in the three given regions. For almost a decade: from the eighties to the earlier nineties video games development was insignificant. It started to pick up quickly in the mid-nineties, growing at a fast rate and reached peak in 2008-2009 years. The average life span of a platform is about 8 years.\n",
    "- We found that not all data in the dataset is significant for the analysis and created a slice of data for the last four years only: from 2012 to 2016. For the selected period the sales for the platform are on the declining trend. There are still some games that have sales potential in the 2017 year, they are: the PS4 platform (the most potential), followed by XOne and DS. Platforms such as PC, WiiU, PS3X360 and PSV are shrinking in sales.\n",
    "- Almost all platform have games that were successful in sales.\n",
    "- Critics reviews have some influence over sales revenue. Users reviews do not affect sales.\n",
    "- The most profitable genre is action, followed by shooter and role-playing genres. Players do not spend much on games of puzzle, strategy and adventure genres. If we would to generalize revenue distribution by genre, immersive games are the ones that users spend a lot on. Games that require concentration and intellectual activity are least profitable. On the other hand, action games are more expensive to develop too, so maybe that is why they cost more to begin with.\n",
    "\n",
    "\n",
    "<b>User Profile for Each Region</b>\n",
    "\n",
    "- The most obvious conclusion here is that Japan's most popular platform is only number five in the North America and Europe. Also platforms WiiU and PSV, that are quite popular in Japan, are not in the top five list for the North America and the Europe. The Europe and the North America are rather more similar to each other in users preferences, than they are to Japan.\n",
    "- Genre preferences vary by a region. Player in the North America and Europe have similar preferences: they like action, shooter and sports the most. Japanese players' favorite genre is role-playing, their second preference is action, but in contrast with their counterparts in EU and North America, they don't like shooter as much, they also like fighting genre, which is not in top five most preferred in the Europe and North America. The Japanese players also prefer the music genre, which is not EU's and North America's top five preferred genres list.\n",
    "\n",
    "<b>Hypotheses Testing</b>\n",
    "\n",
    "Average user ratings of the XBox One and PC platforms are the same. The hypothesis was not confirmed.<br>\n",
    "Average user ratings of the Action and Sports genres are different. The hypothesis was confirmed.\n"
   ]
  }
 ],
 "metadata": {
  "kernelspec": {
   "display_name": "Python 3",
   "language": "python",
   "name": "python3"
  },
  "language_info": {
   "codemirror_mode": {
    "name": "ipython",
    "version": 3
   },
   "file_extension": ".py",
   "mimetype": "text/x-python",
   "name": "python",
   "nbconvert_exporter": "python",
   "pygments_lexer": "ipython3",
   "version": "3.8.3"
  },
  "toc": {
   "base_numbering": 1,
   "nav_menu": {},
   "number_sections": true,
   "sideBar": true,
   "skip_h1_title": false,
   "title_cell": "Table of Contents",
   "title_sidebar": "Contents",
   "toc_cell": true,
   "toc_position": {},
   "toc_section_display": true,
   "toc_window_display": true
  },
  "varInspector": {
   "cols": {
    "lenName": 16,
    "lenType": 16,
    "lenVar": 40
   },
   "kernels_config": {
    "python": {
     "delete_cmd_postfix": "",
     "delete_cmd_prefix": "del ",
     "library": "var_list.py",
     "varRefreshCmd": "print(var_dic_list())"
    },
    "r": {
     "delete_cmd_postfix": ") ",
     "delete_cmd_prefix": "rm(",
     "library": "var_list.r",
     "varRefreshCmd": "cat(var_dic_list()) "
    }
   },
   "types_to_exclude": [
    "module",
    "function",
    "builtin_function_or_method",
    "instance",
    "_Feature"
   ],
   "window_display": false
  }
 },
 "nbformat": 4,
 "nbformat_minor": 4
}
