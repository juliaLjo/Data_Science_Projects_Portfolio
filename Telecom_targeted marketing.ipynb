{
 "cells": [
  {
   "cell_type": "markdown",
   "id": "42f49546",
   "metadata": {},
   "source": [
    "# Project Description"
   ]
  },
  {
   "cell_type": "markdown",
   "id": "c5dbf48a",
   "metadata": {},
   "source": [
    "The telecom operator Interconnect would like to be able to forecast their churn of clients. If it's discovered that a user is planning to leave, they will be offered promotional codes and special plan options. Interconnect's marketing team has collected some of their clientele's personal data, including information about their plans and contracts."
   ]
  },
  {
   "cell_type": "markdown",
   "id": "598116eb",
   "metadata": {},
   "source": [
    "### Interconnect's services\n",
    "\n",
    "Interconnect mainly provides two types of services:<br>\n",
    "\n",
    "1. Internet. The network can be set up via a telephone line (DSL, *digital subscriber line*) or through a fiber optic cable.<br>\n",
    "    1. Landline communication. The telephone can be connected to several lines simultaneously.<br>\n",
    "\n",
    "Some other services the company provides include:<br>\n",
    "\n",
    "- Internet security: antivirus software (*DeviceProtection*) and a malicious website blocker (*OnlineSecurity*)<br>\n",
    "- A dedicated technical support line (*TechSupport*)<br>\n",
    "- Cloud file storage and data backup (*OnlineBackup*)<br>\n",
    "- TV streaming (*StreamingTV*) and a movie directory (*StreamingMovies*)<br>\n",
    "\n",
    "The clients can choose either a monthly payment or sign a 1- or 2-year contract. They can use various payment methods and receive an electronic invoice after a transaction.<br>"
   ]
  },
  {
   "cell_type": "markdown",
   "id": "c8620e1c",
   "metadata": {},
   "source": [
    "### Data Description\n",
    "\n",
    "The data consists of files obtained from different sources:<br>\n",
    "\n",
    "- `contract.csv` — contract information<br>\n",
    "- `personal.csv` — the client's personal data<br>\n",
    "- `internet.csv` — information about Internet services<br>\n",
    "- `phone.csv` — information about telephone services<br>\n",
    "\n",
    "In each file, the column `customerID` contains a unique code assigned to each client.<br>\n",
    "\n",
    "The contract information is valid as of February 1, 2020.<br>"
   ]
  },
  {
   "cell_type": "markdown",
   "id": "f9bff3cc",
   "metadata": {},
   "source": [
    "### Target\n",
    "\n",
    "Primary metric: AUC-ROC. This metric should be above 0.88.<br>\n",
    "\n",
    "Additional metric: Accuracy."
   ]
  },
  {
   "cell_type": "markdown",
   "id": "3c8b5e4a",
   "metadata": {},
   "source": [
    "# Initialization"
   ]
  },
  {
   "cell_type": "code",
   "execution_count": 1,
   "id": "777228fa",
   "metadata": {},
   "outputs": [],
   "source": [
    "import pandas as pd\n",
    "import numpy as np\n",
    "import matplotlib.pyplot as plt\n",
    "import seaborn as sns\n",
    "from pandas_profiling import ProfileReport\n",
    "from functools import reduce\n",
    "from sklearn.model_selection import train_test_split, KFold, RepeatedStratifiedKFold\n",
    "from sklearn.preprocessing import StandardScaler\n",
    "from imblearn.over_sampling import RandomOverSampler\n",
    "\n",
    "from sklearn.dummy import DummyClassifier\n",
    "from sklearn.tree import DecisionTreeClassifier\n",
    "\n",
    "from sklearn.metrics import f1_score, roc_auc_score, accuracy_score\n",
    "from sklearn.model_selection import cross_val_score, GridSearchCV\n",
    "\n",
    "from sklearn.ensemble import RandomForestClassifier, BaggingClassifier, \\\n",
    "    GradientBoostingClassifier, ExtraTreesClassifier, AdaBoostClassifier\n",
    "from sklearn.linear_model import SGDClassifier\n",
    "from imblearn.pipeline import Pipeline\n",
    "from sklearn.svm import OneClassSVM\n",
    "from sklearn.linear_model import LogisticRegression\n",
    "from sklearn.discriminant_analysis import LinearDiscriminantAnalysis\n",
    "from sklearn.neural_network import MLPClassifier\n",
    "from sklearn.naive_bayes import GaussianNB\n",
    "from sklearn.svm import LinearSVC, SVC\n",
    "from sklearn.neighbors import KNeighborsClassifier\n",
    "import os"
   ]
  },
  {
   "cell_type": "code",
   "execution_count": 2,
   "id": "24bc6f97",
   "metadata": {},
   "outputs": [],
   "source": [
    "# Load data\n",
    "contract = pd.read_csv('final_provider/contract.csv')\n",
    "internet = pd.read_csv('final_provider/internet.csv')\n",
    "personal = pd.read_csv('final_provider/personal.csv')\n",
    "phone = pd.read_csv('final_provider/phone.csv')"
   ]
  },
  {
   "cell_type": "code",
   "execution_count": 3,
   "id": "86ae952c",
   "metadata": {},
   "outputs": [],
   "source": [
    "# give names to data frames\n",
    "df_names = ['contract', 'internet', 'personal', 'phone']\n",
    "data_frames = [contract, personal, phone, internet]\n",
    "for i in range(len(df_names)):\n",
    "    data_frames[i].name = df_names[i]"
   ]
  },
  {
   "cell_type": "code",
   "execution_count": 4,
   "id": "eb7962a5",
   "metadata": {},
   "outputs": [
    {
     "data": {
      "text/html": [
       "<div>\n",
       "<style scoped>\n",
       "    .dataframe tbody tr th:only-of-type {\n",
       "        vertical-align: middle;\n",
       "    }\n",
       "\n",
       "    .dataframe tbody tr th {\n",
       "        vertical-align: top;\n",
       "    }\n",
       "\n",
       "    .dataframe thead th {\n",
       "        text-align: right;\n",
       "    }\n",
       "</style>\n",
       "<table border=\"1\" class=\"dataframe\">\n",
       "  <thead>\n",
       "    <tr style=\"text-align: right;\">\n",
       "      <th></th>\n",
       "      <th>customerID</th>\n",
       "      <th>BeginDate</th>\n",
       "      <th>EndDate</th>\n",
       "      <th>Type</th>\n",
       "      <th>PaperlessBilling</th>\n",
       "      <th>PaymentMethod</th>\n",
       "      <th>MonthlyCharges</th>\n",
       "      <th>TotalCharges</th>\n",
       "    </tr>\n",
       "  </thead>\n",
       "  <tbody>\n",
       "    <tr>\n",
       "      <th>0</th>\n",
       "      <td>7590-VHVEG</td>\n",
       "      <td>2020-01-01</td>\n",
       "      <td>No</td>\n",
       "      <td>Month-to-month</td>\n",
       "      <td>Yes</td>\n",
       "      <td>Electronic check</td>\n",
       "      <td>29.85</td>\n",
       "      <td>29.85</td>\n",
       "    </tr>\n",
       "    <tr>\n",
       "      <th>1</th>\n",
       "      <td>5575-GNVDE</td>\n",
       "      <td>2017-04-01</td>\n",
       "      <td>No</td>\n",
       "      <td>One year</td>\n",
       "      <td>No</td>\n",
       "      <td>Mailed check</td>\n",
       "      <td>56.95</td>\n",
       "      <td>1889.5</td>\n",
       "    </tr>\n",
       "    <tr>\n",
       "      <th>2</th>\n",
       "      <td>3668-QPYBK</td>\n",
       "      <td>2019-10-01</td>\n",
       "      <td>2019-12-01 00:00:00</td>\n",
       "      <td>Month-to-month</td>\n",
       "      <td>Yes</td>\n",
       "      <td>Mailed check</td>\n",
       "      <td>53.85</td>\n",
       "      <td>108.15</td>\n",
       "    </tr>\n",
       "    <tr>\n",
       "      <th>3</th>\n",
       "      <td>7795-CFOCW</td>\n",
       "      <td>2016-05-01</td>\n",
       "      <td>No</td>\n",
       "      <td>One year</td>\n",
       "      <td>No</td>\n",
       "      <td>Bank transfer (automatic)</td>\n",
       "      <td>42.30</td>\n",
       "      <td>1840.75</td>\n",
       "    </tr>\n",
       "    <tr>\n",
       "      <th>4</th>\n",
       "      <td>9237-HQITU</td>\n",
       "      <td>2019-09-01</td>\n",
       "      <td>2019-11-01 00:00:00</td>\n",
       "      <td>Month-to-month</td>\n",
       "      <td>Yes</td>\n",
       "      <td>Electronic check</td>\n",
       "      <td>70.70</td>\n",
       "      <td>151.65</td>\n",
       "    </tr>\n",
       "  </tbody>\n",
       "</table>\n",
       "</div>"
      ],
      "text/plain": [
       "   customerID   BeginDate              EndDate            Type  \\\n",
       "0  7590-VHVEG  2020-01-01                   No  Month-to-month   \n",
       "1  5575-GNVDE  2017-04-01                   No        One year   \n",
       "2  3668-QPYBK  2019-10-01  2019-12-01 00:00:00  Month-to-month   \n",
       "3  7795-CFOCW  2016-05-01                   No        One year   \n",
       "4  9237-HQITU  2019-09-01  2019-11-01 00:00:00  Month-to-month   \n",
       "\n",
       "  PaperlessBilling              PaymentMethod  MonthlyCharges TotalCharges  \n",
       "0              Yes           Electronic check           29.85        29.85  \n",
       "1               No               Mailed check           56.95       1889.5  \n",
       "2              Yes               Mailed check           53.85       108.15  \n",
       "3               No  Bank transfer (automatic)           42.30      1840.75  \n",
       "4              Yes           Electronic check           70.70       151.65  "
      ]
     },
     "metadata": {},
     "output_type": "display_data"
    },
    {
     "data": {
      "text/html": [
       "<div>\n",
       "<style scoped>\n",
       "    .dataframe tbody tr th:only-of-type {\n",
       "        vertical-align: middle;\n",
       "    }\n",
       "\n",
       "    .dataframe tbody tr th {\n",
       "        vertical-align: top;\n",
       "    }\n",
       "\n",
       "    .dataframe thead th {\n",
       "        text-align: right;\n",
       "    }\n",
       "</style>\n",
       "<table border=\"1\" class=\"dataframe\">\n",
       "  <thead>\n",
       "    <tr style=\"text-align: right;\">\n",
       "      <th></th>\n",
       "      <th>customerID</th>\n",
       "      <th>gender</th>\n",
       "      <th>SeniorCitizen</th>\n",
       "      <th>Partner</th>\n",
       "      <th>Dependents</th>\n",
       "    </tr>\n",
       "  </thead>\n",
       "  <tbody>\n",
       "    <tr>\n",
       "      <th>0</th>\n",
       "      <td>7590-VHVEG</td>\n",
       "      <td>Female</td>\n",
       "      <td>0</td>\n",
       "      <td>Yes</td>\n",
       "      <td>No</td>\n",
       "    </tr>\n",
       "    <tr>\n",
       "      <th>1</th>\n",
       "      <td>5575-GNVDE</td>\n",
       "      <td>Male</td>\n",
       "      <td>0</td>\n",
       "      <td>No</td>\n",
       "      <td>No</td>\n",
       "    </tr>\n",
       "    <tr>\n",
       "      <th>2</th>\n",
       "      <td>3668-QPYBK</td>\n",
       "      <td>Male</td>\n",
       "      <td>0</td>\n",
       "      <td>No</td>\n",
       "      <td>No</td>\n",
       "    </tr>\n",
       "    <tr>\n",
       "      <th>3</th>\n",
       "      <td>7795-CFOCW</td>\n",
       "      <td>Male</td>\n",
       "      <td>0</td>\n",
       "      <td>No</td>\n",
       "      <td>No</td>\n",
       "    </tr>\n",
       "    <tr>\n",
       "      <th>4</th>\n",
       "      <td>9237-HQITU</td>\n",
       "      <td>Female</td>\n",
       "      <td>0</td>\n",
       "      <td>No</td>\n",
       "      <td>No</td>\n",
       "    </tr>\n",
       "  </tbody>\n",
       "</table>\n",
       "</div>"
      ],
      "text/plain": [
       "   customerID  gender  SeniorCitizen Partner Dependents\n",
       "0  7590-VHVEG  Female              0     Yes         No\n",
       "1  5575-GNVDE    Male              0      No         No\n",
       "2  3668-QPYBK    Male              0      No         No\n",
       "3  7795-CFOCW    Male              0      No         No\n",
       "4  9237-HQITU  Female              0      No         No"
      ]
     },
     "metadata": {},
     "output_type": "display_data"
    },
    {
     "data": {
      "text/html": [
       "<div>\n",
       "<style scoped>\n",
       "    .dataframe tbody tr th:only-of-type {\n",
       "        vertical-align: middle;\n",
       "    }\n",
       "\n",
       "    .dataframe tbody tr th {\n",
       "        vertical-align: top;\n",
       "    }\n",
       "\n",
       "    .dataframe thead th {\n",
       "        text-align: right;\n",
       "    }\n",
       "</style>\n",
       "<table border=\"1\" class=\"dataframe\">\n",
       "  <thead>\n",
       "    <tr style=\"text-align: right;\">\n",
       "      <th></th>\n",
       "      <th>customerID</th>\n",
       "      <th>InternetService</th>\n",
       "      <th>OnlineSecurity</th>\n",
       "      <th>OnlineBackup</th>\n",
       "      <th>DeviceProtection</th>\n",
       "      <th>TechSupport</th>\n",
       "      <th>StreamingTV</th>\n",
       "      <th>StreamingMovies</th>\n",
       "    </tr>\n",
       "  </thead>\n",
       "  <tbody>\n",
       "    <tr>\n",
       "      <th>0</th>\n",
       "      <td>7590-VHVEG</td>\n",
       "      <td>DSL</td>\n",
       "      <td>No</td>\n",
       "      <td>Yes</td>\n",
       "      <td>No</td>\n",
       "      <td>No</td>\n",
       "      <td>No</td>\n",
       "      <td>No</td>\n",
       "    </tr>\n",
       "    <tr>\n",
       "      <th>1</th>\n",
       "      <td>5575-GNVDE</td>\n",
       "      <td>DSL</td>\n",
       "      <td>Yes</td>\n",
       "      <td>No</td>\n",
       "      <td>Yes</td>\n",
       "      <td>No</td>\n",
       "      <td>No</td>\n",
       "      <td>No</td>\n",
       "    </tr>\n",
       "    <tr>\n",
       "      <th>2</th>\n",
       "      <td>3668-QPYBK</td>\n",
       "      <td>DSL</td>\n",
       "      <td>Yes</td>\n",
       "      <td>Yes</td>\n",
       "      <td>No</td>\n",
       "      <td>No</td>\n",
       "      <td>No</td>\n",
       "      <td>No</td>\n",
       "    </tr>\n",
       "    <tr>\n",
       "      <th>3</th>\n",
       "      <td>7795-CFOCW</td>\n",
       "      <td>DSL</td>\n",
       "      <td>Yes</td>\n",
       "      <td>No</td>\n",
       "      <td>Yes</td>\n",
       "      <td>Yes</td>\n",
       "      <td>No</td>\n",
       "      <td>No</td>\n",
       "    </tr>\n",
       "    <tr>\n",
       "      <th>4</th>\n",
       "      <td>9237-HQITU</td>\n",
       "      <td>Fiber optic</td>\n",
       "      <td>No</td>\n",
       "      <td>No</td>\n",
       "      <td>No</td>\n",
       "      <td>No</td>\n",
       "      <td>No</td>\n",
       "      <td>No</td>\n",
       "    </tr>\n",
       "  </tbody>\n",
       "</table>\n",
       "</div>"
      ],
      "text/plain": [
       "   customerID InternetService OnlineSecurity OnlineBackup DeviceProtection  \\\n",
       "0  7590-VHVEG             DSL             No          Yes               No   \n",
       "1  5575-GNVDE             DSL            Yes           No              Yes   \n",
       "2  3668-QPYBK             DSL            Yes          Yes               No   \n",
       "3  7795-CFOCW             DSL            Yes           No              Yes   \n",
       "4  9237-HQITU     Fiber optic             No           No               No   \n",
       "\n",
       "  TechSupport StreamingTV StreamingMovies  \n",
       "0          No          No              No  \n",
       "1          No          No              No  \n",
       "2          No          No              No  \n",
       "3         Yes          No              No  \n",
       "4          No          No              No  "
      ]
     },
     "metadata": {},
     "output_type": "display_data"
    },
    {
     "data": {
      "text/html": [
       "<div>\n",
       "<style scoped>\n",
       "    .dataframe tbody tr th:only-of-type {\n",
       "        vertical-align: middle;\n",
       "    }\n",
       "\n",
       "    .dataframe tbody tr th {\n",
       "        vertical-align: top;\n",
       "    }\n",
       "\n",
       "    .dataframe thead th {\n",
       "        text-align: right;\n",
       "    }\n",
       "</style>\n",
       "<table border=\"1\" class=\"dataframe\">\n",
       "  <thead>\n",
       "    <tr style=\"text-align: right;\">\n",
       "      <th></th>\n",
       "      <th>customerID</th>\n",
       "      <th>MultipleLines</th>\n",
       "    </tr>\n",
       "  </thead>\n",
       "  <tbody>\n",
       "    <tr>\n",
       "      <th>0</th>\n",
       "      <td>5575-GNVDE</td>\n",
       "      <td>No</td>\n",
       "    </tr>\n",
       "    <tr>\n",
       "      <th>1</th>\n",
       "      <td>3668-QPYBK</td>\n",
       "      <td>No</td>\n",
       "    </tr>\n",
       "    <tr>\n",
       "      <th>2</th>\n",
       "      <td>9237-HQITU</td>\n",
       "      <td>No</td>\n",
       "    </tr>\n",
       "    <tr>\n",
       "      <th>3</th>\n",
       "      <td>9305-CDSKC</td>\n",
       "      <td>Yes</td>\n",
       "    </tr>\n",
       "    <tr>\n",
       "      <th>4</th>\n",
       "      <td>1452-KIOVK</td>\n",
       "      <td>Yes</td>\n",
       "    </tr>\n",
       "  </tbody>\n",
       "</table>\n",
       "</div>"
      ],
      "text/plain": [
       "   customerID MultipleLines\n",
       "0  5575-GNVDE            No\n",
       "1  3668-QPYBK            No\n",
       "2  9237-HQITU            No\n",
       "3  9305-CDSKC           Yes\n",
       "4  1452-KIOVK           Yes"
      ]
     },
     "metadata": {},
     "output_type": "display_data"
    }
   ],
   "source": [
    "display(contract.head(5))\n",
    "display(personal.head(5))\n",
    "display(internet.head(5))\n",
    "display(phone.head(5))"
   ]
  },
  {
   "cell_type": "code",
   "execution_count": 5,
   "id": "c6126cc3",
   "metadata": {},
   "outputs": [],
   "source": [
    "def data_dublicates(data):\n",
    "    '''\n",
    "    Function takes a dataset as an agrument\n",
    "    and prints its name, number of dublicated rows and sum \n",
    "    of row with missing values'''\n",
    "    \n",
    "    print('TABLE: ', str.upper(df.name))\n",
    "    print('Number of dublicated rows: ', data.duplicated().sum())\n",
    "    print('Number of missing values:  ', data.isna().sum().sum())\n",
    "    print('')"
   ]
  },
  {
   "cell_type": "code",
   "execution_count": 6,
   "id": "107d5237",
   "metadata": {},
   "outputs": [
    {
     "name": "stdout",
     "output_type": "stream",
     "text": [
      "TABLE:  CONTRACT\n",
      "Number of dublicated rows:  0\n",
      "Number of missing values:   0\n",
      "\n",
      "TABLE:  INTERNET\n",
      "Number of dublicated rows:  0\n",
      "Number of missing values:   0\n",
      "\n",
      "TABLE:  PERSONAL\n",
      "Number of dublicated rows:  0\n",
      "Number of missing values:   0\n",
      "\n",
      "TABLE:  PHONE\n",
      "Number of dublicated rows:  0\n",
      "Number of missing values:   0\n",
      "\n"
     ]
    }
   ],
   "source": [
    "for df in data_frames:\n",
    "    data_dublicates(df)"
   ]
  },
  {
   "cell_type": "markdown",
   "id": "45a8e1de",
   "metadata": {},
   "source": [
    "# Part I: EDA and Data Preparation"
   ]
  },
  {
   "cell_type": "markdown",
   "id": "42d61cc3",
   "metadata": {},
   "source": [
    "#### Target Column and Duration"
   ]
  },
  {
   "cell_type": "code",
   "execution_count": 7,
   "id": "3f901b00",
   "metadata": {},
   "outputs": [],
   "source": [
    "# new column: customer has left = 1, customer is current = 0\n",
    "contract['left'] = contract['EndDate'].apply(lambda x: 0 if x=='No' else 1)"
   ]
  },
  {
   "cell_type": "code",
   "execution_count": 8,
   "id": "78a3ccc1",
   "metadata": {},
   "outputs": [
    {
     "data": {
      "text/plain": [
       "0    73.46\n",
       "1    26.54\n",
       "Name: left, dtype: float64"
      ]
     },
     "execution_count": 8,
     "metadata": {},
     "output_type": "execute_result"
    }
   ],
   "source": [
    "# percentage of customers who is still with the company - 0, and who has left -1\n",
    "round(100*contract.left.value_counts()/contract.shape[0], 2)"
   ]
  },
  {
   "cell_type": "code",
   "execution_count": 9,
   "id": "5916d32b",
   "metadata": {},
   "outputs": [],
   "source": [
    "# from object type to numeric\n",
    "contract.TotalCharges = pd.to_numeric(contract.TotalCharges, errors='coerce')\n",
    "# from object type to datetime\n",
    "contract.BeginDate = pd.to_datetime(contract.BeginDate)\n",
    "contract.EndDate = pd.to_datetime(contract.EndDate, errors='coerce')"
   ]
  },
  {
   "cell_type": "code",
   "execution_count": 10,
   "id": "002738fe",
   "metadata": {},
   "outputs": [
    {
     "name": "stdout",
     "output_type": "stream",
     "text": [
      "Erliest begin date 2013-10-01 00:00:00\n",
      "Latest end date in the dataset 2020-01-01 00:00:00\n"
     ]
    }
   ],
   "source": [
    "print(\"Erliest begin date\", contract['BeginDate'].min())\n",
    "print(\"Latest end date in the dataset\", contract[contract['EndDate']!=\"NaT\"]['EndDate'].max())"
   ]
  },
  {
   "cell_type": "code",
   "execution_count": 11,
   "id": "b185e8ec",
   "metadata": {},
   "outputs": [],
   "source": [
    "# replacing NaT with latest time stamp\n",
    "contract['EndDate'] = contract['EndDate'].fillna(pd.to_datetime('2020-01-01 00:00:00'))\n",
    "# creating a new column for duration of service in days\n",
    "contract['duration'] = (contract.EndDate - contract.BeginDate).dt.days"
   ]
  },
  {
   "cell_type": "code",
   "execution_count": 12,
   "id": "d221f6dd",
   "metadata": {},
   "outputs": [
    {
     "data": {
      "image/png": "[encoded data removed]",
      "text/plain": [
       "<Figure size 432x288 with 1 Axes>"
      ]
     },
     "metadata": {
      "needs_background": "light"
     },
     "output_type": "display_data"
    }
   ],
   "source": [
    "# plotting a distribution of service duration vs client status\n",
    "sns.histplot(data=contract.loc[contract['left'] == 0]['duration'], \n",
    "             kde=True, label='Current Clinet'),\n",
    "sns.histplot(data=contract.loc[contract['left'] == 1]['duration'],\n",
    "             kde=True, label='Former Client', color=\"orange\", alpha=.5)\n",
    "plt.legend();"
   ]
  },
  {
   "cell_type": "markdown",
   "id": "bef2e7dc",
   "metadata": {},
   "source": [
    "Clients who has left tend to terminate their service in the beginning."
   ]
  },
  {
   "cell_type": "code",
   "execution_count": 13,
   "id": "53668ae2",
   "metadata": {},
   "outputs": [],
   "source": [
    "# dropping two columns\n",
    "contract.drop(['EndDate', 'BeginDate'], inplace=True, axis=1)"
   ]
  },
  {
   "cell_type": "markdown",
   "id": "557fce01",
   "metadata": {},
   "source": [
    "#### Monthly Charges"
   ]
  },
  {
   "cell_type": "code",
   "execution_count": 14,
   "id": "a48e5f19",
   "metadata": {},
   "outputs": [
    {
     "data": {
      "image/png": "[encoded data removed]",
      "text/plain": [
       "<Figure size 432x288 with 1 Axes>"
      ]
     },
     "metadata": {
      "needs_background": "light"
     },
     "output_type": "display_data"
    }
   ],
   "source": [
    "sns.histplot(data=contract.loc[contract['left'] == 0]['MonthlyCharges'], \n",
    "             kde=True, label='Current Clinet'),\n",
    "sns.histplot(data=contract.loc[contract['left'] == 1]['MonthlyCharges'],\n",
    "             kde=True, label='Former Client', color=\"orange\")\n",
    "plt.legend();"
   ]
  },
  {
   "cell_type": "code",
   "execution_count": 15,
   "id": "e17e5486",
   "metadata": {},
   "outputs": [
    {
     "data": {
      "image/png": "[encoded data removed]",
      "text/plain": [
       "<Figure size 432x288 with 1 Axes>"
      ]
     },
     "metadata": {
      "needs_background": "light"
     },
     "output_type": "display_data"
    }
   ],
   "source": [
    "sns.boxplot(x='left', y='MonthlyCharges', data=contract, hue='left')\n",
    "\n",
    "plt.show()"
   ]
  },
  {
   "cell_type": "code",
   "execution_count": 16,
   "id": "8347fb68",
   "metadata": {},
   "outputs": [
    {
     "data": {
      "text/html": [
       "<div>\n",
       "<style scoped>\n",
       "    .dataframe tbody tr th:only-of-type {\n",
       "        vertical-align: middle;\n",
       "    }\n",
       "\n",
       "    .dataframe tbody tr th {\n",
       "        vertical-align: top;\n",
       "    }\n",
       "\n",
       "    .dataframe thead th {\n",
       "        text-align: right;\n",
       "    }\n",
       "</style>\n",
       "<table border=\"1\" class=\"dataframe\">\n",
       "  <thead>\n",
       "    <tr style=\"text-align: right;\">\n",
       "      <th></th>\n",
       "      <th>min</th>\n",
       "      <th>max</th>\n",
       "      <th>mean</th>\n",
       "      <th>median</th>\n",
       "      <th>var</th>\n",
       "      <th>25_percentile</th>\n",
       "      <th>75_percentile</th>\n",
       "    </tr>\n",
       "    <tr>\n",
       "      <th>left</th>\n",
       "      <th></th>\n",
       "      <th></th>\n",
       "      <th></th>\n",
       "      <th></th>\n",
       "      <th></th>\n",
       "      <th></th>\n",
       "      <th></th>\n",
       "    </tr>\n",
       "  </thead>\n",
       "  <tbody>\n",
       "    <tr>\n",
       "      <th>0</th>\n",
       "      <td>18.25</td>\n",
       "      <td>118.75</td>\n",
       "      <td>61.265124</td>\n",
       "      <td>64.425</td>\n",
       "      <td>966.752767</td>\n",
       "      <td>25.10</td>\n",
       "      <td>88.4</td>\n",
       "    </tr>\n",
       "    <tr>\n",
       "      <th>1</th>\n",
       "      <td>18.85</td>\n",
       "      <td>118.35</td>\n",
       "      <td>74.441332</td>\n",
       "      <td>79.650</td>\n",
       "      <td>608.414183</td>\n",
       "      <td>56.15</td>\n",
       "      <td>94.2</td>\n",
       "    </tr>\n",
       "  </tbody>\n",
       "</table>\n",
       "</div>"
      ],
      "text/plain": [
       "        min     max       mean  median         var  25_percentile  \\\n",
       "left                                                                \n",
       "0     18.25  118.75  61.265124  64.425  966.752767          25.10   \n",
       "1     18.85  118.35  74.441332  79.650  608.414183          56.15   \n",
       "\n",
       "      75_percentile  \n",
       "left                 \n",
       "0              88.4  \n",
       "1              94.2  "
      ]
     },
     "execution_count": 16,
     "metadata": {},
     "output_type": "execute_result"
    }
   ],
   "source": [
    "# creating a df with stats\n",
    "Monthly_Charges = contract.groupby('left').agg(['min', 'max','mean', 'median', 'var']).MonthlyCharges\n",
    "# adding percentiles\n",
    "Monthly_Charges['25_percentile'] = [np.percentile(contract.query('left == 0').MonthlyCharges, 25), \n",
    "                                   np.percentile( contract.query('left == 1').MonthlyCharges, 25)]\n",
    "Monthly_Charges['75_percentile'] = [np.percentile(contract.query('left == 0').MonthlyCharges, 75), \n",
    "                                   np.percentile(contract.query('left == 1').MonthlyCharges, 75)]\n",
    "Monthly_Charges"
   ]
  },
  {
   "cell_type": "markdown",
   "id": "54370a88",
   "metadata": {},
   "source": [
    "#### Share of telephone and Internet users"
   ]
  },
  {
   "cell_type": "code",
   "execution_count": 17,
   "id": "929d7dd0",
   "metadata": {},
   "outputs": [
    {
     "name": "stdout",
     "output_type": "stream",
     "text": [
      "Internet Unique:  5517\n",
      "Phone Unique:  6361\n"
     ]
    }
   ],
   "source": [
    "print('Internet Unique: ', internet['customerID'].nunique())\n",
    "print('Phone Unique: ', phone['customerID'].nunique())"
   ]
  },
  {
   "cell_type": "code",
   "execution_count": 18,
   "id": "1accc542",
   "metadata": {},
   "outputs": [
    {
     "data": {
      "image/png": "[encoded data removed]",
      "text/plain": [
       "<Figure size 576x288 with 2 Axes>"
      ]
     },
     "metadata": {},
     "output_type": "display_data"
    }
   ],
   "source": [
    "# Plotting percentage of internet/phone use. All records.\n",
    "# ax1,ax2 refer to your two pies\n",
    "fig, (ax1, ax2) = plt.subplots(1, 2, figsize=(8, 4))\n",
    "# Share of internet users\n",
    "labels = 'Yes', 'No'\n",
    "sizes = [internet['customerID'].nunique()/contract.shape[0],\n",
    "         1 - internet['customerID'].nunique()/contract.shape[0]]\n",
    "explode = (0, 0.1)  # only \"explode\" the 2nd slice (i.e. 'No')\n",
    "ax1.pie(sizes, explode=explode, labels=labels, autopct='%1.1f%%',\n",
    "        shadow=True, startangle=90)\n",
    "\n",
    "\n",
    "# share of phone users\n",
    "sizes = [phone['customerID'].nunique()/contract.shape[0],\n",
    "         1 - phone['customerID'].nunique()/contract.shape[0]]\n",
    "explode = (0, 0.1)  # only \"explode\" the 2nd slice (i.e. 'No')\n",
    "ax2.pie(sizes, explode=explode, labels=labels, autopct='%1.1f%%',\n",
    "        shadow=True, startangle=90)\n",
    "plt.title(\"Left side - Internet Users, Right side - phone users\",\n",
    "          fontdict={'horizontalalignment': 'right'})\n",
    "\n",
    "plt.show()"
   ]
  },
  {
   "cell_type": "markdown",
   "id": "311629c7",
   "metadata": {},
   "source": [
    "## Merging all tables"
   ]
  },
  {
   "cell_type": "code",
   "execution_count": 19,
   "id": "db97957f",
   "metadata": {},
   "outputs": [],
   "source": [
    "big_df = reduce(lambda  left, right: pd.merge(left,right,on=['customerID'], how='outer'), data_frames)"
   ]
  },
  {
   "cell_type": "code",
   "execution_count": 20,
   "id": "fd3f0bb0",
   "metadata": {},
   "outputs": [
    {
     "data": {
      "image/png": "[encoded data removed]",
      "text/plain": [
       "<Figure size 432x288 with 2 Axes>"
      ]
     },
     "metadata": {
      "needs_background": "light"
     },
     "output_type": "display_data"
    }
   ],
   "source": [
    "# Create correlation matrix\n",
    "corr = big_df.corr()\n",
    "# display pairs with corr coef greater than 0.5\n",
    "kot = corr[corr>=.5]\n",
    "plt.figure(figsize=(6,4))\n",
    "sns.heatmap(kot, cmap=\"Greens\");"
   ]
  },
  {
   "cell_type": "code",
   "execution_count": 21,
   "id": "02b1003f",
   "metadata": {},
   "outputs": [],
   "source": [
    "categorical = ['Type', 'PaperlessBilling', 'PaymentMethod',\n",
    "               'gender', 'Partner', 'Dependents', 'MultipleLines', \n",
    "               'InternetService', 'OnlineSecurity', 'OnlineBackup', \n",
    "              'DeviceProtection', 'TechSupport', 'StreamingTV', 'StreamingMovies']"
   ]
  },
  {
   "cell_type": "code",
   "execution_count": 22,
   "id": "64b246d1",
   "metadata": {},
   "outputs": [
    {
     "name": "stdout",
     "output_type": "stream",
     "text": [
      "(7043, 23)\n"
     ]
    }
   ],
   "source": [
    "big_df = pd.get_dummies(big_df, columns = categorical, drop_first=True)\n",
    "print(big_df.shape)"
   ]
  },
  {
   "cell_type": "code",
   "execution_count": 23,
   "id": "593b822e",
   "metadata": {},
   "outputs": [
    {
     "data": {
      "text/plain": [
       "customerID                                0\n",
       "MonthlyCharges                            0\n",
       "TotalCharges                             11\n",
       "left                                      0\n",
       "duration                                  0\n",
       "SeniorCitizen                             0\n",
       "Type_One year                             0\n",
       "Type_Two year                             0\n",
       "PaperlessBilling_Yes                      0\n",
       "PaymentMethod_Credit card (automatic)     0\n",
       "PaymentMethod_Electronic check            0\n",
       "PaymentMethod_Mailed check                0\n",
       "gender_Male                               0\n",
       "Partner_Yes                               0\n",
       "Dependents_Yes                            0\n",
       "MultipleLines_Yes                         0\n",
       "InternetService_Fiber optic               0\n",
       "OnlineSecurity_Yes                        0\n",
       "OnlineBackup_Yes                          0\n",
       "DeviceProtection_Yes                      0\n",
       "TechSupport_Yes                           0\n",
       "StreamingTV_Yes                           0\n",
       "StreamingMovies_Yes                       0\n",
       "dtype: int64"
      ]
     },
     "execution_count": 23,
     "metadata": {},
     "output_type": "execute_result"
    }
   ],
   "source": [
    "big_df.isna().sum()"
   ]
  },
  {
   "cell_type": "markdown",
   "id": "39358de9",
   "metadata": {},
   "source": [
    "Zeros in \"total charges\" table have become missing values. Let's drop them."
   ]
  },
  {
   "cell_type": "code",
   "execution_count": 24,
   "id": "e25b5b9f",
   "metadata": {},
   "outputs": [
    {
     "name": "stdout",
     "output_type": "stream",
     "text": [
      "(7032, 23)\n"
     ]
    }
   ],
   "source": [
    "big_df.dropna(inplace=True)\n",
    "print(big_df.shape)"
   ]
  },
  {
   "cell_type": "code",
   "execution_count": 25,
   "id": "ceb756e8",
   "metadata": {},
   "outputs": [],
   "source": [
    "# removing useless feature - customer ID\n",
    "big_df.drop(['customerID'], axis=1, inplace=True)"
   ]
  },
  {
   "cell_type": "code",
   "execution_count": 26,
   "id": "f640f75b",
   "metadata": {},
   "outputs": [],
   "source": [
    "X = big_df.drop(['left'], axis=1)\n",
    "y = big_df['left']"
   ]
  },
  {
   "cell_type": "code",
   "execution_count": 27,
   "id": "9ddc48ff",
   "metadata": {},
   "outputs": [],
   "source": [
    "# Scaling numerical variables\n",
    "numeric_cols = [\"TotalCharges\", \"MonthlyCharges\", \"duration\"]\n",
    "scaler = StandardScaler()\n",
    "scaler.fit(X[numeric_cols])\n",
    "X[numeric_cols] = scaler.transform(X[numeric_cols])"
   ]
  },
  {
   "cell_type": "code",
   "execution_count": 28,
   "id": "cc17ff5f",
   "metadata": {},
   "outputs": [
    {
     "name": "stdout",
     "output_type": "stream",
     "text": [
      "(5625, 21) (5625,) (1407, 21) (1407,)\n"
     ]
    }
   ],
   "source": [
    "X_train, X_test, y_train, y_test = train_test_split(X, y, test_size=0.20, random_state=12345)\n",
    "print(X_train.shape, y_train.shape, X_test.shape, y_test.shape)"
   ]
  },
  {
   "cell_type": "markdown",
   "id": "c5677062",
   "metadata": {},
   "source": [
    "<b>EDA Conclusion:</b><br> The datasets contain information about customers who has left the telecom company (26%) and customers who is still with the company (74%). We can see that customers who left the company on average paid more in monthly charges. There are more customers who just use phone service vs customers who use Internet."
   ]
  },
  {
   "cell_type": "markdown",
   "id": "1dbd6370",
   "metadata": {},
   "source": [
    "# Part II: Model Selection"
   ]
  },
  {
   "cell_type": "code",
   "execution_count": 29,
   "id": "35c81931",
   "metadata": {},
   "outputs": [],
   "source": [
    "def display_accuracy(model):\n",
    "    '''function to display ROC AUC metric and accuracy of a model\n",
    "    for train and test sets'''\n",
    "    \n",
    "    # fitting model\n",
    "    model.fit(X_train, y_train)\n",
    "    \n",
    "    # predictions\n",
    "    y_train_pred = model.predict(X_train)\n",
    "    y_test_pred = model.predict(X_test)\n",
    "        \n",
    "    # accuracy metrics\n",
    "    f1_train = f1_score(y_train, y_train_pred)\n",
    "    f1_test = f1_score(y_test, y_test_pred)\n",
    "    \n",
    "    acc_train = model.score(X_train, y_train)\n",
    "    acc_test = model.score(X_test, y_test)\n",
    "    \n",
    "    roc_auc_train = f1_score(y_train, y_train_pred)\n",
    "    roc_auc_test = f1_score(y_test, y_test_pred)\n",
    "        \n",
    "    # making data frame with results\n",
    "    df = pd.DataFrame(data={'ROC AUC': [roc_auc_train, roc_auc_test],\n",
    "                            'F1 Score': [f1_train, f1_test],\n",
    "                            'Accuracy': [acc_train, acc_test]}, index=['train set', 'test_set'])\n",
    "    display(df)\n",
    "    return"
   ]
  },
  {
   "cell_type": "markdown",
   "id": "6bfe9e30",
   "metadata": {},
   "source": [
    "## Dummy Model"
   ]
  },
  {
   "cell_type": "code",
   "execution_count": 30,
   "id": "9785555f",
   "metadata": {},
   "outputs": [
    {
     "data": {
      "text/html": [
       "<div>\n",
       "<style scoped>\n",
       "    .dataframe tbody tr th:only-of-type {\n",
       "        vertical-align: middle;\n",
       "    }\n",
       "\n",
       "    .dataframe tbody tr th {\n",
       "        vertical-align: top;\n",
       "    }\n",
       "\n",
       "    .dataframe thead th {\n",
       "        text-align: right;\n",
       "    }\n",
       "</style>\n",
       "<table border=\"1\" class=\"dataframe\">\n",
       "  <thead>\n",
       "    <tr style=\"text-align: right;\">\n",
       "      <th></th>\n",
       "      <th>ROC AUC</th>\n",
       "      <th>F1 Score</th>\n",
       "      <th>Accuracy</th>\n",
       "    </tr>\n",
       "  </thead>\n",
       "  <tbody>\n",
       "    <tr>\n",
       "      <th>train set</th>\n",
       "      <td>0.0</td>\n",
       "      <td>0.0</td>\n",
       "      <td>0.735822</td>\n",
       "    </tr>\n",
       "    <tr>\n",
       "      <th>test_set</th>\n",
       "      <td>0.0</td>\n",
       "      <td>0.0</td>\n",
       "      <td>0.727790</td>\n",
       "    </tr>\n",
       "  </tbody>\n",
       "</table>\n",
       "</div>"
      ],
      "text/plain": [
       "           ROC AUC  F1 Score  Accuracy\n",
       "train set      0.0       0.0  0.735822\n",
       "test_set       0.0       0.0  0.727790"
      ]
     },
     "metadata": {},
     "output_type": "display_data"
    }
   ],
   "source": [
    "model = DummyClassifier()\n",
    "display_accuracy(DummyClassifier())"
   ]
  },
  {
   "cell_type": "markdown",
   "id": "d515aa46",
   "metadata": {},
   "source": [
    "## Quick Model Selection with Cross-Validation"
   ]
  },
  {
   "cell_type": "markdown",
   "id": "d6d9d0e0",
   "metadata": {},
   "source": [
    "Let's check how several model will perform with default hyper-parameters. We will be using 10-fold cross-validation to estimate ROC AUC on train and test sets."
   ]
  },
  {
   "cell_type": "code",
   "execution_count": 31,
   "id": "fceea934",
   "metadata": {},
   "outputs": [
    {
     "data": {
      "image/png": "[encoded data removed]",
      "text/plain": [
       "<IPython.core.display.Image object>"
      ]
     },
     "execution_count": 31,
     "metadata": {},
     "output_type": "execute_result"
    }
   ],
   "source": [
    "from IPython.display import Image\n",
    "Image(\"k-fold cv.png\")"
   ]
  },
  {
   "cell_type": "markdown",
   "id": "dce53417",
   "metadata": {},
   "source": [
    " <a href=https://scikit-learn.org/stable/modules/cross_validation.html>Picture source</a>"
   ]
  },
  {
   "cell_type": "code",
   "execution_count": 32,
   "id": "fc4cca44",
   "metadata": {},
   "outputs": [],
   "source": [
    "models = []\n",
    "models.append(('LR  ', LogisticRegression()))\n",
    "models.append(('LDA ', LinearDiscriminantAnalysis()))\n",
    "models.append(('KNN ', KNeighborsClassifier()))\n",
    "models.append(('CART', DecisionTreeClassifier()))\n",
    "models.append(('NB  ', GaussianNB()))\n",
    "models.append(('LSVC', LinearSVC()))\n",
    "models.append(('SVC ', SVC()))\n",
    "models.append(('BG  ', BaggingClassifier()))\n",
    "models.append(('RF  ', RandomForestClassifier()))\n",
    "models.append(('ET  ', ExtraTreesClassifier()))\n",
    "models.append(('AB  ', AdaBoostClassifier()))\n",
    "models.append(('GB  ', GradientBoostingClassifier()))"
   ]
  },
  {
   "cell_type": "markdown",
   "id": "a042f31d",
   "metadata": {},
   "source": [
    "The models are evaluated using 5-fold cross-validation and the oversampling is performed on the training dataset within each fold separately, ensuring that there is no data leakage as might occur if the oversampling was performed prior to the cross-validation."
   ]
  },
  {
   "cell_type": "code",
   "execution_count": 33,
   "id": "76ecb174",
   "metadata": {},
   "outputs": [
    {
     "name": "stdout",
     "output_type": "stream",
     "text": [
      "LR  : ROC AUC = 0.833 (std = 0.009) F1 Score = 0.558 Accuracy = 0.794\n",
      "LDA : ROC AUC = 0.830 (std = 0.010) F1 Score = 0.572 Accuracy = 0.792\n",
      "KNN : ROC AUC = 0.790 (std = 0.008) F1 Score = 0.550 Accuracy = 0.771\n",
      "CART: ROC AUC = 0.742 (std = 0.007) F1 Score = 0.624 Accuracy = 0.795\n",
      "NB  : ROC AUC = 0.824 (std = 0.011) F1 Score = 0.613 Accuracy = 0.749\n",
      "LSVC: ROC AUC = 0.831 (std = 0.010) F1 Score = 0.556 Accuracy = 0.793\n",
      "SVC : ROC AUC = 0.810 (std = 0.009) F1 Score = 0.541 Accuracy = 0.796\n",
      "BG  : ROC AUC = 0.869 (std = 0.003) F1 Score = 0.642 Accuracy = 0.837\n",
      "RF  : ROC AUC = 0.861 (std = 0.008) F1 Score = 0.618 Accuracy = 0.822\n",
      "ET  : ROC AUC = 0.831 (std = 0.007) F1 Score = 0.562 Accuracy = 0.795\n",
      "AB  : ROC AUC = 0.881 (std = 0.006) F1 Score = 0.658 Accuracy = 0.836\n",
      "GB  : ROC AUC = 0.888 (std = 0.005) F1 Score = 0.657 Accuracy = 0.842\n"
     ]
    }
   ],
   "source": [
    "cv_results_roc = []\n",
    "cv_results_f1 = []\n",
    "cv_results_accuracy = []\n",
    "names = []\n",
    "msg_row = []\n",
    "\n",
    "for name, model in models:\n",
    "    kfold = KFold()\n",
    "    cv_results_roc = cross_val_score(model, X_train, y_train, cv=kfold, scoring='roc_auc')\n",
    "    cv_results_f1 = cross_val_score(model, X_train, y_train, cv=kfold, scoring='f1')\n",
    "    cv_results_accuracy = cross_val_score(model, X_train, y_train, cv=kfold, scoring='accuracy')\n",
    "    names.append(name)\n",
    "    msg = \"%s: ROC AUC = %.3f (std = %.3f) F1 Score = %.3f Accuracy = %.3f\"  % \\\n",
    "            (name, cv_results_roc.mean(), \n",
    "             cv_results_roc.std(),\n",
    "             cv_results_f1.mean(),\n",
    "             cv_results_accuracy.mean())\n",
    "    msg_row.append(msg)\n",
    "    print(msg)"
   ]
  },
  {
   "cell_type": "code",
   "execution_count": 34,
   "id": "0ef645ba",
   "metadata": {},
   "outputs": [],
   "source": [
    "best_models = []\n",
    "best_models.append(('AB  ', AdaBoostClassifier()))\n",
    "best_models.append(('GB  ', GradientBoostingClassifier()))"
   ]
  },
  {
   "cell_type": "code",
   "execution_count": 35,
   "id": "811be4e5",
   "metadata": {},
   "outputs": [
    {
     "name": "stdout",
     "output_type": "stream",
     "text": [
      "AB  : ROC AUC = 0.881 (std = 0.006) F1 Score = 0.658 Accuracy = 0.836\n",
      "GB  : ROC AUC = 0.888 (std = 0.005) F1 Score = 0.657 Accuracy = 0.842\n"
     ]
    }
   ],
   "source": [
    "cv_results_roc = []\n",
    "cv_results_f1 = []\n",
    "cv_results_accuracy = []\n",
    "names = []\n",
    "msg_row = []\n",
    "\n",
    "for name, model in best_models:\n",
    "    # define pipeline\n",
    "    steps = [('over', RandomOverSampler()), ('model', model)]\n",
    "    pipeline = Pipeline(steps=steps)\n",
    "    kfold = KFold()\n",
    "    # evaluate pipeline\n",
    "    cv_results_roc = cross_val_score(model, X_train, y_train, cv=kfold, scoring='roc_auc')\n",
    "    cv_results_f1 = cross_val_score(model, X_train, y_train, cv=kfold, scoring='f1')\n",
    "    cv_results_accuracy = cross_val_score(model, X_train, y_train, cv=kfold, scoring='accuracy')\n",
    "    names.append(name)\n",
    "    msg = \"%s: ROC AUC = %.3f (std = %.3f) F1 Score = %.3f Accuracy = %.3f\"  % \\\n",
    "    (name, cv_results_roc.mean(), \n",
    "     cv_results_roc.std(),\n",
    "     cv_results_f1.mean(),\n",
    "     cv_results_accuracy.mean())\n",
    "    msg_row.append(msg)\n",
    "    print(msg)"
   ]
  },
  {
   "cell_type": "markdown",
   "id": "b59c7c75",
   "metadata": {},
   "source": [
    "Right of the bat, we can see that there are two models that perform with the value of ROC AUC metric >=0.88. They are AdaBoost Classifier and Gradient Boosting Classifier. Let's see if we can squeeze a bit higher target metric from these models by tuning their hyper-parameters. To tune hyper-parameters we will split the original data set into training and test set. We will use grid search to select best hyper-parameters for each model. Ones best hyper-parameters are determined, we will use them in the code we have just used above, e.g. over-sampling and cross validating."
   ]
  },
  {
   "cell_type": "code",
   "execution_count": 36,
   "id": "c507247a",
   "metadata": {},
   "outputs": [],
   "source": [
    "def display_accuracy_cv(model, n_folds=5):\n",
    "    '''The function takes a model and a number of k-folds as\n",
    "    arguments. The function fits the model and calculates\n",
    "    accuracy metric on train set with CV and on test set w/o CV.\n",
    "    The function displays accuracy metrics for train and test sets.'''\n",
    "\n",
    "    # fitting model\n",
    "    model.fit(X_train, y_train)\n",
    "\n",
    "    # accuracy metrics\n",
    "    f1_train = cross_val_score(model, X_train, y_train, cv=n_folds, scoring='f1').mean()  \n",
    "    f1_test = f1_score(y_test, model.predict(X_test))\n",
    "    \n",
    "    acc_train = cross_val_score(\n",
    "        model, X_train, y_train, cv=n_folds, scoring='accuracy').mean()\n",
    "    acc_test = model.score(X_test, y_test)\n",
    "    \n",
    "    roc_auc_train = cross_val_score(\n",
    "        model, X_train, y_train, cv=n_folds, scoring='roc_auc').mean()\n",
    "    roc_auc_test = roc_auc_score(y_test, model.predict_proba(X_test)[:, 1])\n",
    "\n",
    "    df = pd.DataFrame(data={'ROC AUC': [roc_auc_train, roc_auc_test],\n",
    "                            'F1 Score': [f1_train, f1_test],\n",
    "                            'Accuracy': [acc_train, acc_test]}, index=['train set', 'test_set'])\n",
    "    display(df)"
   ]
  },
  {
   "cell_type": "markdown",
   "id": "68c40c82",
   "metadata": {},
   "source": [
    "## Hyper-Parameters Tuning"
   ]
  },
  {
   "cell_type": "markdown",
   "id": "170acb79",
   "metadata": {},
   "source": [
    "### AdaBoost Classifier"
   ]
  },
  {
   "cell_type": "code",
   "execution_count": 37,
   "id": "bc4bb81d",
   "metadata": {},
   "outputs": [],
   "source": [
    "params = {\n",
    "    \"n_estimators\": [50, 100],\n",
    "    \"algorithm\": ['SAMME.R', 'SAMME'],\n",
    "    \"learning_rate\": [0.5, 1, 1.5]}\n",
    "ad_clf = GridSearchCV(AdaBoostClassifier(), params,\n",
    "                   cv=5).fit(X_train, y_train)"
   ]
  },
  {
   "cell_type": "code",
   "execution_count": 38,
   "id": "10e6f7ba",
   "metadata": {},
   "outputs": [
    {
     "data": {
      "text/plain": [
       "{'algorithm': 'SAMME.R', 'learning_rate': 1.5, 'n_estimators': 100}"
      ]
     },
     "execution_count": 38,
     "metadata": {},
     "output_type": "execute_result"
    }
   ],
   "source": [
    "ad_clf.best_params_"
   ]
  },
  {
   "cell_type": "code",
   "execution_count": 39,
   "id": "b64ac687",
   "metadata": {},
   "outputs": [
    {
     "data": {
      "text/html": [
       "<div>\n",
       "<style scoped>\n",
       "    .dataframe tbody tr th:only-of-type {\n",
       "        vertical-align: middle;\n",
       "    }\n",
       "\n",
       "    .dataframe tbody tr th {\n",
       "        vertical-align: top;\n",
       "    }\n",
       "\n",
       "    .dataframe thead th {\n",
       "        text-align: right;\n",
       "    }\n",
       "</style>\n",
       "<table border=\"1\" class=\"dataframe\">\n",
       "  <thead>\n",
       "    <tr style=\"text-align: right;\">\n",
       "      <th></th>\n",
       "      <th>ROC AUC</th>\n",
       "      <th>F1 Score</th>\n",
       "      <th>Accuracy</th>\n",
       "    </tr>\n",
       "  </thead>\n",
       "  <tbody>\n",
       "    <tr>\n",
       "      <th>train set</th>\n",
       "      <td>0.891975</td>\n",
       "      <td>0.681602</td>\n",
       "      <td>0.847822</td>\n",
       "    </tr>\n",
       "    <tr>\n",
       "      <th>test_set</th>\n",
       "      <td>0.894782</td>\n",
       "      <td>0.704348</td>\n",
       "      <td>0.855011</td>\n",
       "    </tr>\n",
       "  </tbody>\n",
       "</table>\n",
       "</div>"
      ],
      "text/plain": [
       "            ROC AUC  F1 Score  Accuracy\n",
       "train set  0.891975  0.681602  0.847822\n",
       "test_set   0.894782  0.704348  0.855011"
      ]
     },
     "metadata": {},
     "output_type": "display_data"
    }
   ],
   "source": [
    "display_accuracy_cv(AdaBoostClassifier(**ad_clf.best_params_))"
   ]
  },
  {
   "cell_type": "markdown",
   "id": "f0858f72",
   "metadata": {},
   "source": [
    "### Gradient Boosting Classifier"
   ]
  },
  {
   "cell_type": "code",
   "execution_count": 40,
   "id": "f54a6ef3",
   "metadata": {},
   "outputs": [],
   "source": [
    "params = {\n",
    "    \"n_estimators\": [100, 200],\n",
    "    \"loss\": ['deviance', 'exponential'],\n",
    "    \"criterion\": ['friedman_mse', 'mse']}\n",
    "gb_clf = GridSearchCV(GradientBoostingClassifier(), params,\n",
    "                   cv=5).fit(X_train, y_train)"
   ]
  },
  {
   "cell_type": "code",
   "execution_count": 41,
   "id": "9475df3d",
   "metadata": {},
   "outputs": [
    {
     "data": {
      "text/plain": [
       "{'criterion': 'friedman_mse', 'loss': 'deviance', 'n_estimators': 200}"
      ]
     },
     "execution_count": 41,
     "metadata": {},
     "output_type": "execute_result"
    }
   ],
   "source": [
    "gb_clf.best_params_"
   ]
  },
  {
   "cell_type": "code",
   "execution_count": 42,
   "id": "df798e43",
   "metadata": {},
   "outputs": [
    {
     "data": {
      "text/html": [
       "<div>\n",
       "<style scoped>\n",
       "    .dataframe tbody tr th:only-of-type {\n",
       "        vertical-align: middle;\n",
       "    }\n",
       "\n",
       "    .dataframe tbody tr th {\n",
       "        vertical-align: top;\n",
       "    }\n",
       "\n",
       "    .dataframe thead th {\n",
       "        text-align: right;\n",
       "    }\n",
       "</style>\n",
       "<table border=\"1\" class=\"dataframe\">\n",
       "  <thead>\n",
       "    <tr style=\"text-align: right;\">\n",
       "      <th></th>\n",
       "      <th>ROC AUC</th>\n",
       "      <th>F1 Score</th>\n",
       "      <th>Accuracy</th>\n",
       "    </tr>\n",
       "  </thead>\n",
       "  <tbody>\n",
       "    <tr>\n",
       "      <th>train set</th>\n",
       "      <td>0.896339</td>\n",
       "      <td>0.675884</td>\n",
       "      <td>0.849778</td>\n",
       "    </tr>\n",
       "    <tr>\n",
       "      <th>test_set</th>\n",
       "      <td>0.905905</td>\n",
       "      <td>0.700775</td>\n",
       "      <td>0.862829</td>\n",
       "    </tr>\n",
       "  </tbody>\n",
       "</table>\n",
       "</div>"
      ],
      "text/plain": [
       "            ROC AUC  F1 Score  Accuracy\n",
       "train set  0.896339  0.675884  0.849778\n",
       "test_set   0.905905  0.700775  0.862829"
      ]
     },
     "metadata": {},
     "output_type": "display_data"
    }
   ],
   "source": [
    "display_accuracy_cv(GradientBoostingClassifier(**gb_clf.best_params_))"
   ]
  },
  {
   "cell_type": "markdown",
   "id": "4dd377cb",
   "metadata": {},
   "source": [
    "We checked how the models performed compared to the constant model. They really predict better than a random choice. The target value for the ROC AUC metric was achieved"
   ]
  },
  {
   "cell_type": "markdown",
   "id": "6c67a78f",
   "metadata": {},
   "source": [
    "# Conclusion"
   ]
  },
  {
   "cell_type": "markdown",
   "id": "954694b9",
   "metadata": {},
   "source": [
    "The EDA showed that the customers who have left the company paid on average higher in monthly payments. Majority of the clients in the dataset are phone users, their share is about 90%. 78% of the total population are/were Internet users.<br>\n",
    "For the further analysis we merged all four provided datasets. We encoded all categorical variables and scaled numerical. Then we tried some machine learning models with default hyper-parameters. After that step we selected two best performers and tuned their parameters to achieve the target accuracy metric - ROC AUC.<br>\n",
    "After tuning hyper-parameters it was discovered that Gradient Boosting Classifier achieved the highest ROC AUC score.<br>"
   ]
  }
 ],
 "metadata": {
  "kernelspec": {
   "display_name": "Python 3",
   "language": "python",
   "name": "python3"
  },
  "language_info": {
   "codemirror_mode": {
    "name": "ipython",
    "version": 3
   },
   "file_extension": ".py",
   "mimetype": "text/x-python",
   "name": "python",
   "nbconvert_exporter": "python",
   "pygments_lexer": "ipython3",
   "version": "3.9.5"
  },
  "latex_envs": {
   "LaTeX_envs_menu_present": true,
   "autoclose": false,
   "autocomplete": true,
   "bibliofile": "biblio.bib",
   "cite_by": "apalike",
   "current_citInitial": 1,
   "eqLabelWithNumbers": true,
   "eqNumInitial": 1,
   "hotkeys": {
    "equation": "Ctrl-E",
    "itemize": "Ctrl-I"
   },
   "labels_anchors": false,
   "latex_user_defs": false,
   "report_style_numbering": false,
   "user_envs_cfg": false
  },
  "toc": {
   "base_numbering": 1,
   "nav_menu": {},
   "number_sections": false,
   "sideBar": true,
   "skip_h1_title": false,
   "title_cell": "Table of Contents",
   "title_sidebar": "Contents",
   "toc_cell": false,
   "toc_position": {
    "height": "calc(100% - 180px)",
    "left": "10px",
    "top": "150px",
    "width": "384px"
   },
   "toc_section_display": true,
   "toc_window_display": true
  }
 },
 "nbformat": 4,
 "nbformat_minor": 5
}
