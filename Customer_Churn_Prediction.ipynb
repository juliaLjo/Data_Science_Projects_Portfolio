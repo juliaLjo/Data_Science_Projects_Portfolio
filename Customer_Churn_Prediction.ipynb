{
 "cells": [
  {
   "cell_type": "markdown",
   "metadata": {
    "toc": true
   },
   "source": [
    "<h1>Table of Contents<span class=\"tocSkip\"></span></h1>\n",
    "<div class=\"toc\"><ul class=\"toc-item\"><li><span><a href=\"#Project-description\" data-toc-modified-id=\"Project-description-1\">Project description</a></span></li><li><span><a href=\"#Getting-to-know-data\" data-toc-modified-id=\"Getting-to-know-data-2\">Getting to know data</a></span></li><li><span><a href=\"#Data-Preparation\" data-toc-modified-id=\"Data-Preparation-3\">Data Preparation</a></span><ul class=\"toc-item\"><li><ul class=\"toc-item\"><li><span><a href=\"#Duplicates-detection\" data-toc-modified-id=\"Duplicates-detection-3.0.1\">Duplicates detection</a></span></li><li><span><a href=\"#Dealing-with-missing-data\" data-toc-modified-id=\"Dealing-with-missing-data-3.0.2\">Dealing with missing data</a></span></li><li><span><a href=\"#Removing-useless-predictors\" data-toc-modified-id=\"Removing-useless-predictors-3.0.3\">Removing useless predictors</a></span></li><li><span><a href=\"#Encoding-categorical-values\" data-toc-modified-id=\"Encoding-categorical-values-3.0.4\">Encoding categorical values</a></span></li><li><span><a href=\"#Making-train,-validation-and-test-dataset-splits\" data-toc-modified-id=\"Making-train,-validation-and-test-dataset-splits-3.0.5\">Making train, validation and test dataset splits</a></span></li><li><span><a href=\"#Scaling-data\" data-toc-modified-id=\"Scaling-data-3.0.6\">Scaling data</a></span></li><li><span><a href=\"#Inspecting-balance-of-classes\" data-toc-modified-id=\"Inspecting-balance-of-classes-3.0.7\">Inspecting balance of classes</a></span></li></ul></li></ul></li><li><span><a href=\"#Model-selection\" data-toc-modified-id=\"Model-selection-4\">Model selection</a></span><ul class=\"toc-item\"><li><span><a href=\"#Logistic-Regression\" data-toc-modified-id=\"Logistic-Regression-4.1\">Logistic Regression</a></span></li><li><span><a href=\"#Support-Vector-Machines\" data-toc-modified-id=\"Support-Vector-Machines-4.2\">Support Vector Machines</a></span></li><li><span><a href=\"#Random-Forest-Classifier\" data-toc-modified-id=\"Random-Forest-Classifier-4.3\">Random Forest Classifier</a></span></li></ul></li><li><span><a href=\"#Dealing-with-class-imbalances\" data-toc-modified-id=\"Dealing-with-class-imbalances-5\">Dealing with class imbalances</a></span><ul class=\"toc-item\"><li><span><a href=\"#Upsampling-data\" data-toc-modified-id=\"Upsampling-data-5.1\">Upsampling data</a></span></li><li><span><a href=\"#Downsampling-data\" data-toc-modified-id=\"Downsampling-data-5.2\">Downsampling data</a></span></li></ul></li><li><span><a href=\"#Conclusion\" data-toc-modified-id=\"Conclusion-6\">Conclusion</a></span></li></ul></div>"
   ]
  },
  {
   "cell_type": "markdown",
   "metadata": {},
   "source": [
    "# Project description"
   ]
  },
  {
   "cell_type": "markdown",
   "metadata": {},
   "source": [
    "Beta Bank customers are leaving: little by little, chipping away every month. The bankers figured out it’s cheaper to save the existing customers rather than to attract new ones.<br>\n",
    "<b>The task</b> We need to predict whether a customer will leave the bank soon. In our possession the data on clients’ past behavior and termination of contracts with the bank.<br>\n",
    "Build a model with the maximum possible F1 score. The F1 score should be at least 0.59 on the test set.<br>\n",
    "Additionally, measure the AUC-ROC metric and compare it with the F1.<br>\n",
    "<b>Data description</b>\n",
    "Every observation in the dataset contains monthly behavior information about one user. The information given is as follows:<br>\n",
    "<b>Features:</b><br>\n",
    "<i>RowNumber</i> — data string index<br>\n",
    "<i>CustomerId</i> — unique customer identifier<br>\n",
    "<i>Surname</i> — surname<br>\n",
    "<i>CreditScore</i> — credit score<br>\n",
    "<i>Geography</i> — country of residence<br>\n",
    "<i>Gender</i> — gender<br>\n",
    "<i>Age</i> — age<br>\n",
    "<i>Tenure</i> — period of maturation for a customer’s fixed deposit (years)<br>\n",
    "<i>Balance</i> — credit score<br>\n",
    "<i>NumOfProducts</i> — number of banking products used by the customer<br>\n",
    "<i>HasCrCard</i> — customer has a credit card<br>\n",
    "<i>IsActiveMember</i> — customer’s activeness<br>\n",
    "<i>EstimatedSalary</i> — estimated salary<br>\n",
    "<b>Target:</b><br>\n",
    "<i>Exited</i> — сustomer has left."
   ]
  },
  {
   "cell_type": "markdown",
   "metadata": {},
   "source": [
    "# Getting to know data"
   ]
  },
  {
   "cell_type": "code",
   "execution_count": 1,
   "metadata": {},
   "outputs": [],
   "source": [
    "import sys\n",
    "import warnings\n",
    "if not sys.warnoptions:\n",
    "       warnings.simplefilter(\"ignore\")\n",
    "import pandas as pd\n",
    "import numpy as np\n",
    "from sklearn.preprocessing import StandardScaler\n",
    "from sklearn.model_selection import train_test_split\n",
    "from sklearn.linear_model import LogisticRegression\n",
    "import sklearn.metrics as metrics\n",
    "import matplotlib.pyplot as plt\n",
    "from sklearn.utils import shuffle\n",
    "from sklearn.model_selection import GridSearchCV\n",
    "from sklearn.ensemble import RandomForestClassifier\n",
    "from sklearn import svm"
   ]
  },
  {
   "cell_type": "code",
   "execution_count": 2,
   "metadata": {},
   "outputs": [],
   "source": [
    "df = pd.read_csv('https://code.s3.yandex.net/datasets/Churn.csv')\n",
    "#df = pd.read_csv('churn.csv')"
   ]
  },
  {
   "cell_type": "code",
   "execution_count": 3,
   "metadata": {},
   "outputs": [
    {
     "name": "stdout",
     "output_type": "stream",
     "text": [
      "<class 'pandas.core.frame.DataFrame'>\n",
      "RangeIndex: 10000 entries, 0 to 9999\n",
      "Data columns (total 14 columns):\n",
      " #   Column           Non-Null Count  Dtype  \n",
      "---  ------           --------------  -----  \n",
      " 0   RowNumber        10000 non-null  int64  \n",
      " 1   CustomerId       10000 non-null  int64  \n",
      " 2   Surname          10000 non-null  object \n",
      " 3   CreditScore      10000 non-null  int64  \n",
      " 4   Geography        10000 non-null  object \n",
      " 5   Gender           10000 non-null  object \n",
      " 6   Age              10000 non-null  int64  \n",
      " 7   Tenure           9091 non-null   float64\n",
      " 8   Balance          10000 non-null  float64\n",
      " 9   NumOfProducts    10000 non-null  int64  \n",
      " 10  HasCrCard        10000 non-null  int64  \n",
      " 11  IsActiveMember   10000 non-null  int64  \n",
      " 12  EstimatedSalary  10000 non-null  float64\n",
      " 13  Exited           10000 non-null  int64  \n",
      "dtypes: float64(3), int64(8), object(3)\n",
      "memory usage: 1.1+ MB\n"
     ]
    }
   ],
   "source": [
    "df.info()"
   ]
  },
  {
   "cell_type": "code",
   "execution_count": 4,
   "metadata": {},
   "outputs": [
    {
     "data": {
      "text/html": [
       "<div>\n",
       "<style scoped>\n",
       "    .dataframe tbody tr th:only-of-type {\n",
       "        vertical-align: middle;\n",
       "    }\n",
       "\n",
       "    .dataframe tbody tr th {\n",
       "        vertical-align: top;\n",
       "    }\n",
       "\n",
       "    .dataframe thead th {\n",
       "        text-align: right;\n",
       "    }\n",
       "</style>\n",
       "<table border=\"1\" class=\"dataframe\">\n",
       "  <thead>\n",
       "    <tr style=\"text-align: right;\">\n",
       "      <th></th>\n",
       "      <th>RowNumber</th>\n",
       "      <th>CustomerId</th>\n",
       "      <th>Surname</th>\n",
       "      <th>CreditScore</th>\n",
       "      <th>Geography</th>\n",
       "      <th>Gender</th>\n",
       "      <th>Age</th>\n",
       "      <th>Tenure</th>\n",
       "      <th>Balance</th>\n",
       "      <th>NumOfProducts</th>\n",
       "      <th>HasCrCard</th>\n",
       "      <th>IsActiveMember</th>\n",
       "      <th>EstimatedSalary</th>\n",
       "      <th>Exited</th>\n",
       "    </tr>\n",
       "  </thead>\n",
       "  <tbody>\n",
       "    <tr>\n",
       "      <th>9746</th>\n",
       "      <td>9747</td>\n",
       "      <td>15782550</td>\n",
       "      <td>Ma</td>\n",
       "      <td>490</td>\n",
       "      <td>Germany</td>\n",
       "      <td>Female</td>\n",
       "      <td>41</td>\n",
       "      <td>0.0</td>\n",
       "      <td>139659.04</td>\n",
       "      <td>1</td>\n",
       "      <td>1</td>\n",
       "      <td>1</td>\n",
       "      <td>176254.12</td>\n",
       "      <td>0</td>\n",
       "    </tr>\n",
       "    <tr>\n",
       "      <th>1590</th>\n",
       "      <td>1591</td>\n",
       "      <td>15651802</td>\n",
       "      <td>Day</td>\n",
       "      <td>632</td>\n",
       "      <td>Spain</td>\n",
       "      <td>Female</td>\n",
       "      <td>39</td>\n",
       "      <td>5.0</td>\n",
       "      <td>97854.37</td>\n",
       "      <td>2</td>\n",
       "      <td>1</td>\n",
       "      <td>0</td>\n",
       "      <td>93536.38</td>\n",
       "      <td>0</td>\n",
       "    </tr>\n",
       "    <tr>\n",
       "      <th>9378</th>\n",
       "      <td>9379</td>\n",
       "      <td>15762682</td>\n",
       "      <td>Mitchell</td>\n",
       "      <td>709</td>\n",
       "      <td>Spain</td>\n",
       "      <td>Female</td>\n",
       "      <td>35</td>\n",
       "      <td>1.0</td>\n",
       "      <td>111827.27</td>\n",
       "      <td>2</td>\n",
       "      <td>1</td>\n",
       "      <td>0</td>\n",
       "      <td>12674.68</td>\n",
       "      <td>0</td>\n",
       "    </tr>\n",
       "    <tr>\n",
       "      <th>7041</th>\n",
       "      <td>7042</td>\n",
       "      <td>15753591</td>\n",
       "      <td>He</td>\n",
       "      <td>438</td>\n",
       "      <td>France</td>\n",
       "      <td>Male</td>\n",
       "      <td>38</td>\n",
       "      <td>2.0</td>\n",
       "      <td>0.00</td>\n",
       "      <td>2</td>\n",
       "      <td>1</td>\n",
       "      <td>0</td>\n",
       "      <td>136859.55</td>\n",
       "      <td>0</td>\n",
       "    </tr>\n",
       "    <tr>\n",
       "      <th>8225</th>\n",
       "      <td>8226</td>\n",
       "      <td>15804142</td>\n",
       "      <td>Tan</td>\n",
       "      <td>670</td>\n",
       "      <td>Spain</td>\n",
       "      <td>Female</td>\n",
       "      <td>57</td>\n",
       "      <td>3.0</td>\n",
       "      <td>175575.95</td>\n",
       "      <td>2</td>\n",
       "      <td>1</td>\n",
       "      <td>0</td>\n",
       "      <td>99061.75</td>\n",
       "      <td>1</td>\n",
       "    </tr>\n",
       "  </tbody>\n",
       "</table>\n",
       "</div>"
      ],
      "text/plain": [
       "      RowNumber  CustomerId   Surname  CreditScore Geography  Gender  Age  \\\n",
       "9746       9747    15782550        Ma          490   Germany  Female   41   \n",
       "1590       1591    15651802       Day          632     Spain  Female   39   \n",
       "9378       9379    15762682  Mitchell          709     Spain  Female   35   \n",
       "7041       7042    15753591        He          438    France    Male   38   \n",
       "8225       8226    15804142       Tan          670     Spain  Female   57   \n",
       "\n",
       "      Tenure    Balance  NumOfProducts  HasCrCard  IsActiveMember  \\\n",
       "9746     0.0  139659.04              1          1               1   \n",
       "1590     5.0   97854.37              2          1               0   \n",
       "9378     1.0  111827.27              2          1               0   \n",
       "7041     2.0       0.00              2          1               0   \n",
       "8225     3.0  175575.95              2          1               0   \n",
       "\n",
       "      EstimatedSalary  Exited  \n",
       "9746        176254.12       0  \n",
       "1590         93536.38       0  \n",
       "9378         12674.68       0  \n",
       "7041        136859.55       0  \n",
       "8225         99061.75       1  "
      ]
     },
     "execution_count": 4,
     "metadata": {},
     "output_type": "execute_result"
    }
   ],
   "source": [
    "df.sample(5)"
   ]
  },
  {
   "cell_type": "markdown",
   "metadata": {},
   "source": [
    "<b>Conclusion</b>:<br>\n",
    "- There are missing values in one of the columns. This needs to be further investigated and taken care of.<br>\n",
    "- There are three useless predictors: RowNumber, Surname, CustomerId - that only increase dimensionality, but will not benefit a model.<br>\n",
    "- Data has some categorical values that need to be transformed to numeric for some models.<br>"
   ]
  },
  {
   "cell_type": "markdown",
   "metadata": {},
   "source": [
    "# Data Preparation"
   ]
  },
  {
   "cell_type": "markdown",
   "metadata": {},
   "source": [
    "### Duplicates detection"
   ]
  },
  {
   "cell_type": "code",
   "execution_count": 5,
   "metadata": {},
   "outputs": [
    {
     "data": {
      "text/plain": [
       "0"
      ]
     },
     "execution_count": 5,
     "metadata": {},
     "output_type": "execute_result"
    }
   ],
   "source": [
    "df.duplicated().sum()"
   ]
  },
  {
   "cell_type": "markdown",
   "metadata": {},
   "source": [
    "### Dealing with missing data"
   ]
  },
  {
   "cell_type": "code",
   "execution_count": 6,
   "metadata": {},
   "outputs": [
    {
     "data": {
      "text/plain": [
       "0.0     382\n",
       "10.0    446\n",
       "6.0     881\n",
       "9.0     882\n",
       "4.0     885\n",
       "7.0     925\n",
       "5.0     927\n",
       "3.0     928\n",
       "8.0     933\n",
       "2.0     950\n",
       "1.0     952\n",
       "Name: Tenure, dtype: int64"
      ]
     },
     "execution_count": 6,
     "metadata": {},
     "output_type": "execute_result"
    }
   ],
   "source": [
    "df['Tenure'].value_counts().sort_values(ascending=True)"
   ]
  },
  {
   "cell_type": "markdown",
   "metadata": {},
   "source": [
    "One of the obvious problems with the dataset is that roughly 10% of data is missing in the column Tenure, which is a period of maturation for a customer’s fixed deposit (years). Since this is a significant amount of data in this not that big dataset, it will not be wise to drop it. The reason why this information is missing could be that these are new customers and they have been with the bank for less than one year. Let's replace NaN with 0."
   ]
  },
  {
   "cell_type": "code",
   "execution_count": 7,
   "metadata": {},
   "outputs": [],
   "source": [
    "df['Tenure'] = df['Tenure'].fillna(0)"
   ]
  },
  {
   "cell_type": "code",
   "execution_count": 8,
   "metadata": {},
   "outputs": [],
   "source": [
    "df['Tenure'] = df['Tenure'].astype('int')"
   ]
  },
  {
   "cell_type": "markdown",
   "metadata": {},
   "source": [
    "### Removing useless predictors"
   ]
  },
  {
   "cell_type": "code",
   "execution_count": 9,
   "metadata": {},
   "outputs": [],
   "source": [
    "del df['RowNumber']\n",
    "del df['Surname']\n",
    "del df['CustomerId']"
   ]
  },
  {
   "cell_type": "markdown",
   "metadata": {},
   "source": [
    "### Encoding categorical values"
   ]
  },
  {
   "cell_type": "markdown",
   "metadata": {},
   "source": [
    "Let's examine categorical values in the dataset."
   ]
  },
  {
   "cell_type": "code",
   "execution_count": 10,
   "metadata": {},
   "outputs": [
    {
     "data": {
      "text/plain": [
       "France     5014\n",
       "Germany    2509\n",
       "Spain      2477\n",
       "Name: Geography, dtype: int64"
      ]
     },
     "execution_count": 10,
     "metadata": {},
     "output_type": "execute_result"
    }
   ],
   "source": [
    "df.Geography.value_counts()"
   ]
  },
  {
   "cell_type": "code",
   "execution_count": 11,
   "metadata": {},
   "outputs": [
    {
     "data": {
      "text/plain": [
       "Male      5457\n",
       "Female    4543\n",
       "Name: Gender, dtype: int64"
      ]
     },
     "execution_count": 11,
     "metadata": {},
     "output_type": "execute_result"
    }
   ],
   "source": [
    "df.Gender.value_counts()"
   ]
  },
  {
   "cell_type": "markdown",
   "metadata": {},
   "source": [
    "Both of the variables contain 2 to 3 categories. These categories are nominal, e.g. do not have inherent order. In this case we can use one-hot encoding technique to convert categorical variables to numeric."
   ]
  },
  {
   "cell_type": "code",
   "execution_count": 12,
   "metadata": {},
   "outputs": [],
   "source": [
    "df_ohe = pd.get_dummies(df, drop_first=True)"
   ]
  },
  {
   "cell_type": "markdown",
   "metadata": {},
   "source": [
    "Two problem points are the credit score and age. They are highly correlated between each over, meaning the older the person the higher his credit score. We need to drop one of the predictors."
   ]
  },
  {
   "cell_type": "markdown",
   "metadata": {},
   "source": [
    "### Making train, validation and test dataset splits"
   ]
  },
  {
   "cell_type": "markdown",
   "metadata": {},
   "source": [
    "Since we are choosing a model, we will split the data into training, validation and test sets in the following ratio: 3:1:1 respectively."
   ]
  },
  {
   "cell_type": "code",
   "execution_count": 13,
   "metadata": {},
   "outputs": [
    {
     "name": "stdout",
     "output_type": "stream",
     "text": [
      "(6400, 12) (2000, 12) (1600, 12)\n"
     ]
    }
   ],
   "source": [
    "# Splitting into 80% and 20%\n",
    "remainder, test = train_test_split(df_ohe, test_size=0.20, random_state=12345)\n",
    "# splitting 80% into 75% and 25%, thus getting 60% and 20% of total respectively\n",
    "train, valid = train_test_split(remainder, test_size=0.20, random_state=12345)\n",
    "print(train.shape, test.shape, valid.shape)"
   ]
  },
  {
   "cell_type": "code",
   "execution_count": 14,
   "metadata": {},
   "outputs": [],
   "source": [
    "features_train = train.drop(['Exited'], axis=1)\n",
    "features_valid = valid.drop(['Exited'], axis=1)\n",
    "features_test = test.drop(['Exited'], axis=1)\n",
    "target_train = train['Exited']\n",
    "target_valid = valid['Exited']\n",
    "target_test = test['Exited']"
   ]
  },
  {
   "cell_type": "markdown",
   "metadata": {},
   "source": [
    "### Scaling data"
   ]
  },
  {
   "cell_type": "markdown",
   "metadata": {},
   "source": [
    "Standardizing numerical values to normal distribution to overestimation importance of predictors with lager values."
   ]
  },
  {
   "cell_type": "code",
   "execution_count": 15,
   "metadata": {},
   "outputs": [],
   "source": [
    "numeric = ['CreditScore', 'Age', 'Tenure', 'Balance', 'NumOfProducts','EstimatedSalary']\n",
    "scaler = StandardScaler()\n",
    "scaler.fit(features_train[numeric])\n",
    "features_train[numeric] = scaler.transform(features_train[numeric])\n",
    "features_valid[numeric] = scaler.transform(features_valid[numeric])\n",
    "features_test[numeric] = scaler.transform(features_test[numeric])"
   ]
  },
  {
   "cell_type": "markdown",
   "metadata": {},
   "source": [
    "### Inspecting balance of classes"
   ]
  },
  {
   "cell_type": "code",
   "execution_count": 16,
   "metadata": {},
   "outputs": [
    {
     "data": {
      "text/plain": [
       "0    7963\n",
       "1    2037\n",
       "Name: Exited, dtype: int64"
      ]
     },
     "execution_count": 16,
     "metadata": {},
     "output_type": "execute_result"
    }
   ],
   "source": [
    "df_ohe.Exited.value_counts()"
   ]
  },
  {
   "cell_type": "markdown",
   "metadata": {},
   "source": [
    "The ratio of the categories in the target column is 3:1. Although it is not a perfect case of 50%:50%, yet it is not heavily imbalanced data set, in some cases it can be workable balance. Let's try to work with this data as is first and then we can apply some techniques: upsampling and downsampling to deal with imbalance to see the difference."
   ]
  },
  {
   "cell_type": "markdown",
   "metadata": {},
   "source": [
    "# Model selection"
   ]
  },
  {
   "cell_type": "markdown",
   "metadata": {},
   "source": [
    "Our task is to predict a class: whether a customer will leave the bank or not, as such this is a classification problem. To solve this problem we need to pick a classification model. We will try Logistic Regression, Random Forest Classifier and Support Vector Machines. "
   ]
  },
  {
   "cell_type": "markdown",
   "metadata": {},
   "source": [
    "## Logistic Regression"
   ]
  },
  {
   "cell_type": "code",
   "execution_count": 17,
   "metadata": {},
   "outputs": [
    {
     "name": "stdout",
     "output_type": "stream",
     "text": [
      "F1 score for train:0.4959128065395096\n",
      "F1 score for valid:0.4668192219679634\n"
     ]
    }
   ],
   "source": [
    "logit = LogisticRegression(class_weight='balanced', solver='liblinear', random_state=12345) \n",
    "logit.fit(features_train, target_train)\n",
    "print(f'F1 score for train:{metrics.f1_score(target_train, logit.predict(features_train))}')\n",
    "print(f'F1 score for valid:{metrics.f1_score(target_valid, logit.predict(features_valid))}')"
   ]
  },
  {
   "cell_type": "code",
   "execution_count": 18,
   "metadata": {},
   "outputs": [
    {
     "data": {
      "image/png": "[encoded data removed]",
      "text/plain": [
       "<Figure size 432x288 with 1 Axes>"
      ]
     },
     "metadata": {
      "needs_background": "light"
     },
     "output_type": "display_data"
    }
   ],
   "source": [
    "metrics.plot_roc_curve(logit, features_valid, target_valid);\n",
    "plt.plot([0, 1], [0, 1], linestyle='--');"
   ]
  },
  {
   "cell_type": "markdown",
   "metadata": {},
   "source": [
    "We have got very low F1 score even after some model tuning. Apparently, this model would be the best to go with."
   ]
  },
  {
   "cell_type": "markdown",
   "metadata": {},
   "source": [
    "## Support Vector Machines"
   ]
  },
  {
   "cell_type": "code",
   "execution_count": 19,
   "metadata": {},
   "outputs": [
    {
     "name": "stdout",
     "output_type": "stream",
     "text": [
      "F1 score for train:0.5627258647392875\n",
      "F1 score for valid:0.5367965367965368\n"
     ]
    }
   ],
   "source": [
    "clf = svm.SVC(random_state=12345)\n",
    "clf.fit(features_train, target_train)\n",
    "print(f'F1 score for train:{metrics.f1_score(target_train, clf.predict(features_train))}')\n",
    "print(f'F1 score for valid:{metrics.f1_score(target_valid, clf.predict(features_valid))}')"
   ]
  },
  {
   "cell_type": "code",
   "execution_count": 20,
   "metadata": {},
   "outputs": [
    {
     "data": {
      "image/png": "[encoded data removed]",
      "text/plain": [
       "<Figure size 432x288 with 1 Axes>"
      ]
     },
     "metadata": {
      "needs_background": "light"
     },
     "output_type": "display_data"
    }
   ],
   "source": [
    "metrics.plot_roc_curve(clf, features_valid, target_valid);\n",
    "plt.plot([0, 1], [0, 1], linestyle='--');"
   ]
  },
  {
   "cell_type": "markdown",
   "metadata": {},
   "source": [
    "SVM gives higher F1 score than the previous model, but it is below the target F1 score and I was not able to achieve any improvement in F1 score by tuning hyper-parameters."
   ]
  },
  {
   "cell_type": "markdown",
   "metadata": {},
   "source": [
    "## Random Forest Classifier"
   ]
  },
  {
   "cell_type": "code",
   "execution_count": 21,
   "metadata": {},
   "outputs": [
    {
     "name": "stdout",
     "output_type": "stream",
     "text": [
      "F1 score for train:1.0\n",
      "F1 score for valid:0.5748502994011976\n"
     ]
    }
   ],
   "source": [
    "rfc = RandomForestClassifier(random_state=12345) #max_depth=11, n_estimators=100,class_weight='balanced'\n",
    "rfc.fit(features_train, target_train)\n",
    "print(f'F1 score for train:{metrics.f1_score(target_train, rfc.predict(features_train))}')\n",
    "print(f'F1 score for valid:{metrics.f1_score(target_valid, rfc.predict(features_valid))}')"
   ]
  },
  {
   "cell_type": "markdown",
   "metadata": {},
   "source": [
    "We got F1 of 0.575 with default hyper-parameters. Let's do some hyper-parameter tuning to see of we can get it above the passing mark of 0.59."
   ]
  },
  {
   "cell_type": "code",
   "execution_count": 22,
   "metadata": {},
   "outputs": [],
   "source": [
    "param_grid = { \n",
    "    'n_estimators': [10, 25, 50, 75, 100],\n",
    "    'class_weight': ['balanced', 'balanced_subsample', 'None'],\n",
    "    'max_depth' : [2,3,4,5,6,7,8,9,10,11,12]\n",
    "}"
   ]
  },
  {
   "cell_type": "code",
   "execution_count": 23,
   "metadata": {},
   "outputs": [
    {
     "data": {
      "text/plain": [
       "GridSearchCV(cv=5, estimator=RandomForestClassifier(random_state=12345),\n",
       "             param_grid={'class_weight': ['balanced', 'balanced_subsample',\n",
       "                                          'None'],\n",
       "                         'max_depth': [2, 3, 4, 5, 6, 7, 8, 9, 10, 11, 12],\n",
       "                         'n_estimators': [10, 25, 50, 75, 100]},\n",
       "             scoring='f1')"
      ]
     },
     "execution_count": 23,
     "metadata": {},
     "output_type": "execute_result"
    }
   ],
   "source": [
    "CV_rfc = GridSearchCV(estimator=rfc, param_grid=param_grid, cv=5, scoring='f1')\n",
    "CV_rfc.fit(features_train, target_train)"
   ]
  },
  {
   "cell_type": "code",
   "execution_count": 24,
   "metadata": {},
   "outputs": [
    {
     "name": "stdout",
     "output_type": "stream",
     "text": [
      "{'class_weight': 'balanced_subsample', 'max_depth': 9, 'n_estimators': 75}\n"
     ]
    }
   ],
   "source": [
    "print(CV_rfc.best_params_)"
   ]
  },
  {
   "cell_type": "code",
   "execution_count": 25,
   "metadata": {},
   "outputs": [
    {
     "name": "stdout",
     "output_type": "stream",
     "text": [
      "F1 score for train:0.7550143266475645\n",
      "F1 score for valid:0.5900151285930407\n"
     ]
    }
   ],
   "source": [
    "print(f'F1 score for train:{metrics.f1_score(target_train, CV_rfc.predict(features_train))}')\n",
    "print(f'F1 score for valid:{metrics.f1_score(target_valid, CV_rfc.predict(features_valid))}')"
   ]
  },
  {
   "cell_type": "markdown",
   "metadata": {},
   "source": [
    "By tuning hyper-parameters we were able to achieve the target F1 level. Let's re-write the model with best hyper-parameters to use it later."
   ]
  },
  {
   "cell_type": "code",
   "execution_count": 26,
   "metadata": {},
   "outputs": [],
   "source": [
    "rfc_best = RandomForestClassifier(max_depth=9, n_estimators=75, class_weight='balanced_subsample', random_state=12345)"
   ]
  },
  {
   "cell_type": "markdown",
   "metadata": {},
   "source": [
    "Best out of three models that we tried is Random Forest Classifier. We will continue to work with it on the class imbalance task."
   ]
  },
  {
   "cell_type": "markdown",
   "metadata": {},
   "source": [
    "# Dealing with class imbalances"
   ]
  },
  {
   "cell_type": "markdown",
   "metadata": {},
   "source": [
    "## Upsampling data"
   ]
  },
  {
   "cell_type": "code",
   "execution_count": 27,
   "metadata": {},
   "outputs": [],
   "source": [
    "def upsample(features, target, repeat):\n",
    "    features_zeros = features[target == 0]\n",
    "    features_ones = features[target == 1]\n",
    "    target_zeros = target[target == 0]\n",
    "    target_ones = target[target == 1]\n",
    "\n",
    "    features_upsampled = pd.concat([features_zeros] + [features_ones] * repeat)\n",
    "    target_upsampled = pd.concat([target_zeros] + [target_ones] * repeat)\n",
    "    \n",
    "    features_upsampled, target_upsampled = shuffle(\n",
    "        features_upsampled, target_upsampled, random_state=12345)\n",
    "    \n",
    "    return features_upsampled, target_upsampled"
   ]
  },
  {
   "cell_type": "code",
   "execution_count": 28,
   "metadata": {},
   "outputs": [],
   "source": [
    "features_upsampled, target_upsampled = upsample(features_train, target_train, 4)"
   ]
  },
  {
   "cell_type": "code",
   "execution_count": 29,
   "metadata": {},
   "outputs": [
    {
     "data": {
      "text/plain": [
       "1    5228\n",
       "0    5093\n",
       "Name: Exited, dtype: int64"
      ]
     },
     "execution_count": 29,
     "metadata": {},
     "output_type": "execute_result"
    }
   ],
   "source": [
    "target_upsampled.value_counts()"
   ]
  },
  {
   "cell_type": "code",
   "execution_count": 30,
   "metadata": {},
   "outputs": [
    {
     "name": "stdout",
     "output_type": "stream",
     "text": [
      "0.6299376299376299\n"
     ]
    }
   ],
   "source": [
    "rfc_best.fit(features_upsampled, target_upsampled)\n",
    "predicted = rfc_best.predict(features_test)\n",
    "F1_frc_model_best = metrics.f1_score(target_test, predicted)\n",
    "print(F1_frc_model_best)"
   ]
  },
  {
   "cell_type": "code",
   "execution_count": 31,
   "metadata": {},
   "outputs": [
    {
     "data": {
      "image/png": "[encoded data removed]",
      "text/plain": [
       "<Figure size 432x288 with 1 Axes>"
      ]
     },
     "metadata": {
      "needs_background": "light"
     },
     "output_type": "display_data"
    }
   ],
   "source": [
    "metrics.plot_roc_curve(rfc_best, features_test, target_test);\n",
    "plt.plot([0, 1], [0, 1], linestyle='--');"
   ]
  },
  {
   "cell_type": "code",
   "execution_count": 32,
   "metadata": {},
   "outputs": [
    {
     "data": {
      "text/plain": [
       "0.8663601674033864"
      ]
     },
     "execution_count": 32,
     "metadata": {},
     "output_type": "execute_result"
    }
   ],
   "source": [
    "metrics.roc_auc_score(target_test, rfc_best.predict_proba(features_test)[:,1])"
   ]
  },
  {
   "cell_type": "markdown",
   "metadata": {},
   "source": [
    "## Downsampling data"
   ]
  },
  {
   "cell_type": "code",
   "execution_count": 33,
   "metadata": {},
   "outputs": [],
   "source": [
    "def downsample(features, target, fraction):\n",
    "    features_zeros = features[target == 0]\n",
    "    features_ones = features[target == 1]\n",
    "    target_zeros = target[target == 0]\n",
    "    target_ones = target[target == 1]\n",
    "\n",
    "    features_downsampled = pd.concat(\n",
    "        [features_zeros.sample(frac=fraction, random_state=12345)] + [features_ones])\n",
    "    target_downsampled = pd.concat(\n",
    "        [target_zeros.sample(frac=fraction, random_state=12345)] + [target_ones])\n",
    "    \n",
    "    features_downsampled, target_downsampled = shuffle(\n",
    "        features_downsampled, target_downsampled, random_state=12345)\n",
    "    \n",
    "    return features_downsampled, target_downsampled"
   ]
  },
  {
   "cell_type": "code",
   "execution_count": 34,
   "metadata": {},
   "outputs": [],
   "source": [
    "features_downsampled, target_downsampled = downsample(features_train, target_train, 0.27)"
   ]
  },
  {
   "cell_type": "code",
   "execution_count": 35,
   "metadata": {},
   "outputs": [
    {
     "data": {
      "text/plain": [
       "0    1375\n",
       "1    1307\n",
       "Name: Exited, dtype: int64"
      ]
     },
     "execution_count": 35,
     "metadata": {},
     "output_type": "execute_result"
    }
   ],
   "source": [
    "target_downsampled.value_counts()"
   ]
  },
  {
   "cell_type": "code",
   "execution_count": 36,
   "metadata": {},
   "outputs": [
    {
     "name": "stdout",
     "output_type": "stream",
     "text": [
      "0.6235521235521235\n"
     ]
    }
   ],
   "source": [
    "rfc_best.fit(features_downsampled, target_downsampled)\n",
    "predicted = rfc_best.predict(features_test)\n",
    "F1_frc_model_best = metrics.f1_score(target_test, predicted)\n",
    "print(F1_frc_model_best)"
   ]
  },
  {
   "cell_type": "code",
   "execution_count": 37,
   "metadata": {},
   "outputs": [
    {
     "data": {
      "image/png": "[encoded data removed]",
      "text/plain": [
       "<Figure size 432x288 with 1 Axes>"
      ]
     },
     "metadata": {
      "needs_background": "light"
     },
     "output_type": "display_data"
    }
   ],
   "source": [
    "metrics.plot_roc_curve(rfc_best, features_test, target_test);\n",
    "plt.plot([0, 1], [0, 1], linestyle='--');"
   ]
  },
  {
   "cell_type": "code",
   "execution_count": 38,
   "metadata": {},
   "outputs": [
    {
     "data": {
      "text/plain": [
       "0.8644172518986228"
      ]
     },
     "execution_count": 38,
     "metadata": {},
     "output_type": "execute_result"
    }
   ],
   "source": [
    "metrics.roc_auc_score(target_test, rfc_best.predict_proba(features_test)[:,1])"
   ]
  },
  {
   "cell_type": "markdown",
   "metadata": {},
   "source": [
    "# Conclusion"
   ]
  },
  {
   "cell_type": "markdown",
   "metadata": {},
   "source": [
    "We studied the data, prepared it and identified class imbalance. Three models were tested: Logit, SVM and Random Forest Classifier. The model with the hight F1 score was Random Forest Classifier. We were able to achieve 0.59 F1 with tuning hyper-parameters.<br/>\n",
    "We also tried upsampling and downsampling techniques to deal with classes imbalance. It was discovered that the higher F1 score was achieved using upsampling method. When we traind and tested the model on the downsampled data, we were able to achieve F1=0.64."
   ]
  }
 ],
 "metadata": {
  "kernelspec": {
   "display_name": "Python 3",
   "language": "python",
   "name": "python3"
  },
  "language_info": {
   "codemirror_mode": {
    "name": "ipython",
    "version": 3
   },
   "file_extension": ".py",
   "mimetype": "text/x-python",
   "name": "python",
   "nbconvert_exporter": "python",
   "pygments_lexer": "ipython3",
   "version": "3.8.5"
  },
  "toc": {
   "base_numbering": 1,
   "nav_menu": {},
   "number_sections": false,
   "sideBar": true,
   "skip_h1_title": false,
   "title_cell": "Table of Contents",
   "title_sidebar": "Contents",
   "toc_cell": true,
   "toc_position": {},
   "toc_section_display": true,
   "toc_window_display": true
  }
 },
 "nbformat": 4,
 "nbformat_minor": 4
}
