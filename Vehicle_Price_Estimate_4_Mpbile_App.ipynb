{
 "cells": [
  {
   "cell_type": "markdown",
   "metadata": {
    "toc": true
   },
   "source": [
    "<h1>Table of Contents<span class=\"tocSkip\"></span></h1>\n",
    "<div class=\"toc\"><ul class=\"toc-item\"><li><span><a href=\"#Project-description\" data-toc-modified-id=\"Project-description-1\">Project description</a></span></li><li><span><a href=\"#Data-Preparation\" data-toc-modified-id=\"Data-Preparation-2\">Data Preparation</a></span><ul class=\"toc-item\"><li><ul class=\"toc-item\"><li><ul class=\"toc-item\"><li><span><a href=\"#Useless-Columns\" data-toc-modified-id=\"Useless-Columns-2.0.0.1\">Useless Columns</a></span></li><li><span><a href=\"#Missing-Values\" data-toc-modified-id=\"Missing-Values-2.0.0.2\">Missing Values</a></span></li></ul></li></ul></li></ul></li><li><span><a href=\"#Models-Selection\" data-toc-modified-id=\"Models-Selection-3\">Models Selection</a></span><ul class=\"toc-item\"><li><ul class=\"toc-item\"><li><span><a href=\"#CatBoost\" data-toc-modified-id=\"CatBoost-3.0.1\">CatBoost</a></span><ul class=\"toc-item\"><li><span><a href=\"#Finding-Best-Hyper-Parameters-With-Grid-Search\" data-toc-modified-id=\"Finding-Best-Hyper-Parameters-With-Grid-Search-3.0.1.1\">Finding Best Hyper-Parameters With Grid Search</a></span></li><li><span><a href=\"#CatBoost-With-Best-Hyper-Parameters\" data-toc-modified-id=\"CatBoost-With-Best-Hyper-Parameters-3.0.1.2\">CatBoost With Best Hyper-Parameters</a></span></li></ul></li><li><span><a href=\"#LightGMB:-LGBMRegressor\" data-toc-modified-id=\"LightGMB:-LGBMRegressor-3.0.2\">LightGMB: LGBMRegressor</a></span><ul class=\"toc-item\"><li><span><a href=\"#Finding-Best-Hyper-Parameters-With-Grid-Search\" data-toc-modified-id=\"Finding-Best-Hyper-Parameters-With-Grid-Search-3.0.2.1\">Finding Best Hyper-Parameters With Grid Search</a></span></li><li><span><a href=\"#LGBMRegressor-With-Best-Hyper-Parameters\" data-toc-modified-id=\"LGBMRegressor-With-Best-Hyper-Parameters-3.0.2.2\">LGBMRegressor With Best Hyper-Parameters</a></span></li></ul></li><li><span><a href=\"#XGBoost\" data-toc-modified-id=\"XGBoost-3.0.3\">XGBoost</a></span></li></ul></li><li><span><a href=\"#Dummy-model\" data-toc-modified-id=\"Dummy-model-3.1\">Dummy model</a></span></li></ul></li><li><span><a href=\"#Models-Comparison\" data-toc-modified-id=\"Models-Comparison-4\">Models Comparison</a></span></li><li><span><a href=\"#Conclusion\" data-toc-modified-id=\"Conclusion-5\">Conclusion</a></span></li></ul></div>"
   ]
  },
  {
   "cell_type": "markdown",
   "metadata": {},
   "source": [
    "# Project description"
   ]
  },
  {
   "cell_type": "markdown",
   "metadata": {},
   "source": [
    "Rusty Bargin used car sales service is developing an app to attract new customers. In that app, a user can quickly find out the market value of their car.<br>\n",
    "<b>The task</b> is to develop a model to determine the value of a car.<br>\n",
    "<b>Data description</b>\n",
    "Historic data was provided and it includes: technical specifications, trim versions and prices. The data description:<br>\n",
    "<i>DateCrawled</i> — date a profile was downloaded from the database<br>\n",
    "<i>VehicleType</i> — vehicle body type<br>\n",
    "<i>RegistraionYear</i> — vehicle registration year<br>\n",
    "<i>Gearbox</i> — gearbox type<br>\n",
    "<i>Power</i> — power (hp)<br>\n",
    "<i>Model</i> — vehicle model<br>\n",
    "<i>Mileage</i> — mileage (measured in km)<br>\n",
    "<i>RegistrationMonth</i> — vehicle registration month<br>\n",
    "<i>FuelType</i> — fuel type<br>\n",
    "<i>Brand</i> — vehicle brand<br>\n",
    "<i>NotRepaired</i> — vehicle repaired or not<br>\n",
    "<i>DateCreated</i> — date of the profile creation<br>\n",
    "<i>NumberOfPictures</i> — number of vehicle pictures<br>\n",
    "<i>PostalCode</i> — postal code of the profile owner (user)<br>\n",
    "<i>LastSeen</i> — date of the last activity of the user<br>"
   ]
  },
  {
   "cell_type": "markdown",
   "metadata": {},
   "source": [
    "# Data Preparation"
   ]
  },
  {
   "cell_type": "code",
   "execution_count": 1,
   "metadata": {},
   "outputs": [],
   "source": [
    "import sys\n",
    "import warnings\n",
    "if not sys.warnoptions:\n",
    "       warnings.simplefilter(\"ignore\")\n",
    "import pandas as pd\n",
    "import numpy as np\n",
    "from sklearn.model_selection import train_test_split\n",
    "from sklearn.model_selection import GridSearchCV\n",
    "from sklearn.metrics import mean_squared_error\n",
    "from catboost import CatBoostRegressor\n",
    "from lightgbm import LGBMRegressor\n",
    "from sklearn.preprocessing import OneHotEncoder, LabelEncoder\n",
    "import xgboost as xgb"
   ]
  },
  {
   "cell_type": "code",
   "execution_count": 2,
   "metadata": {},
   "outputs": [],
   "source": [
    "df = pd.read_csv('car_data.csv')"
   ]
  },
  {
   "cell_type": "code",
   "execution_count": 3,
   "metadata": {},
   "outputs": [
    {
     "name": "stdout",
     "output_type": "stream",
     "text": [
      "<class 'pandas.core.frame.DataFrame'>\n",
      "RangeIndex: 354369 entries, 0 to 354368\n",
      "Data columns (total 16 columns):\n",
      " #   Column             Non-Null Count   Dtype \n",
      "---  ------             --------------   ----- \n",
      " 0   DateCrawled        354369 non-null  object\n",
      " 1   Price              354369 non-null  int64 \n",
      " 2   VehicleType        316879 non-null  object\n",
      " 3   RegistrationYear   354369 non-null  int64 \n",
      " 4   Gearbox            334536 non-null  object\n",
      " 5   Power              354369 non-null  int64 \n",
      " 6   Model              334664 non-null  object\n",
      " 7   Mileage            354369 non-null  int64 \n",
      " 8   RegistrationMonth  354369 non-null  int64 \n",
      " 9   FuelType           321474 non-null  object\n",
      " 10  Brand              354369 non-null  object\n",
      " 11  NotRepaired        283215 non-null  object\n",
      " 12  DateCreated        354369 non-null  object\n",
      " 13  NumberOfPictures   354369 non-null  int64 \n",
      " 14  PostalCode         354369 non-null  int64 \n",
      " 15  LastSeen           354369 non-null  object\n",
      "dtypes: int64(7), object(9)\n",
      "memory usage: 43.3+ MB\n"
     ]
    }
   ],
   "source": [
    "df.info()"
   ]
  },
  {
   "cell_type": "code",
   "execution_count": 4,
   "metadata": {},
   "outputs": [
    {
     "data": {
      "text/html": [
       "<div>\n",
       "<style scoped>\n",
       "    .dataframe tbody tr th:only-of-type {\n",
       "        vertical-align: middle;\n",
       "    }\n",
       "\n",
       "    .dataframe tbody tr th {\n",
       "        vertical-align: top;\n",
       "    }\n",
       "\n",
       "    .dataframe thead th {\n",
       "        text-align: right;\n",
       "    }\n",
       "</style>\n",
       "<table border=\"1\" class=\"dataframe\">\n",
       "  <thead>\n",
       "    <tr style=\"text-align: right;\">\n",
       "      <th></th>\n",
       "      <th>DateCrawled</th>\n",
       "      <th>Price</th>\n",
       "      <th>VehicleType</th>\n",
       "      <th>RegistrationYear</th>\n",
       "      <th>Gearbox</th>\n",
       "      <th>Power</th>\n",
       "      <th>Model</th>\n",
       "      <th>Mileage</th>\n",
       "      <th>RegistrationMonth</th>\n",
       "      <th>FuelType</th>\n",
       "      <th>Brand</th>\n",
       "      <th>NotRepaired</th>\n",
       "      <th>DateCreated</th>\n",
       "      <th>NumberOfPictures</th>\n",
       "      <th>PostalCode</th>\n",
       "      <th>LastSeen</th>\n",
       "    </tr>\n",
       "  </thead>\n",
       "  <tbody>\n",
       "    <tr>\n",
       "      <th>159269</th>\n",
       "      <td>07/04/2016 00:06</td>\n",
       "      <td>7500</td>\n",
       "      <td>small</td>\n",
       "      <td>2011</td>\n",
       "      <td>manual</td>\n",
       "      <td>60</td>\n",
       "      <td>ibiza</td>\n",
       "      <td>70000</td>\n",
       "      <td>8</td>\n",
       "      <td>petrol</td>\n",
       "      <td>seat</td>\n",
       "      <td>no</td>\n",
       "      <td>06/04/2016 00:00</td>\n",
       "      <td>0</td>\n",
       "      <td>57520</td>\n",
       "      <td>07/04/2016 01:25</td>\n",
       "    </tr>\n",
       "    <tr>\n",
       "      <th>34859</th>\n",
       "      <td>08/03/2016 12:54</td>\n",
       "      <td>100</td>\n",
       "      <td>small</td>\n",
       "      <td>1998</td>\n",
       "      <td>manual</td>\n",
       "      <td>50</td>\n",
       "      <td>fiesta</td>\n",
       "      <td>150000</td>\n",
       "      <td>3</td>\n",
       "      <td>petrol</td>\n",
       "      <td>ford</td>\n",
       "      <td>no</td>\n",
       "      <td>08/03/2016 00:00</td>\n",
       "      <td>0</td>\n",
       "      <td>41464</td>\n",
       "      <td>15/03/2016 09:15</td>\n",
       "    </tr>\n",
       "  </tbody>\n",
       "</table>\n",
       "</div>"
      ],
      "text/plain": [
       "             DateCrawled  Price VehicleType  RegistrationYear Gearbox  Power  \\\n",
       "159269  07/04/2016 00:06   7500       small              2011  manual     60   \n",
       "34859   08/03/2016 12:54    100       small              1998  manual     50   \n",
       "\n",
       "         Model  Mileage  RegistrationMonth FuelType Brand NotRepaired  \\\n",
       "159269   ibiza    70000                  8   petrol  seat          no   \n",
       "34859   fiesta   150000                  3   petrol  ford          no   \n",
       "\n",
       "             DateCreated  NumberOfPictures  PostalCode          LastSeen  \n",
       "159269  06/04/2016 00:00                 0       57520  07/04/2016 01:25  \n",
       "34859   08/03/2016 00:00                 0       41464  15/03/2016 09:15  "
      ]
     },
     "execution_count": 4,
     "metadata": {},
     "output_type": "execute_result"
    }
   ],
   "source": [
    "df.sample(2)"
   ]
  },
  {
   "cell_type": "code",
   "execution_count": 5,
   "metadata": {},
   "outputs": [
    {
     "data": {
      "text/html": [
       "<div>\n",
       "<style scoped>\n",
       "    .dataframe tbody tr th:only-of-type {\n",
       "        vertical-align: middle;\n",
       "    }\n",
       "\n",
       "    .dataframe tbody tr th {\n",
       "        vertical-align: top;\n",
       "    }\n",
       "\n",
       "    .dataframe thead th {\n",
       "        text-align: right;\n",
       "    }\n",
       "</style>\n",
       "<table border=\"1\" class=\"dataframe\">\n",
       "  <thead>\n",
       "    <tr style=\"text-align: right;\">\n",
       "      <th></th>\n",
       "      <th>Price</th>\n",
       "      <th>RegistrationYear</th>\n",
       "      <th>Power</th>\n",
       "      <th>Mileage</th>\n",
       "      <th>RegistrationMonth</th>\n",
       "      <th>NumberOfPictures</th>\n",
       "      <th>PostalCode</th>\n",
       "    </tr>\n",
       "  </thead>\n",
       "  <tbody>\n",
       "    <tr>\n",
       "      <th>count</th>\n",
       "      <td>354369.000000</td>\n",
       "      <td>354369.000000</td>\n",
       "      <td>354369.000000</td>\n",
       "      <td>354369.000000</td>\n",
       "      <td>354369.000000</td>\n",
       "      <td>354369.0</td>\n",
       "      <td>354369.000000</td>\n",
       "    </tr>\n",
       "    <tr>\n",
       "      <th>mean</th>\n",
       "      <td>4416.656776</td>\n",
       "      <td>2004.234448</td>\n",
       "      <td>110.094337</td>\n",
       "      <td>128211.172535</td>\n",
       "      <td>5.714645</td>\n",
       "      <td>0.0</td>\n",
       "      <td>50508.689087</td>\n",
       "    </tr>\n",
       "    <tr>\n",
       "      <th>std</th>\n",
       "      <td>4514.158514</td>\n",
       "      <td>90.227958</td>\n",
       "      <td>189.850405</td>\n",
       "      <td>37905.341530</td>\n",
       "      <td>3.726421</td>\n",
       "      <td>0.0</td>\n",
       "      <td>25783.096248</td>\n",
       "    </tr>\n",
       "    <tr>\n",
       "      <th>min</th>\n",
       "      <td>0.000000</td>\n",
       "      <td>1000.000000</td>\n",
       "      <td>0.000000</td>\n",
       "      <td>5000.000000</td>\n",
       "      <td>0.000000</td>\n",
       "      <td>0.0</td>\n",
       "      <td>1067.000000</td>\n",
       "    </tr>\n",
       "    <tr>\n",
       "      <th>25%</th>\n",
       "      <td>1050.000000</td>\n",
       "      <td>1999.000000</td>\n",
       "      <td>69.000000</td>\n",
       "      <td>125000.000000</td>\n",
       "      <td>3.000000</td>\n",
       "      <td>0.0</td>\n",
       "      <td>30165.000000</td>\n",
       "    </tr>\n",
       "    <tr>\n",
       "      <th>50%</th>\n",
       "      <td>2700.000000</td>\n",
       "      <td>2003.000000</td>\n",
       "      <td>105.000000</td>\n",
       "      <td>150000.000000</td>\n",
       "      <td>6.000000</td>\n",
       "      <td>0.0</td>\n",
       "      <td>49413.000000</td>\n",
       "    </tr>\n",
       "    <tr>\n",
       "      <th>75%</th>\n",
       "      <td>6400.000000</td>\n",
       "      <td>2008.000000</td>\n",
       "      <td>143.000000</td>\n",
       "      <td>150000.000000</td>\n",
       "      <td>9.000000</td>\n",
       "      <td>0.0</td>\n",
       "      <td>71083.000000</td>\n",
       "    </tr>\n",
       "    <tr>\n",
       "      <th>max</th>\n",
       "      <td>20000.000000</td>\n",
       "      <td>9999.000000</td>\n",
       "      <td>20000.000000</td>\n",
       "      <td>150000.000000</td>\n",
       "      <td>12.000000</td>\n",
       "      <td>0.0</td>\n",
       "      <td>99998.000000</td>\n",
       "    </tr>\n",
       "  </tbody>\n",
       "</table>\n",
       "</div>"
      ],
      "text/plain": [
       "               Price  RegistrationYear          Power        Mileage  \\\n",
       "count  354369.000000     354369.000000  354369.000000  354369.000000   \n",
       "mean     4416.656776       2004.234448     110.094337  128211.172535   \n",
       "std      4514.158514         90.227958     189.850405   37905.341530   \n",
       "min         0.000000       1000.000000       0.000000    5000.000000   \n",
       "25%      1050.000000       1999.000000      69.000000  125000.000000   \n",
       "50%      2700.000000       2003.000000     105.000000  150000.000000   \n",
       "75%      6400.000000       2008.000000     143.000000  150000.000000   \n",
       "max     20000.000000       9999.000000   20000.000000  150000.000000   \n",
       "\n",
       "       RegistrationMonth  NumberOfPictures     PostalCode  \n",
       "count      354369.000000          354369.0  354369.000000  \n",
       "mean            5.714645               0.0   50508.689087  \n",
       "std             3.726421               0.0   25783.096248  \n",
       "min             0.000000               0.0    1067.000000  \n",
       "25%             3.000000               0.0   30165.000000  \n",
       "50%             6.000000               0.0   49413.000000  \n",
       "75%             9.000000               0.0   71083.000000  \n",
       "max            12.000000               0.0   99998.000000  "
      ]
     },
     "execution_count": 5,
     "metadata": {},
     "output_type": "execute_result"
    }
   ],
   "source": [
    "df.describe()"
   ]
  },
  {
   "cell_type": "markdown",
   "metadata": {},
   "source": [
    "#### Useless Columns"
   ]
  },
  {
   "cell_type": "markdown",
   "metadata": {},
   "source": [
    "All columns with dates are not really predictors for this task, so let's just remove them. Also, the column with number of pictures has all zeros. Perhaps this happened due to error while data dump. We will remove it too."
   ]
  },
  {
   "cell_type": "code",
   "execution_count": 6,
   "metadata": {},
   "outputs": [],
   "source": [
    "df.drop(['DateCrawled', 'DateCreated', 'LastSeen', 'NumberOfPictures'], axis=1, inplace=True)"
   ]
  },
  {
   "cell_type": "markdown",
   "metadata": {},
   "source": [
    "#### Missing Values"
   ]
  },
  {
   "cell_type": "code",
   "execution_count": 7,
   "metadata": {},
   "outputs": [
    {
     "data": {
      "text/html": [
       "<div>\n",
       "<style scoped>\n",
       "    .dataframe tbody tr th:only-of-type {\n",
       "        vertical-align: middle;\n",
       "    }\n",
       "\n",
       "    .dataframe tbody tr th {\n",
       "        vertical-align: top;\n",
       "    }\n",
       "\n",
       "    .dataframe thead th {\n",
       "        text-align: right;\n",
       "    }\n",
       "</style>\n",
       "<table border=\"1\" class=\"dataframe\">\n",
       "  <thead>\n",
       "    <tr style=\"text-align: right;\">\n",
       "      <th></th>\n",
       "      <th>Price</th>\n",
       "      <th>VehicleType</th>\n",
       "      <th>RegistrationYear</th>\n",
       "      <th>Gearbox</th>\n",
       "      <th>Power</th>\n",
       "      <th>Model</th>\n",
       "      <th>Mileage</th>\n",
       "      <th>RegistrationMonth</th>\n",
       "      <th>FuelType</th>\n",
       "      <th>Brand</th>\n",
       "      <th>NotRepaired</th>\n",
       "      <th>PostalCode</th>\n",
       "    </tr>\n",
       "  </thead>\n",
       "  <tbody>\n",
       "    <tr>\n",
       "      <th># of missing values ('NaNs')</th>\n",
       "      <td>0</td>\n",
       "      <td>37490</td>\n",
       "      <td>0</td>\n",
       "      <td>19833</td>\n",
       "      <td>0</td>\n",
       "      <td>19705</td>\n",
       "      <td>0</td>\n",
       "      <td>0</td>\n",
       "      <td>32895</td>\n",
       "      <td>0</td>\n",
       "      <td>71154</td>\n",
       "      <td>0</td>\n",
       "    </tr>\n",
       "  </tbody>\n",
       "</table>\n",
       "</div>"
      ],
      "text/plain": [
       "                              Price  VehicleType  RegistrationYear  Gearbox  \\\n",
       "# of missing values ('NaNs')      0        37490                 0    19833   \n",
       "\n",
       "                              Power  Model  Mileage  RegistrationMonth  \\\n",
       "# of missing values ('NaNs')      0  19705        0                  0   \n",
       "\n",
       "                              FuelType  Brand  NotRepaired  PostalCode  \n",
       "# of missing values ('NaNs')     32895      0        71154           0  "
      ]
     },
     "execution_count": 7,
     "metadata": {},
     "output_type": "execute_result"
    }
   ],
   "source": [
    "def count_missing_by_col(df):\n",
    "    return df.isna().sum().to_frame(name=\"# of missing values ('NaNs')\").T\n",
    "\n",
    "count_missing_by_col(df)"
   ]
  },
  {
   "cell_type": "code",
   "execution_count": 8,
   "metadata": {},
   "outputs": [
    {
     "data": {
      "text/html": [
       "<div>\n",
       "<style scoped>\n",
       "    .dataframe tbody tr th:only-of-type {\n",
       "        vertical-align: middle;\n",
       "    }\n",
       "\n",
       "    .dataframe tbody tr th {\n",
       "        vertical-align: top;\n",
       "    }\n",
       "\n",
       "    .dataframe thead th {\n",
       "        text-align: right;\n",
       "    }\n",
       "</style>\n",
       "<table border=\"1\" class=\"dataframe\">\n",
       "  <thead>\n",
       "    <tr style=\"text-align: right;\">\n",
       "      <th></th>\n",
       "      <th>Price</th>\n",
       "      <th>VehicleType</th>\n",
       "      <th>RegistrationYear</th>\n",
       "      <th>Gearbox</th>\n",
       "      <th>Power</th>\n",
       "      <th>Model</th>\n",
       "      <th>Mileage</th>\n",
       "      <th>RegistrationMonth</th>\n",
       "      <th>FuelType</th>\n",
       "      <th>Brand</th>\n",
       "      <th>NotRepaired</th>\n",
       "      <th>PostalCode</th>\n",
       "    </tr>\n",
       "  </thead>\n",
       "  <tbody>\n",
       "    <tr>\n",
       "      <th>% of missing values ('NaNs')</th>\n",
       "      <td>0.0</td>\n",
       "      <td>10.58</td>\n",
       "      <td>0.0</td>\n",
       "      <td>5.6</td>\n",
       "      <td>0.0</td>\n",
       "      <td>5.56</td>\n",
       "      <td>0.0</td>\n",
       "      <td>0.0</td>\n",
       "      <td>9.28</td>\n",
       "      <td>0.0</td>\n",
       "      <td>20.08</td>\n",
       "      <td>0.0</td>\n",
       "    </tr>\n",
       "  </tbody>\n",
       "</table>\n",
       "</div>"
      ],
      "text/plain": [
       "                              Price  VehicleType  RegistrationYear  Gearbox  \\\n",
       "% of missing values ('NaNs')    0.0        10.58               0.0      5.6   \n",
       "\n",
       "                              Power  Model  Mileage  RegistrationMonth  \\\n",
       "% of missing values ('NaNs')    0.0   5.56      0.0                0.0   \n",
       "\n",
       "                              FuelType  Brand  NotRepaired  PostalCode  \n",
       "% of missing values ('NaNs')      9.28    0.0        20.08         0.0  "
      ]
     },
     "execution_count": 8,
     "metadata": {},
     "output_type": "execute_result"
    }
   ],
   "source": [
    "# % of missing data in each column\n",
    "round(df.isnull().sum() / df.shape[0] * 100, 2).to_frame(name=\"% of missing values ('NaNs')\").T"
   ]
  },
  {
   "cell_type": "markdown",
   "metadata": {},
   "source": [
    "There are several methods to deal with missing values. In this project we will fill all missing categorical values with \"Nan\", e.g. we will create a separate category for them."
   ]
  },
  {
   "cell_type": "code",
   "execution_count": 9,
   "metadata": {},
   "outputs": [
    {
     "data": {
      "text/plain": [
       "['VehicleType', 'Gearbox', 'Model', 'FuelType', 'Brand', 'NotRepaired']"
      ]
     },
     "execution_count": 9,
     "metadata": {},
     "output_type": "execute_result"
    }
   ],
   "source": [
    "categorical = list(df.loc[:, df.dtypes == 'object'].columns.values)\n",
    "categorical"
   ]
  },
  {
   "cell_type": "code",
   "execution_count": 10,
   "metadata": {},
   "outputs": [],
   "source": [
    "df[categorical] = df[categorical].fillna('Nan')"
   ]
  },
  {
   "cell_type": "markdown",
   "metadata": {},
   "source": [
    "# Models Selection"
   ]
  },
  {
   "cell_type": "markdown",
   "metadata": {},
   "source": [
    "We will split the data into training, validation and test sets in the following ratio: 3:1:1 respectively."
   ]
  },
  {
   "cell_type": "code",
   "execution_count": 11,
   "metadata": {},
   "outputs": [
    {
     "name": "stdout",
     "output_type": "stream",
     "text": [
      "(212621, 12) (70874, 12) (70874, 12)\n"
     ]
    }
   ],
   "source": [
    "# Splitting into 80% and 20%\n",
    "remainder, test = train_test_split(df, test_size=0.2, random_state=1)\n",
    "# splitting 80% into 75% and 25%, thus getting 60% and 20% of total respectively\n",
    "train, valid = train_test_split(remainder, test_size=0.25, random_state=1)\n",
    "print(train.shape, test.shape, valid.shape)"
   ]
  },
  {
   "cell_type": "code",
   "execution_count": 12,
   "metadata": {},
   "outputs": [],
   "source": [
    "X_train = train.drop(['Price'], axis=1)\n",
    "X_test = test.drop(['Price'], axis=1)\n",
    "X_valid = valid.drop(['Price'], axis=1)\n",
    "y_train = train['Price']\n",
    "y_test = test['Price']\n",
    "y_valid = valid['Price']"
   ]
  },
  {
   "cell_type": "markdown",
   "metadata": {},
   "source": [
    "### CatBoost"
   ]
  },
  {
   "cell_type": "markdown",
   "metadata": {},
   "source": [
    "We do not have to encode categorical values for the CatBoost model, but we need to indicate what features are categorical. Also, CatBoost will not work with missing data, but we already took care of it."
   ]
  },
  {
   "cell_type": "markdown",
   "metadata": {},
   "source": [
    "#### Finding Best Hyper-Parameters With Grid Search"
   ]
  },
  {
   "cell_type": "code",
   "execution_count": 13,
   "metadata": {},
   "outputs": [],
   "source": [
    "catboost = CatBoostRegressor(cat_features = categorical)"
   ]
  },
  {
   "cell_type": "code",
   "execution_count": 14,
   "metadata": {},
   "outputs": [],
   "source": [
    "param_grid = {'n_estimators': [100],\n",
    "        'learning_rate': [0.05, 0.1, 0.15],\n",
    "        'depth': [6, 8, 10],\n",
    "        #'random_state': [123],\n",
    "        'l2_leaf_reg': [1, 3, 5, 7, 9]}"
   ]
  },
  {
   "cell_type": "code",
   "execution_count": 15,
   "metadata": {},
   "outputs": [
    {
     "name": "stdout",
     "output_type": "stream",
     "text": [
      "0:\tlearn: 6051.4103172\ttest: 6069.5802599\tbest: 6069.5802599 (0)\ttotal: 80.2ms\tremaining: 7.94s\n",
      "1:\tlearn: 5811.1217956\ttest: 5831.0038673\tbest: 5831.0038673 (1)\ttotal: 105ms\tremaining: 5.16s\n",
      "2:\tlearn: 5589.0546955\ttest: 5609.6450777\tbest: 5609.6450777 (2)\ttotal: 132ms\tremaining: 4.28s\n",
      "3:\tlearn: 5378.3155964\ttest: 5400.9154081\tbest: 5400.9154081 (3)\ttotal: 152ms\tremaining: 3.66s\n",
      "4:\tlearn: 5176.8035263\ttest: 5200.3402741\tbest: 5200.3402741 (4)\ttotal: 174ms\tremaining: 3.3s\n",
      "5:\tlearn: 4987.9454866\ttest: 5012.3913124\tbest: 5012.3913124 (5)\ttotal: 194ms\tremaining: 3.04s\n",
      "6:\tlearn: 4809.9297327\ttest: 4834.7215082\tbest: 4834.7215082 (6)\ttotal: 215ms\tremaining: 2.86s\n",
      "7:\tlearn: 4643.0798567\ttest: 4668.5346486\tbest: 4668.5346486 (7)\ttotal: 236ms\tremaining: 2.71s\n",
      "8:\tlearn: 4485.9455689\ttest: 4512.4448960\tbest: 4512.4448960 (8)\ttotal: 257ms\tremaining: 2.6s\n",
      "9:\tlearn: 4339.6109577\ttest: 4366.9943334\tbest: 4366.9943334 (9)\ttotal: 281ms\tremaining: 2.52s\n",
      "10:\tlearn: 4201.4095914\ttest: 4228.9488421\tbest: 4228.9488421 (10)\ttotal: 314ms\tremaining: 2.54s\n",
      "11:\tlearn: 4072.0746637\ttest: 4100.0016957\tbest: 4100.0016957 (11)\ttotal: 348ms\tremaining: 2.55s\n",
      "12:\tlearn: 3948.6813781\ttest: 3976.4028204\tbest: 3976.4028204 (12)\ttotal: 376ms\tremaining: 2.52s\n",
      "13:\tlearn: 3833.5257390\ttest: 3861.4048348\tbest: 3861.4048348 (13)\ttotal: 403ms\tremaining: 2.47s\n",
      "14:\tlearn: 3723.7561219\ttest: 3751.5948010\tbest: 3751.5948010 (14)\ttotal: 432ms\tremaining: 2.44s\n",
      "15:\tlearn: 3618.3792188\ttest: 3646.0630900\tbest: 3646.0630900 (15)\ttotal: 461ms\tremaining: 2.42s\n",
      "16:\tlearn: 3521.7590501\ttest: 3549.4210150\tbest: 3549.4210150 (16)\ttotal: 491ms\tremaining: 2.4s\n",
      "17:\tlearn: 3430.5661041\ttest: 3458.8106048\tbest: 3458.8106048 (17)\ttotal: 514ms\tremaining: 2.34s\n",
      "18:\tlearn: 3343.2345853\ttest: 3371.4080741\tbest: 3371.4080741 (18)\ttotal: 541ms\tremaining: 2.31s\n",
      "19:\tlearn: 3263.3510074\ttest: 3291.3084109\tbest: 3291.3084109 (19)\ttotal: 566ms\tremaining: 2.26s\n",
      "20:\tlearn: 3188.2716365\ttest: 3216.2058037\tbest: 3216.2058037 (20)\ttotal: 586ms\tremaining: 2.2s\n",
      "21:\tlearn: 3119.0561316\ttest: 3147.3690039\tbest: 3147.3690039 (21)\ttotal: 607ms\tremaining: 2.15s\n",
      "22:\tlearn: 3054.7350294\ttest: 3083.5331033\tbest: 3083.5331033 (22)\ttotal: 627ms\tremaining: 2.1s\n",
      "23:\tlearn: 2994.1738820\ttest: 3023.6005161\tbest: 3023.6005161 (23)\ttotal: 646ms\tremaining: 2.05s\n",
      "24:\tlearn: 2939.5825318\ttest: 2969.1415398\tbest: 2969.1415398 (24)\ttotal: 674ms\tremaining: 2.02s\n",
      "25:\tlearn: 2888.4220558\ttest: 2918.4943647\tbest: 2918.4943647 (25)\ttotal: 698ms\tremaining: 1.99s\n",
      "26:\tlearn: 2838.7546476\ttest: 2868.8864703\tbest: 2868.8864703 (26)\ttotal: 725ms\tremaining: 1.96s\n",
      "27:\tlearn: 2793.4001586\ttest: 2823.8744853\tbest: 2823.8744853 (27)\ttotal: 768ms\tremaining: 1.98s\n",
      "28:\tlearn: 2751.8929976\ttest: 2782.8069118\tbest: 2782.8069118 (28)\ttotal: 799ms\tremaining: 1.96s\n",
      "29:\tlearn: 2712.3273552\ttest: 2743.4123833\tbest: 2743.4123833 (29)\ttotal: 825ms\tremaining: 1.93s\n",
      "30:\tlearn: 2672.3317021\ttest: 2703.1813844\tbest: 2703.1813844 (30)\ttotal: 847ms\tremaining: 1.89s\n",
      "31:\tlearn: 2633.4406874\ttest: 2664.1640329\tbest: 2664.1640329 (31)\ttotal: 867ms\tremaining: 1.84s\n",
      "32:\tlearn: 2596.9159671\ttest: 2627.4888742\tbest: 2627.4888742 (32)\ttotal: 892ms\tremaining: 1.81s\n",
      "33:\tlearn: 2563.7441445\ttest: 2594.1354264\tbest: 2594.1354264 (33)\ttotal: 913ms\tremaining: 1.77s\n",
      "34:\tlearn: 2532.9554952\ttest: 2563.1823792\tbest: 2563.1823792 (34)\ttotal: 937ms\tremaining: 1.74s\n",
      "35:\tlearn: 2503.9939687\ttest: 2534.0941003\tbest: 2534.0941003 (35)\ttotal: 957ms\tremaining: 1.7s\n",
      "36:\tlearn: 2478.1991946\ttest: 2508.0353489\tbest: 2508.0353489 (36)\ttotal: 978ms\tremaining: 1.66s\n",
      "37:\tlearn: 2453.4546077\ttest: 2483.4742977\tbest: 2483.4742977 (37)\ttotal: 999ms\tremaining: 1.63s\n",
      "38:\tlearn: 2429.8657391\ttest: 2459.8506558\tbest: 2459.8506558 (38)\ttotal: 1.02s\tremaining: 1.59s\n",
      "39:\tlearn: 2408.3399559\ttest: 2438.0711388\tbest: 2438.0711388 (39)\ttotal: 1.04s\tremaining: 1.56s\n",
      "40:\tlearn: 2388.4300765\ttest: 2418.1177445\tbest: 2418.1177445 (40)\ttotal: 1.06s\tremaining: 1.53s\n",
      "41:\tlearn: 2370.8709937\ttest: 2400.7706307\tbest: 2400.7706307 (41)\ttotal: 1.08s\tremaining: 1.5s\n",
      "42:\tlearn: 2353.0033952\ttest: 2383.0937272\tbest: 2383.0937272 (42)\ttotal: 1.1s\tremaining: 1.46s\n",
      "43:\tlearn: 2337.5353716\ttest: 2367.7691945\tbest: 2367.7691945 (43)\ttotal: 1.12s\tremaining: 1.43s\n",
      "44:\tlearn: 2323.4800355\ttest: 2354.1749172\tbest: 2354.1749172 (44)\ttotal: 1.14s\tremaining: 1.39s\n",
      "45:\tlearn: 2309.6976042\ttest: 2340.2496160\tbest: 2340.2496160 (45)\ttotal: 1.16s\tremaining: 1.36s\n",
      "46:\tlearn: 2295.1981279\ttest: 2325.6206012\tbest: 2325.6206012 (46)\ttotal: 1.17s\tremaining: 1.32s\n",
      "47:\tlearn: 2283.3491648\ttest: 2313.8599868\tbest: 2313.8599868 (47)\ttotal: 1.19s\tremaining: 1.29s\n",
      "48:\tlearn: 2270.3793567\ttest: 2300.9420774\tbest: 2300.9420774 (48)\ttotal: 1.21s\tremaining: 1.26s\n",
      "49:\tlearn: 2257.6613226\ttest: 2288.2478426\tbest: 2288.2478426 (49)\ttotal: 1.23s\tremaining: 1.23s\n",
      "50:\tlearn: 2244.4532483\ttest: 2275.3027164\tbest: 2275.3027164 (50)\ttotal: 1.25s\tremaining: 1.2s\n",
      "51:\tlearn: 2232.4168512\ttest: 2263.2765606\tbest: 2263.2765606 (51)\ttotal: 1.26s\tremaining: 1.17s\n",
      "52:\tlearn: 2221.3614205\ttest: 2252.4316958\tbest: 2252.4316958 (52)\ttotal: 1.28s\tremaining: 1.14s\n",
      "53:\tlearn: 2211.5345501\ttest: 2242.6964184\tbest: 2242.6964184 (53)\ttotal: 1.3s\tremaining: 1.1s\n",
      "54:\tlearn: 2202.4206448\ttest: 2233.9471440\tbest: 2233.9471440 (54)\ttotal: 1.31s\tremaining: 1.07s\n",
      "55:\tlearn: 2193.9325047\ttest: 2225.4384740\tbest: 2225.4384740 (55)\ttotal: 1.33s\tremaining: 1.04s\n",
      "56:\tlearn: 2185.8215612\ttest: 2217.3859234\tbest: 2217.3859234 (56)\ttotal: 1.34s\tremaining: 1.01s\n",
      "57:\tlearn: 2177.1449677\ttest: 2208.6488895\tbest: 2208.6488895 (57)\ttotal: 1.36s\tremaining: 984ms\n",
      "58:\tlearn: 2169.9916163\ttest: 2201.5686754\tbest: 2201.5686754 (58)\ttotal: 1.38s\tremaining: 959ms\n",
      "59:\tlearn: 2160.9725614\ttest: 2192.6766074\tbest: 2192.6766074 (59)\ttotal: 1.4s\tremaining: 933ms\n",
      "60:\tlearn: 2152.6199346\ttest: 2184.4580034\tbest: 2184.4580034 (60)\ttotal: 1.42s\tremaining: 909ms\n",
      "61:\tlearn: 2144.9935293\ttest: 2176.9744097\tbest: 2176.9744097 (61)\ttotal: 1.44s\tremaining: 885ms\n",
      "62:\tlearn: 2137.2351200\ttest: 2168.9313435\tbest: 2168.9313435 (62)\ttotal: 1.47s\tremaining: 864ms\n",
      "63:\tlearn: 2130.6284663\ttest: 2162.6869870\tbest: 2162.6869870 (63)\ttotal: 1.49s\tremaining: 839ms\n",
      "64:\tlearn: 2124.2531989\ttest: 2156.3687658\tbest: 2156.3687658 (64)\ttotal: 1.51s\tremaining: 813ms\n",
      "65:\tlearn: 2118.3043042\ttest: 2150.4211358\tbest: 2150.4211358 (65)\ttotal: 1.53s\tremaining: 788ms\n",
      "66:\tlearn: 2112.7527818\ttest: 2144.8433556\tbest: 2144.8433556 (66)\ttotal: 1.55s\tremaining: 764ms\n",
      "67:\tlearn: 2108.0449314\ttest: 2140.0415499\tbest: 2140.0415499 (67)\ttotal: 1.57s\tremaining: 739ms\n",
      "68:\tlearn: 2102.3183569\ttest: 2134.3242183\tbest: 2134.3242183 (68)\ttotal: 1.59s\tremaining: 717ms\n",
      "69:\tlearn: 2097.4950504\ttest: 2129.4871938\tbest: 2129.4871938 (69)\ttotal: 1.62s\tremaining: 695ms\n",
      "70:\tlearn: 2093.0398463\ttest: 2125.1779744\tbest: 2125.1779744 (70)\ttotal: 1.65s\tremaining: 673ms\n",
      "71:\tlearn: 2088.7879971\ttest: 2120.9181689\tbest: 2120.9181689 (71)\ttotal: 1.68s\tremaining: 652ms\n",
      "72:\tlearn: 2084.6998102\ttest: 2116.6614729\tbest: 2116.6614729 (72)\ttotal: 1.7s\tremaining: 630ms\n",
      "73:\tlearn: 2080.4985100\ttest: 2112.6761152\tbest: 2112.6761152 (73)\ttotal: 1.73s\tremaining: 607ms\n",
      "74:\tlearn: 2077.2692517\ttest: 2109.8847761\tbest: 2109.8847761 (74)\ttotal: 1.75s\tremaining: 585ms\n",
      "75:\tlearn: 2074.0715895\ttest: 2106.8322363\tbest: 2106.8322363 (75)\ttotal: 1.77s\tremaining: 560ms\n",
      "76:\tlearn: 2070.1819357\ttest: 2103.1444030\tbest: 2103.1444030 (76)\ttotal: 1.79s\tremaining: 535ms\n",
      "77:\tlearn: 2066.6904810\ttest: 2099.5338754\tbest: 2099.5338754 (77)\ttotal: 1.81s\tremaining: 510ms\n",
      "78:\tlearn: 2063.6024648\ttest: 2096.4290352\tbest: 2096.4290352 (78)\ttotal: 1.83s\tremaining: 487ms\n",
      "79:\tlearn: 2060.1301197\ttest: 2092.9956461\tbest: 2092.9956461 (79)\ttotal: 1.85s\tremaining: 463ms\n",
      "80:\tlearn: 2057.4275153\ttest: 2090.3078944\tbest: 2090.3078944 (80)\ttotal: 1.88s\tremaining: 441ms\n",
      "81:\tlearn: 2054.3730893\ttest: 2087.1725605\tbest: 2087.1725605 (81)\ttotal: 1.9s\tremaining: 417ms\n",
      "82:\tlearn: 2051.2307666\ttest: 2084.0519197\tbest: 2084.0519197 (82)\ttotal: 1.91s\tremaining: 392ms\n",
      "83:\tlearn: 2048.5975966\ttest: 2081.7621431\tbest: 2081.7621431 (83)\ttotal: 1.93s\tremaining: 368ms\n",
      "84:\tlearn: 2046.2221144\ttest: 2079.2972766\tbest: 2079.2972766 (84)\ttotal: 1.95s\tremaining: 343ms\n",
      "85:\tlearn: 2043.9577379\ttest: 2076.9953914\tbest: 2076.9953914 (85)\ttotal: 1.96s\tremaining: 319ms\n",
      "86:\tlearn: 2040.2980693\ttest: 2073.3671143\tbest: 2073.3671143 (86)\ttotal: 1.98s\tremaining: 295ms\n",
      "87:\tlearn: 2037.5439686\ttest: 2070.6555693\tbest: 2070.6555693 (87)\ttotal: 1.99s\tremaining: 271ms\n",
      "88:\tlearn: 2035.7731304\ttest: 2069.0452627\tbest: 2069.0452627 (88)\ttotal: 2.01s\tremaining: 248ms\n",
      "89:\tlearn: 2033.7096280\ttest: 2067.2125006\tbest: 2067.2125006 (89)\ttotal: 2.02s\tremaining: 225ms\n"
     ]
    },
    {
     "name": "stdout",
     "output_type": "stream",
     "text": [
      "90:\tlearn: 2031.7079128\ttest: 2065.1211583\tbest: 2065.1211583 (90)\ttotal: 2.04s\tremaining: 202ms\n",
      "91:\tlearn: 2029.7743759\ttest: 2063.1060646\tbest: 2063.1060646 (91)\ttotal: 2.06s\tremaining: 179ms\n",
      "92:\tlearn: 2027.8577913\ttest: 2061.0824824\tbest: 2061.0824824 (92)\ttotal: 2.08s\tremaining: 157ms\n",
      "93:\tlearn: 2025.8970243\ttest: 2059.5160444\tbest: 2059.5160444 (93)\ttotal: 2.1s\tremaining: 134ms\n",
      "94:\tlearn: 2024.5857467\ttest: 2058.2660897\tbest: 2058.2660897 (94)\ttotal: 2.12s\tremaining: 111ms\n",
      "95:\tlearn: 2022.7669289\ttest: 2056.4729228\tbest: 2056.4729228 (95)\ttotal: 2.13s\tremaining: 88.8ms\n",
      "96:\tlearn: 2021.0885074\ttest: 2054.7881255\tbest: 2054.7881255 (96)\ttotal: 2.15s\tremaining: 66.5ms\n",
      "97:\tlearn: 2019.3653647\ttest: 2053.1440069\tbest: 2053.1440069 (97)\ttotal: 2.16s\tremaining: 44.2ms\n",
      "98:\tlearn: 2017.1989037\ttest: 2051.0844777\tbest: 2051.0844777 (98)\ttotal: 2.18s\tremaining: 22.1ms\n",
      "99:\tlearn: 2015.1953958\ttest: 2049.0240336\tbest: 2049.0240336 (99)\ttotal: 2.2s\tremaining: 0us\n",
      "\n",
      "bestTest = 2049.024034\n",
      "bestIteration = 99\n",
      "\n",
      "0:\tloss: 2049.0240336\tbest: 2049.0240336 (0)\ttotal: 2.32s\tremaining: 1m 41s\n",
      "0:\tlearn: 5798.6377235\ttest: 5817.5824507\tbest: 5817.5824507 (0)\ttotal: 25.6ms\tremaining: 2.53s\n",
      "1:\tlearn: 5349.5781416\ttest: 5371.7254349\tbest: 5371.7254349 (1)\ttotal: 53.4ms\tremaining: 2.62s\n",
      "2:\tlearn: 4952.139205"
     ]
    },
    {
     "data": {
      "text/html": [
       "<b>limit_output extension: Maximum message size of 10000 exceeded with 10547 characters</b>"
      ]
     },
     "metadata": {},
     "output_type": "display_data"
    }
   ],
   "source": [
    "grid_search_result = catboost.grid_search(param_grid, X=X_train, y=y_train) #, plot=True) #cv=3)"
   ]
  },
  {
   "cell_type": "code",
   "execution_count": 16,
   "metadata": {},
   "outputs": [
    {
     "data": {
      "text/plain": [
       "{'depth': 10, 'l2_leaf_reg': 1, 'iterations': 100, 'learning_rate': 0.15}"
      ]
     },
     "execution_count": 16,
     "metadata": {},
     "output_type": "execute_result"
    }
   ],
   "source": [
    "grid_search_result['params']"
   ]
  },
  {
   "cell_type": "markdown",
   "metadata": {},
   "source": [
    "#### CatBoost With Best Hyper-Parameters"
   ]
  },
  {
   "cell_type": "code",
   "execution_count": 17,
   "metadata": {},
   "outputs": [],
   "source": [
    "catboost_best = CatBoostRegressor(iterations=100, \n",
    "                                  learning_rate=0.15, \n",
    "                                  depth=10,\n",
    "                                  l2_leaf_reg= 1,\n",
    "                                  random_seed=123, \n",
    "                                  cat_features=categorical)"
   ]
  },
  {
   "cell_type": "code",
   "execution_count": 18,
   "metadata": {},
   "outputs": [
    {
     "name": "stdout",
     "output_type": "stream",
     "text": [
      "0:\tlearn: 4051.3871512\ttotal: 39.5ms\tremaining: 3.91s\n",
      "99:\tlearn: 1684.1539358\ttotal: 3.64s\tremaining: 0us\n",
      "CPU times: user 20.1 s, sys: 1.32 s, total: 21.4 s\n",
      "Wall time: 4.06 s\n"
     ]
    },
    {
     "data": {
      "text/plain": [
       "<catboost.core.CatBoostRegressor at 0x7feb695e21f0>"
      ]
     },
     "execution_count": 18,
     "metadata": {},
     "output_type": "execute_result"
    }
   ],
   "source": [
    "%%time\n",
    "catboost_best.fit(X_train, y_train, cat_features=categorical, verbose=100)"
   ]
  },
  {
   "cell_type": "code",
   "execution_count": 19,
   "metadata": {},
   "outputs": [
    {
     "name": "stdout",
     "output_type": "stream",
     "text": [
      "CPU times: user 165 ms, sys: 5.61 ms, total: 170 ms\n",
      "Wall time: 104 ms\n"
     ]
    }
   ],
   "source": [
    "%%time\n",
    "catboost_predictions_valid = catboost_best.predict(X_valid)"
   ]
  },
  {
   "cell_type": "code",
   "execution_count": 20,
   "metadata": {},
   "outputs": [
    {
     "name": "stdout",
     "output_type": "stream",
     "text": [
      "RMSE on validation set: 1811.47\n"
     ]
    }
   ],
   "source": [
    "rmse_cat_valid = mean_squared_error(y_valid, catboost_predictions_valid)**0.5\n",
    "print(\"RMSE on validation set: %.2f\" % rmse_cat_valid)"
   ]
  },
  {
   "cell_type": "code",
   "execution_count": 21,
   "metadata": {},
   "outputs": [
    {
     "name": "stdout",
     "output_type": "stream",
     "text": [
      "RMSE on validation set: 1790.44\n"
     ]
    }
   ],
   "source": [
    "rmse_cat_test = mean_squared_error(y_test, catboost_best.predict(X_test))**0.5\n",
    "print(\"RMSE on validation set: %.2f\" % rmse_cat_test)"
   ]
  },
  {
   "cell_type": "markdown",
   "metadata": {},
   "source": [
    "### LightGMB: LGBMRegressor"
   ]
  },
  {
   "cell_type": "markdown",
   "metadata": {},
   "source": [
    "Another model that we will try is LGBMRegressor. Similar to CatBoost this model can handle categorical values without having to encode them, but we do need to change the type of categorical values from \"object\" to \"category\". Let's prepare features for LGBMRegressor. "
   ]
  },
  {
   "cell_type": "code",
   "execution_count": 22,
   "metadata": {},
   "outputs": [
    {
     "data": {
      "text/plain": [
       "['VehicleType', 'Gearbox', 'Model', 'FuelType', 'Brand', 'NotRepaired']"
      ]
     },
     "execution_count": 22,
     "metadata": {},
     "output_type": "execute_result"
    }
   ],
   "source": [
    "categorical"
   ]
  },
  {
   "cell_type": "code",
   "execution_count": 23,
   "metadata": {},
   "outputs": [],
   "source": [
    "for feature in categorical:\n",
    "    X_train[feature] = pd.Series(X_train[feature], dtype=\"category\")\n",
    "    X_valid[feature] = pd.Series(X_valid[feature], dtype=\"category\")\n",
    "    X_test[feature] = pd.Series(X_test[feature], dtype=\"category\")"
   ]
  },
  {
   "cell_type": "markdown",
   "metadata": {},
   "source": [
    "#### Finding Best Hyper-Parameters With Grid Search"
   ]
  },
  {
   "cell_type": "code",
   "execution_count": 24,
   "metadata": {},
   "outputs": [],
   "source": [
    "lgbm_model = LGBMRegressor()"
   ]
  },
  {
   "cell_type": "code",
   "execution_count": 25,
   "metadata": {},
   "outputs": [],
   "source": [
    "param_grid = {\n",
    "    'learning_rate': [0.05, 0.1, 0.15],\n",
    "    'n_estimators': [100, 200, 300, 400], #Number of boosted trees to fit.\n",
    "    'max_depth': [5, 10, 15, 20, 25] #Maximum tree depth for base learners, <=0 means no limit.\n",
    "}"
   ]
  },
  {
   "cell_type": "code",
   "execution_count": 26,
   "metadata": {},
   "outputs": [],
   "source": [
    "grid_search_lgbm = GridSearchCV(estimator=lgbm_model,\n",
    "                                param_grid=param_grid,\n",
    "                                cv=4,\n",
    "                                scoring='neg_root_mean_squared_error')"
   ]
  },
  {
   "cell_type": "code",
   "execution_count": 27,
   "metadata": {},
   "outputs": [
    {
     "data": {
      "text/plain": [
       "GridSearchCV(cv=4, estimator=LGBMRegressor(),\n",
       "             param_grid={'learning_rate': [0.05, 0.1, 0.15],\n",
       "                         'max_depth': [5, 10, 15, 20, 25],\n",
       "                         'n_estimators': [100, 200, 300, 400]},\n",
       "             scoring='neg_root_mean_squared_error')"
      ]
     },
     "execution_count": 27,
     "metadata": {},
     "output_type": "execute_result"
    }
   ],
   "source": [
    "grid_search_lgbm.fit(X_train, y_train, categorical_feature=categorical)"
   ]
  },
  {
   "cell_type": "code",
   "execution_count": 28,
   "metadata": {},
   "outputs": [
    {
     "data": {
      "text/plain": [
       "{'learning_rate': 0.15, 'max_depth': 15, 'n_estimators': 400}"
      ]
     },
     "execution_count": 28,
     "metadata": {},
     "output_type": "execute_result"
    }
   ],
   "source": [
    "grid_search_lgbm.best_params_"
   ]
  },
  {
   "cell_type": "markdown",
   "metadata": {},
   "source": [
    "#### LGBMRegressor With Best Hyper-Parameters"
   ]
  },
  {
   "cell_type": "code",
   "execution_count": 29,
   "metadata": {},
   "outputs": [],
   "source": [
    "lgbm_best = LGBMRegressor(learning_rate=0.15, max_depth=15, n_estimators=400)"
   ]
  },
  {
   "cell_type": "code",
   "execution_count": 30,
   "metadata": {},
   "outputs": [
    {
     "name": "stdout",
     "output_type": "stream",
     "text": [
      "CPU times: user 10.3 s, sys: 342 ms, total: 10.7 s\n",
      "Wall time: 1.64 s\n"
     ]
    },
    {
     "data": {
      "text/plain": [
       "LGBMRegressor(learning_rate=0.15, max_depth=15, n_estimators=400)"
      ]
     },
     "execution_count": 30,
     "metadata": {},
     "output_type": "execute_result"
    }
   ],
   "source": [
    "%%time\n",
    "lgbm_best.fit(X_train, y_train, categorical_feature=categorical) "
   ]
  },
  {
   "cell_type": "code",
   "execution_count": 31,
   "metadata": {},
   "outputs": [
    {
     "name": "stdout",
     "output_type": "stream",
     "text": [
      "CPU times: user 2.13 s, sys: 42 ms, total: 2.17 s\n",
      "Wall time: 371 ms\n"
     ]
    }
   ],
   "source": [
    "%%time\n",
    "lgbm_predictions_valid = lgbm_best.predict(X_valid)"
   ]
  },
  {
   "cell_type": "code",
   "execution_count": 32,
   "metadata": {},
   "outputs": [
    {
     "name": "stdout",
     "output_type": "stream",
     "text": [
      "RMSE on validation set: 1739.70\n"
     ]
    }
   ],
   "source": [
    "rmse_lgbm_valid = mean_squared_error(y_valid, lgbm_predictions_valid)**0.5\n",
    "print(\"RMSE on validation set: %.2f\" % rmse_lgbm_valid)"
   ]
  },
  {
   "cell_type": "code",
   "execution_count": 33,
   "metadata": {},
   "outputs": [
    {
     "name": "stdout",
     "output_type": "stream",
     "text": [
      "RMSE on validation set: 1716.87\n"
     ]
    }
   ],
   "source": [
    "rmse_lgbm_test = mean_squared_error(y_test, lgbm_best.predict(X_test))**0.5\n",
    "print(\"RMSE on validation set: %.2f\" % rmse_lgbm_test)"
   ]
  },
  {
   "cell_type": "markdown",
   "metadata": {},
   "source": []
  },
  {
   "cell_type": "markdown",
   "metadata": {},
   "source": [
    "### XGBoost"
   ]
  },
  {
   "cell_type": "markdown",
   "metadata": {},
   "source": [
    "XGBBoost requires categorical values to be encoded. "
   ]
  },
  {
   "cell_type": "code",
   "execution_count": 34,
   "metadata": {},
   "outputs": [
    {
     "data": {
      "text/plain": [
       "['VehicleType', 'Gearbox', 'Model', 'FuelType', 'Brand', 'NotRepaired']"
      ]
     },
     "execution_count": 34,
     "metadata": {},
     "output_type": "execute_result"
    }
   ],
   "source": [
    "categorical"
   ]
  },
  {
   "cell_type": "code",
   "execution_count": 35,
   "metadata": {},
   "outputs": [],
   "source": [
    "label_encoder = LabelEncoder()\n",
    "\n",
    "for col in categorical:\n",
    "    X_train[col] = label_encoder.fit_transform(X_train[col])\n",
    "    X_test[col] = label_encoder.fit_transform(X_test[col])\n",
    "    X_valid[col] = label_encoder.fit_transform(X_valid[col])"
   ]
  },
  {
   "cell_type": "code",
   "execution_count": 36,
   "metadata": {},
   "outputs": [],
   "source": [
    "dtrain = xgb.DMatrix(data=X_train, label=y_train)\n",
    "dvalid= xgb.DMatrix(data=X_valid, label=y_valid)\n",
    "dtest=xgb.DMatrix(data=X_test, label=y_test)"
   ]
  },
  {
   "cell_type": "code",
   "execution_count": 37,
   "metadata": {},
   "outputs": [],
   "source": [
    "params = {'objective':'reg:linear', 'colsample_bytree': 0.3, 'learning_rate': 0.1,\n",
    "                'max_depth': 5, 'alpha': 10, 'n_estimators': 10, 'random_state':123}"
   ]
  },
  {
   "cell_type": "code",
   "execution_count": 38,
   "metadata": {},
   "outputs": [
    {
     "name": "stdout",
     "output_type": "stream",
     "text": [
      "[21:18:34] WARNING: /Users/travis/build/dmlc/xgboost/src/objective/regression_obj.cu:171: reg:linear is now deprecated in favor of reg:squarederror.\n",
      "[21:18:34] WARNING: /Users/travis/build/dmlc/xgboost/src/learner.cc:573: \n",
      "Parameters: { \"n_estimators\" } might not be used.\n",
      "\n",
      "  This may not be accurate due to some parameters are only used in language bindings but\n",
      "  passed down to XGBoost core.  Or some parameters are not used but slip through this\n",
      "  verification. Please open an issue if you find above cases.\n",
      "\n",
      "\n",
      "CPU times: user 1.88 s, sys: 97.3 ms, total: 1.98 s\n",
      "Wall time: 308 ms\n"
     ]
    }
   ],
   "source": [
    "%%time\n",
    "bst = xgb.train(params, dtrain)"
   ]
  },
  {
   "cell_type": "code",
   "execution_count": 39,
   "metadata": {},
   "outputs": [
    {
     "name": "stdout",
     "output_type": "stream",
     "text": [
      "CPU times: user 27.3 ms, sys: 2.21 ms, total: 29.5 ms\n",
      "Wall time: 4.52 ms\n"
     ]
    }
   ],
   "source": [
    "%%time\n",
    "xgb_predictions_valid = bst.predict(dvalid)"
   ]
  },
  {
   "cell_type": "code",
   "execution_count": 40,
   "metadata": {},
   "outputs": [
    {
     "name": "stdout",
     "output_type": "stream",
     "text": [
      "RMSE validation set: 3834.46\n"
     ]
    }
   ],
   "source": [
    "rmse_xgb_valid = mean_squared_error(y_valid, xgb_predictions_valid)**0.5\n",
    "print(\"RMSE validation set: %.2f\" % rmse_xgb_valid)"
   ]
  },
  {
   "cell_type": "code",
   "execution_count": 41,
   "metadata": {},
   "outputs": [
    {
     "name": "stdout",
     "output_type": "stream",
     "text": [
      "RMSE test set: 3833.00\n"
     ]
    }
   ],
   "source": [
    "rmse_xgb_test = round(mean_squared_error(y_test, bst.predict(dtest))**0.5, 0)\n",
    "print(\"RMSE test set: %.2f\" % rmse_xgb_test)"
   ]
  },
  {
   "cell_type": "markdown",
   "metadata": {},
   "source": [
    "## Dummy model"
   ]
  },
  {
   "cell_type": "code",
   "execution_count": 42,
   "metadata": {},
   "outputs": [
    {
     "name": "stdout",
     "output_type": "stream",
     "text": [
      "RMSE dummy model: 4519.468512614231\n"
     ]
    }
   ],
   "source": [
    "mean = y_train.mean()\n",
    "length = X_test.shape[0]\n",
    "dummy_predictions = np.full((length,1), mean)\n",
    "dummy_rmse = mean_squared_error(dummy_predictions, y_test)**0.5\n",
    "print('RMSE dummy model:',dummy_rmse)"
   ]
  },
  {
   "cell_type": "markdown",
   "metadata": {},
   "source": [
    "# Models Comparison"
   ]
  },
  {
   "cell_type": "markdown",
   "metadata": {},
   "source": [
    "Among the three models that we have tried the best accuracy was achieved with the Random Forest Classifier model with the number of trees in the forest set to 25."
   ]
  },
  {
   "cell_type": "code",
   "execution_count": 43,
   "metadata": {},
   "outputs": [
    {
     "data": {
      "text/html": [
       "<div>\n",
       "<style scoped>\n",
       "    .dataframe tbody tr th:only-of-type {\n",
       "        vertical-align: middle;\n",
       "    }\n",
       "\n",
       "    .dataframe tbody tr th {\n",
       "        vertical-align: top;\n",
       "    }\n",
       "\n",
       "    .dataframe thead th {\n",
       "        text-align: right;\n",
       "    }\n",
       "</style>\n",
       "<table border=\"1\" class=\"dataframe\">\n",
       "  <thead>\n",
       "    <tr style=\"text-align: right;\">\n",
       "      <th></th>\n",
       "      <th>RSME_valid</th>\n",
       "      <th>RSME_test</th>\n",
       "      <th>Training time</th>\n",
       "      <th>Prediction time</th>\n",
       "    </tr>\n",
       "  </thead>\n",
       "  <tbody>\n",
       "    <tr>\n",
       "      <th>CatBoostRegressor</th>\n",
       "      <td>1811.468574</td>\n",
       "      <td>1790.444140</td>\n",
       "      <td>3-4 s</td>\n",
       "      <td>110-140 ms</td>\n",
       "    </tr>\n",
       "    <tr>\n",
       "      <th>LGBMRegressor</th>\n",
       "      <td>1739.699177</td>\n",
       "      <td>1716.868107</td>\n",
       "      <td>1-1.1 s</td>\n",
       "      <td>290-300 ms</td>\n",
       "    </tr>\n",
       "    <tr>\n",
       "      <th>XGb</th>\n",
       "      <td>3834.456752</td>\n",
       "      <td>3833.000000</td>\n",
       "      <td>290-330 ms</td>\n",
       "      <td>5-9 ms</td>\n",
       "    </tr>\n",
       "    <tr>\n",
       "      <th>Dummy Model</th>\n",
       "      <td>4519.468513</td>\n",
       "      <td>4519.468513</td>\n",
       "      <td>--</td>\n",
       "      <td>--</td>\n",
       "    </tr>\n",
       "  </tbody>\n",
       "</table>\n",
       "</div>"
      ],
      "text/plain": [
       "                    RSME_valid    RSME_test Training time Prediction time\n",
       "CatBoostRegressor  1811.468574  1790.444140         3-4 s      110-140 ms\n",
       "LGBMRegressor      1739.699177  1716.868107       1-1.1 s      290-300 ms\n",
       "XGb                3834.456752  3833.000000    290-330 ms          5-9 ms\n",
       "Dummy Model        4519.468513  4519.468513            --              --"
      ]
     },
     "metadata": {},
     "output_type": "display_data"
    }
   ],
   "source": [
    "d = {'RSME_valid': [rmse_cat_valid, rmse_lgbm_valid, rmse_xgb_valid, dummy_rmse],\n",
    "     'RSME_test': [rmse_cat_test, rmse_lgbm_test, rmse_xgb_test, dummy_rmse],\n",
    "     'Training time': ['3-4 s', '1-1.1 s', '290-330 ms', '--'],\n",
    "     'Prediction time': ['110-140 ms', '290-300 ms', '5-9 ms', '--']} \n",
    "     \n",
    "final = pd.DataFrame(data=d, index = ['CatBoostRegressor', 'LGBMRegressor', 'XGb',  'Dummy Model'])\n",
    "display(final)"
   ]
  },
  {
   "cell_type": "markdown",
   "metadata": {},
   "source": [
    "Among all three models LGBMRegressor demonstrates best accuracy and second least run time for training and prediction. XGB model is seen to be least accurate: it does a bit better than a dummy model, which just predicts the mean value. Plus XGB model's run time is the highest among all."
   ]
  },
  {
   "cell_type": "markdown",
   "metadata": {},
   "source": [
    "# Conclusion"
   ]
  },
  {
   "cell_type": "markdown",
   "metadata": {},
   "source": [
    " 1. We looked into the given data and found some missing values. All missing values were categorical. We chose to deal with missing categorical values by creating a new category 'Nan'.<br>\n",
    " 2. We compared three models and chose the best model - LGBMRegressor, whose RMSE metric is the lowest, meaning the best. Also, it demonstrates good run time in terms of speed of prediction.<br>\n",
    "The CatBoostRegressor is the runner up. It also demonstrated very good RMSE metric and acceptable time."
   ]
  }
 ],
 "metadata": {
  "kernelspec": {
   "display_name": "Python 3",
   "language": "python",
   "name": "python3"
  },
  "language_info": {
   "codemirror_mode": {
    "name": "ipython",
    "version": 3
   },
   "file_extension": ".py",
   "mimetype": "text/x-python",
   "name": "python",
   "nbconvert_exporter": "python",
   "pygments_lexer": "ipython3",
   "version": "3.9.5"
  },
  "latex_envs": {
   "LaTeX_envs_menu_present": true,
   "autoclose": false,
   "autocomplete": true,
   "bibliofile": "biblio.bib",
   "cite_by": "apalike",
   "current_citInitial": 1,
   "eqLabelWithNumbers": true,
   "eqNumInitial": 1,
   "hotkeys": {
    "equation": "Ctrl-E",
    "itemize": "Ctrl-I"
   },
   "labels_anchors": false,
   "latex_user_defs": false,
   "report_style_numbering": false,
   "user_envs_cfg": false
  },
  "toc": {
   "base_numbering": 1,
   "nav_menu": {},
   "number_sections": false,
   "sideBar": true,
   "skip_h1_title": false,
   "title_cell": "Table of Contents",
   "title_sidebar": "Contents",
   "toc_cell": true,
   "toc_position": {
    "height": "calc(100% - 180px)",
    "left": "10px",
    "top": "150px",
    "width": "384px"
   },
   "toc_section_display": true,
   "toc_window_display": true
  }
 },
 "nbformat": 4,
 "nbformat_minor": 4
}
