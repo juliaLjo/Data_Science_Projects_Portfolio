{
 "cells": [
  {
   "cell_type": "markdown",
   "metadata": {
    "toc": true
   },
   "source": [
    "<h1>Table of Contents<span class=\"tocSkip\"></span></h1>\n",
    "<div class=\"toc\"><ul class=\"toc-item\"><li><span><a href=\"#Project-description\" data-toc-modified-id=\"Project-description-1\">Project description</a></span></li><li><span><a href=\"#Getting-to-know-data\" data-toc-modified-id=\"Getting-to-know-data-2\">Getting to know data</a></span><ul class=\"toc-item\"><li><ul class=\"toc-item\"><li><ul class=\"toc-item\"><li><span><a href=\"#Missing-values\" data-toc-modified-id=\"Missing-values-2.0.0.1\">Missing values</a></span></li><li><span><a href=\"#Duplicates-detection\" data-toc-modified-id=\"Duplicates-detection-2.0.0.2\">Duplicates detection</a></span></li></ul></li></ul></li></ul></li><li><span><a href=\"#Linear-Regression-Model\" data-toc-modified-id=\"Linear-Regression-Model-3\">Linear Regression Model</a></span><ul class=\"toc-item\"><li><ul class=\"toc-item\"><li><span><a href=\"#Scaling-data\" data-toc-modified-id=\"Scaling-data-3.0.1\">Scaling data</a></span></li><li><span><a href=\"#Making-train-and-test-dataset-splits\" data-toc-modified-id=\"Making-train-and-test-dataset-splits-3.0.2\">Making train and test dataset splits</a></span></li><li><span><a href=\"#Making-predictions\" data-toc-modified-id=\"Making-predictions-3.0.3\">Making predictions</a></span></li></ul></li></ul></li><li><span><a href=\"#Profit-calculation\" data-toc-modified-id=\"Profit-calculation-4\">Profit calculation</a></span></li><li><span><a href=\"#Conclusion\" data-toc-modified-id=\"Conclusion-5\">Conclusion</a></span></li></ul></div>"
   ]
  },
  {
   "cell_type": "markdown",
   "metadata": {},
   "source": [
    "# Project description"
   ]
  },
  {
   "cell_type": "markdown",
   "metadata": {},
   "source": [
    "OilyGiant mining company has a budget of 100 USD million to develop 200 new wells. There are three datasets reserves levels and some oil quality parameters.<br>\n",
    "\n",
    "<b>The task</b> is to pick the best region out of three for well development.<br>\n",
    "We need to build a model that will help to pick the region with the highest profit margin. We need to analyze potential profit and risks using the Bootstrap technique.<br>\n",
    "\n",
    "<b>Conditions:</b><br>\n",
    "Only linear regression is suitable for model training (the rest are not sufficiently predictable).<br>\n",
    "When exploring the region, a study of 500 points is carried with picking the best 200 points for the profit calculation.<br>\n",
    "\n",
    "<b>Data description</b>\n",
    "We are given geological exploration data for the three regions. Each region's data has the following info:<br>\n",
    "\n",
    "<b>Features:</b><br>\n",
    "<i>id</i> — unique oil well identifier<br>\n",
    "<i>f0, f1, f2</i> — three features of points (oil quality)<br>\n",
    "<i>product</i> — volume of reserves in the oil well (thousand barrels)<br>\n",
    "\n",
    "<b>Conditions:</b><br>\n",
    "- Only linear regression is suitable for model training (the rest are not sufficiently predictable).<br>\n",
    "- When exploring the region, a study of 500 points is carried with picking the best 200 points for the profit calculation.<br>\n",
    "- The budget for oil well development is 100 USD million.<br>"
   ]
  },
  {
   "cell_type": "markdown",
   "metadata": {},
   "source": [
    "# Getting to know data"
   ]
  },
  {
   "cell_type": "code",
   "execution_count": 1,
   "metadata": {},
   "outputs": [],
   "source": [
    "import sys\n",
    "import pandas as pd\n",
    "import numpy as np\n",
    "import scipy.stats as st\n",
    "from sklearn.model_selection import train_test_split\n",
    "from sklearn.linear_model import LinearRegression\n",
    "import sklearn.metrics as metrics\n",
    "import matplotlib.pyplot as plt\n",
    "from sklearn.preprocessing import StandardScaler"
   ]
  },
  {
   "cell_type": "code",
   "execution_count": 2,
   "metadata": {},
   "outputs": [],
   "source": [
    "geo0 = pd.read_csv('geo_data_0.csv')\n",
    "geo1 = pd.read_csv('geo_data_1.csv')\n",
    "geo2 = pd.read_csv('geo_data_2.csv')"
   ]
  },
  {
   "cell_type": "code",
   "execution_count": 3,
   "metadata": {},
   "outputs": [
    {
     "name": "stdout",
     "output_type": "stream",
     "text": [
      "<class 'pandas.core.frame.DataFrame'>\n",
      "RangeIndex: 100000 entries, 0 to 99999\n",
      "Data columns (total 5 columns):\n",
      " #   Column   Non-Null Count   Dtype  \n",
      "---  ------   --------------   -----  \n",
      " 0   id       100000 non-null  object \n",
      " 1   f0       100000 non-null  float64\n",
      " 2   f1       100000 non-null  float64\n",
      " 3   f2       100000 non-null  float64\n",
      " 4   product  100000 non-null  float64\n",
      "dtypes: float64(4), object(1)\n",
      "memory usage: 3.8+ MB\n"
     ]
    }
   ],
   "source": [
    "geo0.info()"
   ]
  },
  {
   "cell_type": "code",
   "execution_count": 4,
   "metadata": {},
   "outputs": [
    {
     "data": {
      "text/html": [
       "<div>\n",
       "<style scoped>\n",
       "    .dataframe tbody tr th:only-of-type {\n",
       "        vertical-align: middle;\n",
       "    }\n",
       "\n",
       "    .dataframe tbody tr th {\n",
       "        vertical-align: top;\n",
       "    }\n",
       "\n",
       "    .dataframe thead th {\n",
       "        text-align: right;\n",
       "    }\n",
       "</style>\n",
       "<table border=\"1\" class=\"dataframe\">\n",
       "  <thead>\n",
       "    <tr style=\"text-align: right;\">\n",
       "      <th></th>\n",
       "      <th>id</th>\n",
       "      <th>f0</th>\n",
       "      <th>f1</th>\n",
       "      <th>f2</th>\n",
       "      <th>product</th>\n",
       "    </tr>\n",
       "  </thead>\n",
       "  <tbody>\n",
       "    <tr>\n",
       "      <th>0</th>\n",
       "      <td>txEyH</td>\n",
       "      <td>0.705745</td>\n",
       "      <td>-0.497823</td>\n",
       "      <td>1.221170</td>\n",
       "      <td>105.280062</td>\n",
       "    </tr>\n",
       "    <tr>\n",
       "      <th>1</th>\n",
       "      <td>2acmU</td>\n",
       "      <td>1.334711</td>\n",
       "      <td>-0.340164</td>\n",
       "      <td>4.365080</td>\n",
       "      <td>73.037750</td>\n",
       "    </tr>\n",
       "    <tr>\n",
       "      <th>2</th>\n",
       "      <td>409Wp</td>\n",
       "      <td>1.022732</td>\n",
       "      <td>0.151990</td>\n",
       "      <td>1.419926</td>\n",
       "      <td>85.265647</td>\n",
       "    </tr>\n",
       "    <tr>\n",
       "      <th>3</th>\n",
       "      <td>iJLyR</td>\n",
       "      <td>-0.032172</td>\n",
       "      <td>0.139033</td>\n",
       "      <td>2.978566</td>\n",
       "      <td>168.620776</td>\n",
       "    </tr>\n",
       "    <tr>\n",
       "      <th>4</th>\n",
       "      <td>Xdl7t</td>\n",
       "      <td>1.988431</td>\n",
       "      <td>0.155413</td>\n",
       "      <td>4.751769</td>\n",
       "      <td>154.036647</td>\n",
       "    </tr>\n",
       "  </tbody>\n",
       "</table>\n",
       "</div>"
      ],
      "text/plain": [
       "      id        f0        f1        f2     product\n",
       "0  txEyH  0.705745 -0.497823  1.221170  105.280062\n",
       "1  2acmU  1.334711 -0.340164  4.365080   73.037750\n",
       "2  409Wp  1.022732  0.151990  1.419926   85.265647\n",
       "3  iJLyR -0.032172  0.139033  2.978566  168.620776\n",
       "4  Xdl7t  1.988431  0.155413  4.751769  154.036647"
      ]
     },
     "execution_count": 4,
     "metadata": {},
     "output_type": "execute_result"
    }
   ],
   "source": [
    "geo0.head(5)"
   ]
  },
  {
   "cell_type": "markdown",
   "metadata": {},
   "source": [
    "#### Missing values"
   ]
  },
  {
   "cell_type": "code",
   "execution_count": 5,
   "metadata": {},
   "outputs": [
    {
     "data": {
      "text/plain": [
       "id         0\n",
       "f0         0\n",
       "f1         0\n",
       "f2         0\n",
       "product    0\n",
       "dtype: int64"
      ]
     },
     "execution_count": 5,
     "metadata": {},
     "output_type": "execute_result"
    }
   ],
   "source": [
    "geo0.isnull().sum()"
   ]
  },
  {
   "cell_type": "markdown",
   "metadata": {},
   "source": [
    "#### Duplicates detection"
   ]
  },
  {
   "cell_type": "code",
   "execution_count": 6,
   "metadata": {},
   "outputs": [
    {
     "data": {
      "text/plain": [
       "0"
      ]
     },
     "execution_count": 6,
     "metadata": {},
     "output_type": "execute_result"
    }
   ],
   "source": [
    "geo2.duplicated().sum()"
   ]
  },
  {
   "cell_type": "markdown",
   "metadata": {},
   "source": [
    "<b>Conclusion</b>:<br>\n",
    "- There are neither missing values nor duplicates in the three datasets. <br>\n",
    "- 'id' column will have to be removed from prior to running linear regression<br>"
   ]
  },
  {
   "cell_type": "markdown",
   "metadata": {},
   "source": [
    "# Linear Regression Model"
   ]
  },
  {
   "cell_type": "markdown",
   "metadata": {},
   "source": [
    "### Scaling data"
   ]
  },
  {
   "cell_type": "code",
   "execution_count": 7,
   "metadata": {},
   "outputs": [],
   "source": [
    "def scaler(df):\n",
    "    numeric = ['f0', 'f1', 'f2']\n",
    "    scaler = StandardScaler()\n",
    "    scaler.fit(df[numeric])\n",
    "    df[numeric] = scaler.transform(df[numeric])\n",
    "    return df"
   ]
  },
  {
   "cell_type": "code",
   "execution_count": 8,
   "metadata": {},
   "outputs": [],
   "source": [
    "geo0 = scaler(geo0)\n",
    "geo1 = scaler(geo1)\n",
    "geo2 = scaler(geo2)"
   ]
  },
  {
   "cell_type": "markdown",
   "metadata": {},
   "source": [
    "### Making train and test dataset splits"
   ]
  },
  {
   "cell_type": "markdown",
   "metadata": {},
   "source": [
    "Let's split data into train and test sets 75 to 25% respectively."
   ]
  },
  {
   "cell_type": "code",
   "execution_count": 9,
   "metadata": {},
   "outputs": [],
   "source": [
    "# dataset 1\n",
    "X0 = geo0.drop(['product', 'id'], axis=1)\n",
    "y0 = geo0['product']            \n",
    "X0_train, X0_test, y0_train, y0_test = train_test_split(X0,y0, test_size=0.25, random_state=42)\n",
    "# dataset 2\n",
    "X1 = geo1.drop(['product', 'id'], axis=1)\n",
    "y1 = geo1['product']            \n",
    "X1_train, X1_test, y1_train, y1_test = train_test_split(X1,y1, test_size=0.25, random_state=42)\n",
    "# dataset 2\n",
    "X2 = geo2.drop(['product', 'id'], axis=1)\n",
    "y2 = geo2['product']            \n",
    "X2_train, X2_test, y2_train, y2_test = train_test_split(X2,y2, test_size=0.25, random_state=42)"
   ]
  },
  {
   "cell_type": "markdown",
   "metadata": {},
   "source": [
    "### Making predictions"
   ]
  },
  {
   "cell_type": "code",
   "execution_count": 10,
   "metadata": {},
   "outputs": [],
   "source": [
    "def get_score(X_train, y_train, X_test, y_test):\n",
    "    reg = LinearRegression().fit(X_train, y_train)\n",
    "    print(f'RMSE train set: {np.sqrt(metrics.mean_squared_error(y_train, reg.predict(X_train))):.2f}')\n",
    "    print(f'RMSE test set: {np.sqrt(metrics.mean_squared_error(y_test, reg.predict(X_test))):.2f}')\n",
    "    print(f'Average volume of predicted reserves: {reg.predict(X_test).mean():.2f}')\n",
    "    print(f'Average volume of actual reserves: {y_test.mean():.2f}')"
   ]
  },
  {
   "cell_type": "code",
   "execution_count": 11,
   "metadata": {},
   "outputs": [
    {
     "name": "stdout",
     "output_type": "stream",
     "text": [
      "RMSE train set: 37.67\n",
      "RMSE test set: 37.76\n",
      "Average volume of predicted reserves: 92.40\n",
      "Average volume of actual reserves: 92.33\n"
     ]
    }
   ],
   "source": [
    "get_score(X0_train, y0_train, X0_test, y0_test)"
   ]
  },
  {
   "cell_type": "code",
   "execution_count": 12,
   "metadata": {},
   "outputs": [
    {
     "name": "stdout",
     "output_type": "stream",
     "text": [
      "RMSE train set: 0.89\n",
      "RMSE test set: 0.89\n",
      "Average volume of predicted reserves: 68.71\n",
      "Average volume of actual reserves: 68.73\n"
     ]
    }
   ],
   "source": [
    "get_score(X1_train, y1_train, X1_test, y1_test)"
   ]
  },
  {
   "cell_type": "code",
   "execution_count": 13,
   "metadata": {},
   "outputs": [
    {
     "name": "stdout",
     "output_type": "stream",
     "text": [
      "RMSE train set: 40.03\n",
      "RMSE test set: 40.15\n",
      "Average volume of predicted reserves: 94.77\n",
      "Average volume of actual reserves: 95.15\n"
     ]
    }
   ],
   "source": [
    "get_score(X2_train, y2_train, X2_test, y2_test)"
   ]
  },
  {
   "cell_type": "markdown",
   "metadata": {},
   "source": [
    "<b>Conclusion</b>: The RMSE values for train and test datasets for regions #1 and #3 are relatively the same (37 and 40) and the average predicted values and average mean values are on the same order (92/92 and 94/95). The can conclude that data of these regions is more similar to one another, than to the second region. The linear model doesn't fit data for these two regions quite well, because the error (RMSE) is quite large. For the region #2 the RMSE is the least of all three regions (0.89), which suggests that the model better fits the data of this region. At the same time the average actual and predicted reserves are lower (68/68) than for the other two regions."
   ]
  },
  {
   "cell_type": "markdown",
   "metadata": {},
   "source": [
    "Now we are going to save predictions, e.g. we will create new data frames with actual and predicted reserves for all three regions, using the test sets."
   ]
  },
  {
   "cell_type": "code",
   "execution_count": 14,
   "metadata": {},
   "outputs": [],
   "source": [
    "def get_predictions(X_train, y_train, X_test, y_test):\n",
    "    reg = LinearRegression().fit(X_train, y_train)\n",
    "    df = pd.DataFrame()\n",
    "    df['actual'] = y_test\n",
    "    df['predicted'] = reg.predict(X_test)\n",
    "    return df"
   ]
  },
  {
   "cell_type": "code",
   "execution_count": 15,
   "metadata": {},
   "outputs": [],
   "source": [
    "df0 = get_predictions(X0_train, y0_train, X0_test, y0_test)"
   ]
  },
  {
   "cell_type": "code",
   "execution_count": 16,
   "metadata": {},
   "outputs": [],
   "source": [
    "df1 = get_predictions(X1_train, y1_train, X1_test, y1_test)"
   ]
  },
  {
   "cell_type": "code",
   "execution_count": 17,
   "metadata": {},
   "outputs": [],
   "source": [
    "df2 = get_predictions(X2_train, y2_train, X2_test, y2_test)"
   ]
  },
  {
   "cell_type": "markdown",
   "metadata": {},
   "source": [
    "# Profit calculation"
   ]
  },
  {
   "cell_type": "markdown",
   "metadata": {},
   "source": [
    "The budget for oil development is 100 USD million. Revenue from one unit of product is 4,500 dollars. As per the condition we need to study 500 point and pick 200 best points for the profit calculation. Let us calculate break even point, e.g. minimum production level from one well to cover its development cost."
   ]
  },
  {
   "cell_type": "code",
   "execution_count": 18,
   "metadata": {
    "scrolled": true
   },
   "outputs": [
    {
     "data": {
      "text/plain": [
       "111.11"
      ]
     },
     "execution_count": 18,
     "metadata": {},
     "output_type": "execute_result"
    }
   ],
   "source": [
    "TOTAL_BUDGET = (100*10**6)\n",
    "budget_per_well = TOTAL_BUDGET/200\n",
    "production_per_well = budget_per_well/4500\n",
    "round(production_per_well, 2)"
   ]
  },
  {
   "cell_type": "markdown",
   "metadata": {},
   "source": [
    "As such we need at least 111.11 units of product from one oil well. The average reserves levels for the three regions are much less than this number."
   ]
  },
  {
   "cell_type": "code",
   "execution_count": 19,
   "metadata": {},
   "outputs": [],
   "source": [
    "def get_profit(df):\n",
    "    '''fuction creates samples of 500 wells 1000 times, takes the best 200 of them\n",
    "    and calculates profit for these 200 best;\n",
    "    it saves the profit to a list, from which the mean profit for this region can be\n",
    "    calculated along with the confidence interval\n",
    "    '''\n",
    "    profit = []\n",
    "    for i in range(1000):\n",
    "        sample_rev = df.sample(500).sort_values(\n",
    "            'predicted', ascending=False).iloc[0:200, ].actual.sum()*4500\n",
    "        profit.append(sample_rev - TOTAL_BUDGET)\n",
    "    plt.hist(profit)\n",
    "    plt.title('Bootstrapped Histogram of Total Profit')\n",
    "    confidence_interval = [round(np.percentile(profit, 2.5)), round(np.percentile(profit, 97.5))]\n",
    "    risk_of_losses = st.percentileofscore(profit, 0)\n",
    "\n",
    "    print(f'Mean value for the profit in the region: {round(np.mean(profit))}')\n",
    "    print(f'95% Confidence interval: {confidence_interval}')\n",
    "    print(f'Risk of losses: {risk_of_losses}%')"
   ]
  },
  {
   "cell_type": "code",
   "execution_count": 20,
   "metadata": {},
   "outputs": [
    {
     "name": "stdout",
     "output_type": "stream",
     "text": [
      "Mean value for the profit in the region: 4122844\n",
      "95% Confidence interval: [-921899, 9421614]\n",
      "Risk of losses: 5.4%\n"
     ]
    },
    {
     "data": {
      "image/png": "[encoded data removed]",
      "text/plain": [
       "<Figure size 432x288 with 1 Axes>"
      ]
     },
     "metadata": {
      "needs_background": "light"
     },
     "output_type": "display_data"
    }
   ],
   "source": [
    "get_profit(df0)"
   ]
  },
  {
   "cell_type": "markdown",
   "metadata": {},
   "source": [
    "For the region #1 from the histogram we can see everything above zero is profitable and everything below zero is not profitable."
   ]
  },
  {
   "cell_type": "code",
   "execution_count": 21,
   "metadata": {},
   "outputs": [
    {
     "name": "stdout",
     "output_type": "stream",
     "text": [
      "Mean value for the profit in the region: 4389552\n",
      "95% Confidence interval: [389893, 8379664]\n",
      "Risk of losses: 1.7%\n"
     ]
    },
    {
     "data": {
      "image/png": "[encoded data removed]",
      "text/plain": [
       "<Figure size 432x288 with 1 Axes>"
      ]
     },
     "metadata": {
      "needs_background": "light"
     },
     "output_type": "display_data"
    }
   ],
   "source": [
    "get_profit(df1)"
   ]
  },
  {
   "cell_type": "code",
   "execution_count": 22,
   "metadata": {},
   "outputs": [
    {
     "name": "stdout",
     "output_type": "stream",
     "text": [
      "Mean value for the profit in the region: 3775695\n",
      "95% Confidence interval: [-1391182, 8732750]\n",
      "Risk of losses: 7.3%\n"
     ]
    },
    {
     "data": {
      "image/png": "[encoded data removed]",
      "text/plain": [
       "<Figure size 432x288 with 1 Axes>"
      ]
     },
     "metadata": {
      "needs_background": "light"
     },
     "output_type": "display_data"
    }
   ],
   "source": [
    "get_profit(df2)"
   ]
  },
  {
   "cell_type": "markdown",
   "metadata": {},
   "source": [
    "The other two regions have negative confidence intervals and 100% risk of losses."
   ]
  },
  {
   "cell_type": "markdown",
   "metadata": {},
   "source": [
    "# Conclusion"
   ]
  },
  {
   "cell_type": "markdown",
   "metadata": {},
   "source": [
    "Our calculations showed that the best region to drill new 200 wells is region #2. because it has the best confidence interval and lowest risks of losses.<br/>"
   ]
  }
 ],
 "metadata": {
  "kernelspec": {
   "display_name": "Python 3",
   "language": "python",
   "name": "python3"
  },
  "language_info": {
   "codemirror_mode": {
    "name": "ipython",
    "version": 3
   },
   "file_extension": ".py",
   "mimetype": "text/x-python",
   "name": "python",
   "nbconvert_exporter": "python",
   "pygments_lexer": "ipython3",
   "version": "3.8.5"
  },
  "toc": {
   "base_numbering": 1,
   "nav_menu": {},
   "number_sections": false,
   "sideBar": true,
   "skip_h1_title": false,
   "title_cell": "Table of Contents",
   "title_sidebar": "Contents",
   "toc_cell": true,
   "toc_position": {
    "height": "calc(100% - 180px)",
    "left": "10px",
    "top": "150px",
    "width": "380px"
   },
   "toc_section_display": true,
   "toc_window_display": true
  }
 },
 "nbformat": 4,
 "nbformat_minor": 4
}
